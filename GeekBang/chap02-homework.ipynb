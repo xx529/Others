{
  "nbformat": 4,
  "nbformat_minor": 0,
  "metadata": {
    "kernelspec": {
      "display_name": "Python 3",
      "language": "python",
      "name": "python3"
    },
    "language_info": {
      "codemirror_mode": {
        "name": "ipython",
        "version": 3
      },
      "file_extension": ".py",
      "mimetype": "text/x-python",
      "name": "python",
      "nbconvert_exporter": "python",
      "pygments_lexer": "ipython3",
      "version": "3.7.6"
    },
    "colab": {
      "name": "chap02-homework.ipynb",
      "provenance": [],
      "toc_visible": true,
      "include_colab_link": true
    }
  },
  "cells": [
    {
      "cell_type": "markdown",
      "metadata": {
        "id": "view-in-github",
        "colab_type": "text"
      },
      "source": [
        "<a href=\"https://colab.research.google.com/github/xx529/Others/blob/main/GeekBang/chap02-homework.ipynb\" target=\"_parent\"><img src=\"https://colab.research.google.com/assets/colab-badge.svg\" alt=\"Open In Colab\"/></a>"
      ]
    },
    {
      "cell_type": "markdown",
      "metadata": {
        "id": "b1KuTxT-97Hr"
      },
      "source": [
        "## 作业要求\n",
        "\n",
        "1. 优化 target mean 算法过程\n",
        "2. 用 Cython 加速\n",
        "3. 加入并行\n",
        "4. 附加题：完全符合真实工作需求，得分较高者会额外，优先进行内推\n",
        "    * 查看B-spline的介绍。\n",
        "    * 使用 cython 实现对输入多列返回 b-spline basis 的操作。\n",
        "    * 注意：禁止使用函数 recursive call。 \n",
        "    * 注意：必须要处理异常情况（例如缺失值，inf 等）。"
      ]
    },
    {
      "cell_type": "markdown",
      "metadata": {
        "id": "4va3Yb4Q97H0"
      },
      "source": [
        "### 随机数据"
      ]
    },
    {
      "cell_type": "code",
      "metadata": {
        "id": "cKpQExEv97H1"
      },
      "source": [
        "import numpy as np\n",
        "import pandas as pd\n",
        "import time\n",
        "import matplotlib.pyplot as plt"
      ],
      "execution_count": 2,
      "outputs": []
    },
    {
      "cell_type": "code",
      "metadata": {
        "id": "DAi-SKB497H2"
      },
      "source": [
        "y = np.random.randint(2, size=(5000, 1))\n",
        "x = np.random.randint(10, size=(5000, 1))\n",
        "data = pd.DataFrame(np.concatenate([y, x], axis=1), columns=['y', 'x'])"
      ],
      "execution_count": null,
      "outputs": []
    },
    {
      "cell_type": "markdown",
      "metadata": {
        "id": "9GSHRDdD97H3"
      },
      "source": [
        "### 示例算法"
      ]
    },
    {
      "cell_type": "code",
      "metadata": {
        "id": "By-QRCel97H3"
      },
      "source": [
        "def target_mean_v1(data, y_name, x_name):\n",
        "    result = np.zeros(data.shape[0])\n",
        "    for i in range(data.shape[0]):\n",
        "        groupby_result = data[data.index != i].groupby([x_name], as_index=False).agg(['mean', 'count'])\n",
        "        result[i] = groupby_result.loc[groupby_result.index == data.loc[i, x_name], (y_name, 'mean')]\n",
        "    return result"
      ],
      "execution_count": null,
      "outputs": []
    },
    {
      "cell_type": "code",
      "metadata": {
        "id": "9YSf332z97H3",
        "outputId": "8f8c1586-3be1-4049-89dc-eabc864757aa"
      },
      "source": [
        "%%time\n",
        "v1_ans = target_mean_v1(data, 'y', 'x')"
      ],
      "execution_count": null,
      "outputs": [
        {
          "output_type": "stream",
          "text": [
            "CPU times: user 38.8 s, sys: 9.98 ms, total: 38.8 s\n",
            "Wall time: 52.6 s\n"
          ],
          "name": "stdout"
        }
      ]
    },
    {
      "cell_type": "markdown",
      "metadata": {
        "id": "fGDoXdjJ97H5"
      },
      "source": [
        "### Python 优化"
      ]
    },
    {
      "cell_type": "code",
      "metadata": {
        "id": "Bufhzxn197H5"
      },
      "source": [
        "def target_mean_python(data, y_name, x_name):\n",
        "    temp = data.groupby(x_name).agg(['sum', 'count']).reset_index()\n",
        "    compute = lambda y, x, array: (array[x][1] - y) / (array[x][2] - 1)\n",
        "    data_dict = {(y,x): compute(y, x, temp.values) for y in data[y_name].unique() for x in temp[x_name].unique()}\n",
        "    result = np.array([data_dict[(y,x)] for _, (y, x) in data.iterrows()])\n",
        "    return result"
      ],
      "execution_count": null,
      "outputs": []
    },
    {
      "cell_type": "code",
      "metadata": {
        "id": "cS2o8fTB97H6",
        "outputId": "b7f327d2-fa14-47a5-b1ac-b20978dc7595"
      },
      "source": [
        "%%time\n",
        "python_ans = target_mean_python(data, 'y', 'x')\n",
        "assert (v1_ans == python_ans).all()\n",
        "print('pass')"
      ],
      "execution_count": null,
      "outputs": [
        {
          "output_type": "stream",
          "text": [
            "pass\n",
            "CPU times: user 513 ms, sys: 0 ns, total: 513 ms\n",
            "Wall time: 674 ms\n"
          ],
          "name": "stdout"
        }
      ]
    },
    {
      "cell_type": "markdown",
      "metadata": {
        "id": "n7lBX7sj97H7"
      },
      "source": [
        "### Pandas 优化"
      ]
    },
    {
      "cell_type": "code",
      "metadata": {
        "id": "SW7snn-r97H7"
      },
      "source": [
        "def target_mean_pandas(data, y_name, x_name):\n",
        "    temp = data.groupby(x_name).agg(['sum', 'count']).droplevel(0, axis=1).reset_index()\n",
        "    df_target_mean = pd.DataFrame(dtype=float, columns=temp.columns+[y_name])\n",
        "    for target in data[y_name].unique():\n",
        "        temp[y_name] = target\n",
        "        df_target_mean = pd.concat([temp, df_target_mean], axis=0)\n",
        "    df_target_mean['result'] = (df_target_mean['sum'] - df_target_mean[y_name]) / (df_target_mean['count'] - 1)\n",
        "    result = pd.merge(data, df_target_mean, on=[y_name, x_name], how='left')['result'].values\n",
        "    return result"
      ],
      "execution_count": null,
      "outputs": []
    },
    {
      "cell_type": "code",
      "metadata": {
        "id": "f3U_H5Di97H8",
        "outputId": "407f3f57-e090-4047-e1f8-58c09a79cbd4"
      },
      "source": [
        "%%time\n",
        "pandas_ans = target_mean_pandas(data, 'y', 'x')\n",
        "assert (v1_ans == pandas_ans).all()\n",
        "print('pass')"
      ],
      "execution_count": null,
      "outputs": [
        {
          "output_type": "stream",
          "text": [
            "pass\n",
            "CPU times: user 25.9 ms, sys: 982 µs, total: 26.9 ms\n",
            "Wall time: 57.9 ms\n"
          ],
          "name": "stdout"
        }
      ]
    },
    {
      "cell_type": "markdown",
      "metadata": {
        "id": "iyu8-iTN97H9"
      },
      "source": [
        "### Cython 优化\n",
        "\n",
        "1. for 循环求sum和count\n",
        "2. for 循环计算所有样本\n",
        "3. 优化以上两个点"
      ]
    },
    {
      "cell_type": "code",
      "metadata": {
        "id": "JVJPqbmc97H9"
      },
      "source": [
        ""
      ],
      "execution_count": null,
      "outputs": []
    }
  ]
}