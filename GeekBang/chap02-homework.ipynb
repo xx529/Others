{
  "nbformat": 4,
  "nbformat_minor": 0,
  "metadata": {
    "kernelspec": {
      "display_name": "Python 3",
      "language": "python",
      "name": "python3"
    },
    "language_info": {
      "codemirror_mode": {
        "name": "ipython",
        "version": 3
      },
      "file_extension": ".py",
      "mimetype": "text/x-python",
      "name": "python",
      "nbconvert_exporter": "python",
      "pygments_lexer": "ipython3",
      "version": "3.7.6"
    },
    "colab": {
      "name": "chap02-homework.ipynb",
      "provenance": [],
      "toc_visible": true,
      "include_colab_link": true
    }
  },
  "cells": [
    {
      "cell_type": "markdown",
      "metadata": {
        "id": "view-in-github",
        "colab_type": "text"
      },
      "source": [
        "<a href=\"https://colab.research.google.com/github/xx529/Others/blob/main/GeekBang/chap02-homework.ipynb\" target=\"_parent\"><img src=\"https://colab.research.google.com/assets/colab-badge.svg\" alt=\"Open In Colab\"/></a>"
      ]
    },
    {
      "cell_type": "markdown",
      "metadata": {
        "id": "b1KuTxT-97Hr"
      },
      "source": [
        "## 内容\n",
        "\n",
        "1. 优化 target mean 算法过程\n",
        "    * 用 Cython 加速\n",
        "    * 加入并行\n",
        "2. 使用 cython 实现对输入多列返回 B-spline basis 的操作。\n",
        "    * 查看 B-spline 的介绍。 https://www.cs.unc.edu/~dm/UNC/COMP258/Papers/bsplbasic.pdf\n",
        "    * 禁止使用函数 recursive call。 \n",
        "    * 必须要处理异常情况（例如缺失值，inf 等）。\n"
      ]
    },
    {
      "cell_type": "markdown",
      "metadata": {
        "id": "-TV4o-heJDjF"
      },
      "source": [
        "# 优化 target mean 算法"
      ]
    },
    {
      "cell_type": "markdown",
      "metadata": {
        "id": "4va3Yb4Q97H0"
      },
      "source": [
        "### 随机数据"
      ]
    },
    {
      "cell_type": "code",
      "metadata": {
        "id": "cKpQExEv97H1"
      },
      "source": [
        "import numpy as np\n",
        "import pandas as pd\n",
        "import matplotlib.pyplot as plt\n",
        "import time\n",
        "from collections import defaultdict"
      ],
      "execution_count": 563,
      "outputs": []
    },
    {
      "cell_type": "code",
      "metadata": {
        "id": "DAi-SKB497H2"
      },
      "source": [
        "y = np.random.randint(2, size=(5000, 1))\n",
        "x = np.random.randint(10, size=(5000, 1))\n",
        "data = pd.DataFrame(np.concatenate([y, x], axis=1), columns=['y', 'x'])\n",
        "comparison_dict = {'name':[], 'time':[]}"
      ],
      "execution_count": 564,
      "outputs": []
    },
    {
      "cell_type": "code",
      "metadata": {
        "id": "vFyntHJyuHIq"
      },
      "source": [
        "def cost(fun):\n",
        "    def wrap(*arg):\n",
        "        start = time.time()\n",
        "        fun_result = fun(*arg)\n",
        "        end = time.time()\n",
        "        time_result = end-start\n",
        "        return fun_result, time_result\n",
        "    return wrap"
      ],
      "execution_count": 565,
      "outputs": []
    },
    {
      "cell_type": "code",
      "metadata": {
        "colab": {
          "base_uri": "https://localhost:8080/",
          "height": 406
        },
        "id": "psKYl48yEW2J",
        "outputId": "0d9bc0e2-8d6e-43f2-90b6-5b4cc6b42ac1"
      },
      "source": [
        "data"
      ],
      "execution_count": 566,
      "outputs": [
        {
          "output_type": "execute_result",
          "data": {
            "text/html": [
              "<div>\n",
              "<style scoped>\n",
              "    .dataframe tbody tr th:only-of-type {\n",
              "        vertical-align: middle;\n",
              "    }\n",
              "\n",
              "    .dataframe tbody tr th {\n",
              "        vertical-align: top;\n",
              "    }\n",
              "\n",
              "    .dataframe thead th {\n",
              "        text-align: right;\n",
              "    }\n",
              "</style>\n",
              "<table border=\"1\" class=\"dataframe\">\n",
              "  <thead>\n",
              "    <tr style=\"text-align: right;\">\n",
              "      <th></th>\n",
              "      <th>y</th>\n",
              "      <th>x</th>\n",
              "    </tr>\n",
              "  </thead>\n",
              "  <tbody>\n",
              "    <tr>\n",
              "      <th>0</th>\n",
              "      <td>0</td>\n",
              "      <td>3</td>\n",
              "    </tr>\n",
              "    <tr>\n",
              "      <th>1</th>\n",
              "      <td>1</td>\n",
              "      <td>9</td>\n",
              "    </tr>\n",
              "    <tr>\n",
              "      <th>2</th>\n",
              "      <td>0</td>\n",
              "      <td>7</td>\n",
              "    </tr>\n",
              "    <tr>\n",
              "      <th>3</th>\n",
              "      <td>0</td>\n",
              "      <td>6</td>\n",
              "    </tr>\n",
              "    <tr>\n",
              "      <th>4</th>\n",
              "      <td>1</td>\n",
              "      <td>2</td>\n",
              "    </tr>\n",
              "    <tr>\n",
              "      <th>...</th>\n",
              "      <td>...</td>\n",
              "      <td>...</td>\n",
              "    </tr>\n",
              "    <tr>\n",
              "      <th>4995</th>\n",
              "      <td>0</td>\n",
              "      <td>6</td>\n",
              "    </tr>\n",
              "    <tr>\n",
              "      <th>4996</th>\n",
              "      <td>1</td>\n",
              "      <td>5</td>\n",
              "    </tr>\n",
              "    <tr>\n",
              "      <th>4997</th>\n",
              "      <td>0</td>\n",
              "      <td>3</td>\n",
              "    </tr>\n",
              "    <tr>\n",
              "      <th>4998</th>\n",
              "      <td>1</td>\n",
              "      <td>9</td>\n",
              "    </tr>\n",
              "    <tr>\n",
              "      <th>4999</th>\n",
              "      <td>0</td>\n",
              "      <td>1</td>\n",
              "    </tr>\n",
              "  </tbody>\n",
              "</table>\n",
              "<p>5000 rows × 2 columns</p>\n",
              "</div>"
            ],
            "text/plain": [
              "      y  x\n",
              "0     0  3\n",
              "1     1  9\n",
              "2     0  7\n",
              "3     0  6\n",
              "4     1  2\n",
              "...  .. ..\n",
              "4995  0  6\n",
              "4996  1  5\n",
              "4997  0  3\n",
              "4998  1  9\n",
              "4999  0  1\n",
              "\n",
              "[5000 rows x 2 columns]"
            ]
          },
          "metadata": {
            "tags": []
          },
          "execution_count": 566
        }
      ]
    },
    {
      "cell_type": "markdown",
      "metadata": {
        "id": "9GSHRDdD97H3"
      },
      "source": [
        "### Baseline v1"
      ]
    },
    {
      "cell_type": "code",
      "metadata": {
        "id": "By-QRCel97H3"
      },
      "source": [
        "@cost\n",
        "def target_mean_v1(data, y_name, x_name):\n",
        "    result = np.zeros(data.shape[0])\n",
        "    for i in range(data.shape[0]):\n",
        "        groupby_result = data[data.index != i].groupby([x_name], as_index=False).agg(['mean', 'count'])\n",
        "        result[i] = groupby_result.loc[groupby_result.index == data.loc[i, x_name], (y_name, 'mean')]\n",
        "    return result"
      ],
      "execution_count": 567,
      "outputs": []
    },
    {
      "cell_type": "code",
      "metadata": {
        "id": "9YSf332z97H3",
        "colab": {
          "base_uri": "https://localhost:8080/"
        },
        "outputId": "a0b24a0c-fa72-40fc-ecb9-98df8d817f96"
      },
      "source": [
        "%%time\n",
        "baseline_ans, temp = target_mean_v1(data, 'y', 'x')\n",
        "comparison_dict['name'].append('baseline_ans')\n",
        "comparison_dict['time'].append(temp)"
      ],
      "execution_count": 568,
      "outputs": [
        {
          "output_type": "stream",
          "text": [
            "CPU times: user 22.5 s, sys: 8.98 ms, total: 22.5 s\n",
            "Wall time: 22.5 s\n"
          ],
          "name": "stdout"
        }
      ]
    },
    {
      "cell_type": "markdown",
      "metadata": {
        "id": "PRkJAuXskahh"
      },
      "source": [
        "### Baseline v2"
      ]
    },
    {
      "cell_type": "code",
      "metadata": {
        "id": "mj-kJVvOj5mZ"
      },
      "source": [
        "@cost\n",
        "def target_mean_v2(data, y_name, x_name):\n",
        "    temp_dict = {}\n",
        "    result = np.zeros(shape=data.shape[0])\n",
        "\n",
        "    for i, row_data in data.iterrows():\n",
        "        x_value, y_value = row_data[x_name], row_data[y_name]\n",
        "        \n",
        "        if x_value not in temp_dict:\n",
        "            temp_dict[x_value] = {'sum': 0, 'count': 0}\n",
        "        \n",
        "        temp_dict[x_value]['sum'] += y_value\n",
        "        temp_dict[x_value]['count'] += 1\n",
        "\n",
        "    for i, row_data in data.iterrows():\n",
        "        x_value, y_value = row_data[x_name], row_data[y_name]\n",
        "        result[i] = (temp_dict[x_value]['sum'] - y_value) / (temp_dict[x_value]['count'] - 1)\n",
        "    \n",
        "    return result"
      ],
      "execution_count": 569,
      "outputs": []
    },
    {
      "cell_type": "code",
      "metadata": {
        "id": "WdK6q8rOkFs8",
        "outputId": "19a8400a-f8d2-4005-973f-b21b6d4e351f",
        "colab": {
          "base_uri": "https://localhost:8080/"
        }
      },
      "source": [
        "%%time\n",
        "v2_ans, temp = target_mean_v2(data, 'y', 'x')\n",
        "assert (baseline_ans == v2_ans).all()\n",
        "print('---- correct ----')\n",
        "comparison_dict['name'].append('baseline_v2')\n",
        "comparison_dict['time'].append(temp)"
      ],
      "execution_count": 570,
      "outputs": [
        {
          "output_type": "stream",
          "text": [
            "---- correct ----\n",
            "CPU times: user 786 ms, sys: 0 ns, total: 786 ms\n",
            "Wall time: 787 ms\n"
          ],
          "name": "stdout"
        }
      ]
    },
    {
      "cell_type": "markdown",
      "metadata": {
        "id": "fGDoXdjJ97H5"
      },
      "source": [
        "### Python"
      ]
    },
    {
      "cell_type": "code",
      "metadata": {
        "id": "Bufhzxn197H5"
      },
      "source": [
        "@cost\n",
        "def target_mean_python(data, y_name, x_name):\n",
        "    sum_dict = defaultdict(int)\n",
        "    count_dict = defaultdict(int)\n",
        "    \n",
        "    data_array = data.values\n",
        "    x_unique = set(data[x_name])\n",
        "    y_unique = set(data[y_name])\n",
        "    \n",
        "    for row in data_array:\n",
        "        sum_dict[row[1]] += row[0]\n",
        "        count_dict[row[1]] += 1\n",
        "\n",
        "    compute = lambda y, x, array: (sum_dict[x] - y) / (count_dict[x] - 1)\n",
        "    result_dict = {(y,x): compute(y, x, data_array) for y in y_unique for x in x_unique}\n",
        "    result = np.array([result_dict[(y, x)] for (y, x) in data_array])\n",
        "\n",
        "    return result"
      ],
      "execution_count": 571,
      "outputs": []
    },
    {
      "cell_type": "code",
      "metadata": {
        "id": "cS2o8fTB97H6",
        "colab": {
          "base_uri": "https://localhost:8080/"
        },
        "outputId": "4f3555b8-d2fb-4664-939f-55ceeb3c8059"
      },
      "source": [
        "%%time\n",
        "python_ans, temp = target_mean_python(data, 'y', 'x')\n",
        "assert (baseline_ans == python_ans).all()\n",
        "print('---- correct ----')\n",
        "comparison_dict['name'].append('python')\n",
        "comparison_dict['time'].append(temp)"
      ],
      "execution_count": 572,
      "outputs": [
        {
          "output_type": "stream",
          "text": [
            "---- correct ----\n",
            "CPU times: user 16.4 ms, sys: 0 ns, total: 16.4 ms\n",
            "Wall time: 16.5 ms\n"
          ],
          "name": "stdout"
        }
      ]
    },
    {
      "cell_type": "markdown",
      "metadata": {
        "id": "n7lBX7sj97H7"
      },
      "source": [
        "### Pandas"
      ]
    },
    {
      "cell_type": "code",
      "metadata": {
        "id": "SW7snn-r97H7"
      },
      "source": [
        "@cost\n",
        "def target_mean_pandas(data, y_name, x_name):\n",
        "    temp = data.groupby(x_name).agg(['sum', 'count']).droplevel(0, axis=1).reset_index()\n",
        "    \n",
        "    df_target_mean = pd.DataFrame(dtype=float, columns=temp.columns+[y_name])  \n",
        "    for target in data[y_name].unique():\n",
        "        temp[y_name] = target\n",
        "        df_target_mean = pd.concat([temp, df_target_mean], axis=0)\n",
        "    \n",
        "    df_target_mean['result'] = (df_target_mean['sum'] - df_target_mean[y_name]) / (df_target_mean['count'] - 1)\n",
        "    result = pd.merge(data, df_target_mean, on=[y_name, x_name], how='left')['result'].values\n",
        "    \n",
        "    return result"
      ],
      "execution_count": 573,
      "outputs": []
    },
    {
      "cell_type": "code",
      "metadata": {
        "id": "f3U_H5Di97H8",
        "colab": {
          "base_uri": "https://localhost:8080/"
        },
        "outputId": "50df8806-f7ac-47ec-eb5a-cc7712e0544a"
      },
      "source": [
        "%%time\n",
        "pandas_ans, temp = target_mean_pandas(data, 'y', 'x')\n",
        "assert (baseline_ans == pandas_ans).all()\n",
        "print('---- correct ----')\n",
        "comparison_dict['name'].append('pandas')\n",
        "comparison_dict['time'].append(temp)"
      ],
      "execution_count": 574,
      "outputs": [
        {
          "output_type": "stream",
          "text": [
            "---- correct ----\n",
            "CPU times: user 15.1 ms, sys: 1.01 ms, total: 16.1 ms\n",
            "Wall time: 16.8 ms\n"
          ],
          "name": "stdout"
        }
      ]
    },
    {
      "cell_type": "markdown",
      "metadata": {
        "id": "iyu8-iTN97H9"
      },
      "source": [
        "### Cython_v1"
      ]
    },
    {
      "cell_type": "code",
      "metadata": {
        "id": "IEky4jKqJiVl",
        "colab": {
          "base_uri": "https://localhost:8080/"
        },
        "outputId": "49a62765-448e-4316-c385-0443b0317444"
      },
      "source": [
        "%load_ext Cython"
      ],
      "execution_count": 575,
      "outputs": [
        {
          "output_type": "stream",
          "text": [
            "The Cython extension is already loaded. To reload it, use:\n",
            "  %reload_ext Cython\n"
          ],
          "name": "stdout"
        }
      ]
    },
    {
      "cell_type": "code",
      "metadata": {
        "id": "U0TXpdCwJW4o"
      },
      "source": [
        "%%cython\n",
        "\n",
        "cpdef target_mean_cython_v1(data, x_name, y_name):\n",
        "    cdef int row = data.shape[0]\n",
        "    cdef int col = data.shape[1]\n",
        "    cdef int[5000][2] array\n",
        "    cdef int i, j\n",
        "    \n",
        "    for i in range(row):\n",
        "        for j in range(col):\n",
        "            array[i][j] = data.iloc[i,j]\n",
        "\n",
        "    cdef int[10] count_list = [0,0,0,0,0,0,0,0,0,0]\n",
        "    cdef int[10] sum_list = [0,0,0,0,0,0,0,0,0,0]\n",
        "    cdef int x_value\n",
        "    cdef int y_value\n",
        "\n",
        "    for i in range(row):\n",
        "        x_value = array[i][1]\n",
        "        y_value = array[i][0]\n",
        "        count_list[x_value] += 1\n",
        "        sum_list[x_value] += y_value\n",
        "\n",
        "    cdef double result[5000]\n",
        "    for i in range(row):\n",
        "        x_value = array[i][1]\n",
        "        y_value = array[i][0]\n",
        "        result[i] = <double> (sum_list[x_value] - y_value) / (count_list[x_value] - 1)\n",
        "    \n",
        "    return result"
      ],
      "execution_count": 576,
      "outputs": []
    },
    {
      "cell_type": "code",
      "metadata": {
        "colab": {
          "base_uri": "https://localhost:8080/"
        },
        "id": "xPuNT_1Wwb5T",
        "outputId": "3a2e3317-6195-4571-f6f7-5422c4cbc53d"
      },
      "source": [
        "%%time\n",
        "start = time.time()\n",
        "assert (baseline_ans == np.array(target_mean_cython_v1(data, 'y', 'x'))).all()\n",
        "end = time.time()\n",
        "print('---- correct ----')\n",
        "comparison_dict['name'].append('cython_v1')\n",
        "comparison_dict['time'].append(end - start)"
      ],
      "execution_count": 577,
      "outputs": [
        {
          "output_type": "stream",
          "text": [
            "---- correct ----\n",
            "CPU times: user 215 ms, sys: 1 ms, total: 216 ms\n",
            "Wall time: 219 ms\n"
          ],
          "name": "stdout"
        }
      ]
    },
    {
      "cell_type": "markdown",
      "metadata": {
        "id": "YRnecFF5sU57"
      },
      "source": [
        "### 结果量级对比"
      ]
    },
    {
      "cell_type": "code",
      "metadata": {
        "id": "MlNIXqMo7SbO",
        "outputId": "d8e4f308-8dc0-4f2c-c2e1-8eabf3b499a0",
        "colab": {
          "base_uri": "https://localhost:8080/",
          "height": 387
        }
      },
      "source": [
        "df = pd.DataFrame(comparison_dict)\n",
        "df.index = df['name']\n",
        "df['time'] = np.log10(df['time']*1000).astype('int')\n",
        "df.sort_values('time', ascending=False).plot(kind='bar', figsize=(14, 5))\n",
        "plt.show()"
      ],
      "execution_count": 604,
      "outputs": [
        {
          "output_type": "display_data",
          "data": {
            "image/png": "[encoded data removed]",
            "text/plain": [
              "<Figure size 1008x360 with 1 Axes>"
            ]
          },
          "metadata": {
            "tags": [],
            "needs_background": "light"
          }
        }
      ]
    },
    {
      "cell_type": "markdown",
      "metadata": {
        "id": "MKSqpaTPK3Md"
      },
      "source": [
        "# B-spline basis 操作\n"
      ]
    },
    {
      "cell_type": "code",
      "metadata": {
        "id": "-aokL4Pv7ODf"
      },
      "source": [
        ""
      ],
      "execution_count": null,
      "outputs": []
    }
  ]
}