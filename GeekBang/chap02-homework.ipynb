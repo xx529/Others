{
 "cells": [
  {
   "cell_type": "markdown",
   "metadata": {},
   "source": [
    "## 作业要求\n",
    "\n",
    "1. 优化 target mean 算法过程\n",
    "2. 用 Cython 加速\n",
    "3. 加入并行\n",
    "4. 附加题：完全符合真实工作需求，得分较高者会额外，优先进行内推\n",
    "    * 查看B-spline的介绍。\n",
    "    * 使用 cython 实现对输入多列返回 b-spline basis 的操作。\n",
    "    * 注意：禁止使用函数 recursive call。 \n",
    "    * 注意：必须要处理异常情况（例如缺失值，inf 等）。"
   ]
  },
  {
   "cell_type": "markdown",
   "metadata": {},
   "source": [
    "### 随机数据"
   ]
  },
  {
   "cell_type": "code",
   "execution_count": 647,
   "metadata": {},
   "outputs": [],
   "source": [
    "import numpy as np\n",
    "import pandas as pd\n",
    "import time"
   ]
  },
  {
   "cell_type": "code",
   "execution_count": 648,
   "metadata": {},
   "outputs": [],
   "source": [
    "y = np.random.randint(2, size=(5000, 1))\n",
    "x = np.random.randint(10, size=(5000, 1))\n",
    "data = pd.DataFrame(np.concatenate([y, x], axis=1), columns=['y', 'x'])"
   ]
  },
  {
   "cell_type": "markdown",
   "metadata": {},
   "source": [
    "### 示例算法"
   ]
  },
  {
   "cell_type": "code",
   "execution_count": 649,
   "metadata": {},
   "outputs": [],
   "source": [
    "def target_mean_v1(data, y_name, x_name):\n",
    "    result = np.zeros(data.shape[0])\n",
    "    for i in range(data.shape[0]):\n",
    "        groupby_result = data[data.index != i].groupby([x_name], as_index=False).agg(['mean', 'count'])\n",
    "        result[i] = groupby_result.loc[groupby_result.index == data.loc[i, x_name], (y_name, 'mean')]\n",
    "    return result"
   ]
  },
  {
   "cell_type": "code",
   "execution_count": 650,
   "metadata": {},
   "outputs": [
    {
     "name": "stdout",
     "output_type": "stream",
     "text": [
      "CPU times: user 38.8 s, sys: 9.98 ms, total: 38.8 s\n",
      "Wall time: 52.6 s\n"
     ]
    }
   ],
   "source": [
    "%%time\n",
    "v1_ans = target_mean_v1(data, 'y', 'x')"
   ]
  },
  {
   "cell_type": "markdown",
   "metadata": {},
   "source": [
    "### Python 优化"
   ]
  },
  {
   "cell_type": "code",
   "execution_count": 651,
   "metadata": {},
   "outputs": [],
   "source": [
    "def target_mean_python(data, y_name, x_name):\n",
    "    temp = data.groupby(x_name).agg(['sum', 'count']).reset_index()\n",
    "    compute = lambda y, x, array: (array[x][1] - y) / (array[x][2] - 1)\n",
    "    data_dict = {(y,x): compute(y, x, temp.values) for y in data[y_name].unique() for x in temp[x_name].unique()}\n",
    "    result = np.array([data_dict[(y,x)] for _, (y, x) in data.iterrows()])\n",
    "    return result"
   ]
  },
  {
   "cell_type": "code",
   "execution_count": 652,
   "metadata": {},
   "outputs": [
    {
     "name": "stdout",
     "output_type": "stream",
     "text": [
      "pass\n",
      "CPU times: user 513 ms, sys: 0 ns, total: 513 ms\n",
      "Wall time: 674 ms\n"
     ]
    }
   ],
   "source": [
    "%%time\n",
    "python_ans = target_mean_python(data, 'y', 'x')\n",
    "assert (v1_ans == python_ans).all()\n",
    "print('pass')"
   ]
  },
  {
   "cell_type": "markdown",
   "metadata": {},
   "source": [
    "### Pandas 优化"
   ]
  },
  {
   "cell_type": "code",
   "execution_count": 653,
   "metadata": {},
   "outputs": [],
   "source": [
    "def target_mean_pandas(data, y_name, x_name):\n",
    "    temp = data.groupby(x_name).agg(['sum', 'count']).droplevel(0, axis=1).reset_index()\n",
    "    df_target_mean = pd.DataFrame(dtype=float, columns=temp.columns+[y_name])\n",
    "    for target in data[y_name].unique():\n",
    "        temp[y_name] = target\n",
    "        df_target_mean = pd.concat([temp, df_target_mean], axis=0)\n",
    "    df_target_mean['result'] = (df_target_mean['sum'] - df_target_mean[y_name]) / (df_target_mean['count'] - 1)\n",
    "    result = pd.merge(data, df_target_mean, on=[y_name, x_name], how='left')['result'].values\n",
    "    return result"
   ]
  },
  {
   "cell_type": "code",
   "execution_count": 654,
   "metadata": {},
   "outputs": [
    {
     "name": "stdout",
     "output_type": "stream",
     "text": [
      "pass\n",
      "CPU times: user 25.9 ms, sys: 982 µs, total: 26.9 ms\n",
      "Wall time: 57.9 ms\n"
     ]
    }
   ],
   "source": [
    "%%time\n",
    "pandas_ans = target_mean_pandas(data, 'y', 'x')\n",
    "assert (v1_ans == pandas_ans).all()\n",
    "print('pass')"
   ]
  },
  {
   "cell_type": "markdown",
   "metadata": {},
   "source": [
    "### Cython 优化\n",
    "\n",
    "1. for 循环求sum和count\n",
    "2. for 循环计算所有样本\n",
    "3. 优化以上两个点"
   ]
  },
  {
   "cell_type": "code",
   "execution_count": null,
   "metadata": {},
   "outputs": [],
   "source": []
  }
 ],
 "metadata": {
  "kernelspec": {
   "display_name": "Python 3",
   "language": "python",
   "name": "python3"
  },
  "language_info": {
   "codemirror_mode": {
    "name": "ipython",
    "version": 3
   },
   "file_extension": ".py",
   "mimetype": "text/x-python",
   "name": "python",
   "nbconvert_exporter": "python",
   "pygments_lexer": "ipython3",
   "version": "3.7.6"
  }
 },
 "nbformat": 4,
 "nbformat_minor": 4
}
