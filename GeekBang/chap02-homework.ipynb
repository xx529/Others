{
  "nbformat": 4,
  "nbformat_minor": 0,
  "metadata": {
    "kernelspec": {
      "display_name": "Python 3",
      "language": "python",
      "name": "python3"
    },
    "language_info": {
      "codemirror_mode": {
        "name": "ipython",
        "version": 3
      },
      "file_extension": ".py",
      "mimetype": "text/x-python",
      "name": "python",
      "nbconvert_exporter": "python",
      "pygments_lexer": "ipython3",
      "version": "3.7.6"
    },
    "colab": {
      "name": "chap02-homework.ipynb",
      "provenance": [],
      "include_colab_link": true
    }
  },
  "cells": [
    {
      "cell_type": "markdown",
      "metadata": {
        "id": "view-in-github",
        "colab_type": "text"
      },
      "source": [
        "<a href=\"https://colab.research.google.com/github/xx529/Others/blob/main/GeekBang/chap02-homework.ipynb\" target=\"_parent\"><img src=\"https://colab.research.google.com/assets/colab-badge.svg\" alt=\"Open In Colab\"/></a>"
      ]
    },
    {
      "cell_type": "markdown",
      "metadata": {
        "id": "b1KuTxT-97Hr"
      },
      "source": [
        "## 内容\n",
        "\n",
        "1. 优化 target mean 算法过程\n",
        "    * 用 Cython 加速\n",
        "    * 加入并行\n"
      ]
    },
    {
      "cell_type": "markdown",
      "metadata": {
        "id": "-TV4o-heJDjF"
      },
      "source": [
        "# 优化 target mean 算法"
      ]
    },
    {
      "cell_type": "markdown",
      "metadata": {
        "id": "4va3Yb4Q97H0"
      },
      "source": [
        "### 随机数据 1万条"
      ]
    },
    {
      "cell_type": "code",
      "metadata": {
        "id": "cKpQExEv97H1"
      },
      "source": [
        "import numpy as np\n",
        "import pandas as pd\n",
        "import matplotlib.pyplot as plt\n",
        "import time\n",
        "from collections import defaultdict\n",
        "from line_profiler import LineProfiler"
      ],
      "execution_count": 225,
      "outputs": []
    },
    {
      "cell_type": "code",
      "metadata": {
        "id": "DAi-SKB497H2"
      },
      "source": [
        "y = np.random.randint(2, size=(10000, 1))\n",
        "x = np.random.randint(10, size=(10000, 1))\n",
        "data = pd.DataFrame(np.concatenate([y, x], axis=1), columns=['y', 'x'])\n",
        "comparison_dict = {'name':[], 'time':[]}"
      ],
      "execution_count": 226,
      "outputs": []
    },
    {
      "cell_type": "code",
      "metadata": {
        "id": "vFyntHJyuHIq"
      },
      "source": [
        "def cost(fun):\n",
        "    def wrap(*arg):\n",
        "        start = time.time()\n",
        "        fun_result = fun(*arg)\n",
        "        end = time.time()\n",
        "        time_result = end-start\n",
        "        return fun_result, time_result\n",
        "    return wrap"
      ],
      "execution_count": 227,
      "outputs": []
    },
    {
      "cell_type": "code",
      "metadata": {
        "colab": {
          "base_uri": "https://localhost:8080/",
          "height": 391
        },
        "id": "psKYl48yEW2J",
        "outputId": "dd74f186-7cc3-40e7-aa93-dd4fb45f05e4"
      },
      "source": [
        "data"
      ],
      "execution_count": 228,
      "outputs": [
        {
          "output_type": "execute_result",
          "data": {
            "text/html": [
              "<div>\n",
              "<style scoped>\n",
              "    .dataframe tbody tr th:only-of-type {\n",
              "        vertical-align: middle;\n",
              "    }\n",
              "\n",
              "    .dataframe tbody tr th {\n",
              "        vertical-align: top;\n",
              "    }\n",
              "\n",
              "    .dataframe thead th {\n",
              "        text-align: right;\n",
              "    }\n",
              "</style>\n",
              "<table border=\"1\" class=\"dataframe\">\n",
              "  <thead>\n",
              "    <tr style=\"text-align: right;\">\n",
              "      <th></th>\n",
              "      <th>y</th>\n",
              "      <th>x</th>\n",
              "    </tr>\n",
              "  </thead>\n",
              "  <tbody>\n",
              "    <tr>\n",
              "      <th>0</th>\n",
              "      <td>0</td>\n",
              "      <td>8</td>\n",
              "    </tr>\n",
              "    <tr>\n",
              "      <th>1</th>\n",
              "      <td>0</td>\n",
              "      <td>5</td>\n",
              "    </tr>\n",
              "    <tr>\n",
              "      <th>2</th>\n",
              "      <td>1</td>\n",
              "      <td>7</td>\n",
              "    </tr>\n",
              "    <tr>\n",
              "      <th>3</th>\n",
              "      <td>0</td>\n",
              "      <td>6</td>\n",
              "    </tr>\n",
              "    <tr>\n",
              "      <th>4</th>\n",
              "      <td>0</td>\n",
              "      <td>8</td>\n",
              "    </tr>\n",
              "    <tr>\n",
              "      <th>...</th>\n",
              "      <td>...</td>\n",
              "      <td>...</td>\n",
              "    </tr>\n",
              "    <tr>\n",
              "      <th>9995</th>\n",
              "      <td>0</td>\n",
              "      <td>5</td>\n",
              "    </tr>\n",
              "    <tr>\n",
              "      <th>9996</th>\n",
              "      <td>0</td>\n",
              "      <td>5</td>\n",
              "    </tr>\n",
              "    <tr>\n",
              "      <th>9997</th>\n",
              "      <td>1</td>\n",
              "      <td>4</td>\n",
              "    </tr>\n",
              "    <tr>\n",
              "      <th>9998</th>\n",
              "      <td>0</td>\n",
              "      <td>3</td>\n",
              "    </tr>\n",
              "    <tr>\n",
              "      <th>9999</th>\n",
              "      <td>0</td>\n",
              "      <td>5</td>\n",
              "    </tr>\n",
              "  </tbody>\n",
              "</table>\n",
              "<p>10000 rows × 2 columns</p>\n",
              "</div>"
            ],
            "text/plain": [
              "      y  x\n",
              "0     0  8\n",
              "1     0  5\n",
              "2     1  7\n",
              "3     0  6\n",
              "4     0  8\n",
              "...  .. ..\n",
              "9995  0  5\n",
              "9996  0  5\n",
              "9997  1  4\n",
              "9998  0  3\n",
              "9999  0  5\n",
              "\n",
              "[10000 rows x 2 columns]"
            ]
          },
          "metadata": {
            "tags": []
          },
          "execution_count": 228
        }
      ]
    },
    {
      "cell_type": "markdown",
      "metadata": {
        "id": "9GSHRDdD97H3"
      },
      "source": [
        "### Baseline v1"
      ]
    },
    {
      "cell_type": "code",
      "metadata": {
        "id": "By-QRCel97H3"
      },
      "source": [
        "@cost\n",
        "def target_mean_v1(data, y_name, x_name):\n",
        "    result = np.zeros(data.shape[0])\n",
        "    for i in range(data.shape[0]):\n",
        "        groupby_result = data[data.index != i].groupby([x_name], as_index=False).agg(['mean', 'count'])\n",
        "        result[i] = groupby_result.loc[groupby_result.index == data.loc[i, x_name], (y_name, 'mean')]\n",
        "    return result"
      ],
      "execution_count": 229,
      "outputs": []
    },
    {
      "cell_type": "code",
      "metadata": {
        "id": "9YSf332z97H3",
        "colab": {
          "base_uri": "https://localhost:8080/"
        },
        "outputId": "321ebee2-d230-4d50-9fa9-cc1649ac7ab8"
      },
      "source": [
        "%%time\n",
        "baseline_ans, temp = target_mean_v1(data, 'y', 'x')\n",
        "comparison_dict['name'].append('baseline_ans')\n",
        "comparison_dict['time'].append(temp)"
      ],
      "execution_count": 230,
      "outputs": [
        {
          "output_type": "stream",
          "text": [
            "CPU times: user 1min 4s, sys: 42.8 ms, total: 1min 4s\n",
            "Wall time: 1min 5s\n"
          ],
          "name": "stdout"
        }
      ]
    },
    {
      "cell_type": "markdown",
      "metadata": {
        "id": "PRkJAuXskahh"
      },
      "source": [
        "### Baseline v2"
      ]
    },
    {
      "cell_type": "code",
      "metadata": {
        "id": "mj-kJVvOj5mZ"
      },
      "source": [
        "@cost\n",
        "def target_mean_v2(data, y_name, x_name):\n",
        "    temp_dict = {}\n",
        "    result = np.zeros(shape=data.shape[0])\n",
        "\n",
        "    for i, row_data in data.iterrows():\n",
        "        x_value, y_value = row_data[x_name], row_data[y_name]\n",
        "        \n",
        "        if x_value not in temp_dict:\n",
        "            temp_dict[x_value] = {'sum': 0, 'count': 0}\n",
        "        \n",
        "        temp_dict[x_value]['sum'] += y_value\n",
        "        temp_dict[x_value]['count'] += 1\n",
        "\n",
        "    for i, row_data in data.iterrows():\n",
        "        x_value, y_value = row_data[x_name], row_data[y_name]\n",
        "        result[i] = np.array((temp_dict[x_value]['sum'] - y_value) / (temp_dict[x_value]['count'] - 1))\n",
        "    \n",
        "    return result"
      ],
      "execution_count": 231,
      "outputs": []
    },
    {
      "cell_type": "code",
      "metadata": {
        "colab": {
          "base_uri": "https://localhost:8080/"
        },
        "id": "WdK6q8rOkFs8",
        "outputId": "e5ec4d95-abae-422a-e686-0bd4913a0b72"
      },
      "source": [
        "%%time\n",
        "v2_ans, temp = target_mean_v2(data, 'y', 'x')\n",
        "assert (baseline_ans == v2_ans).all()\n",
        "print('---- correct ----')\n",
        "comparison_dict['name'].append('baseline_v2')\n",
        "comparison_dict['time'].append(temp)"
      ],
      "execution_count": 232,
      "outputs": [
        {
          "output_type": "stream",
          "text": [
            "---- correct ----\n",
            "CPU times: user 2 s, sys: 3.98 ms, total: 2.01 s\n",
            "Wall time: 2.03 s\n"
          ],
          "name": "stdout"
        }
      ]
    },
    {
      "cell_type": "code",
      "metadata": {
        "id": "cS2o8fTB97H6",
        "colab": {
          "base_uri": "https://localhost:8080/"
        },
        "outputId": "ec842692-4ae6-45a4-9f7b-9bdc63db4eb3"
      },
      "source": [
        "%%time\n",
        "python_ans, temp = target_mean_python(data, 'y', 'x')\n",
        "assert (baseline_ans == python_ans).all()\n",
        "print('---- correct ----')\n",
        "comparison_dict['name'].append('python')\n",
        "comparison_dict['time'].append(temp)"
      ],
      "execution_count": 233,
      "outputs": [
        {
          "output_type": "stream",
          "text": [
            "---- correct ----\n",
            "CPU times: user 24.4 ms, sys: 0 ns, total: 24.4 ms\n",
            "Wall time: 26.1 ms\n"
          ],
          "name": "stdout"
        }
      ]
    },
    {
      "cell_type": "markdown",
      "metadata": {
        "id": "n7lBX7sj97H7"
      },
      "source": [
        "### Pandas"
      ]
    },
    {
      "cell_type": "code",
      "metadata": {
        "id": "SW7snn-r97H7"
      },
      "source": [
        "@cost\n",
        "def target_mean_pandas(data, y_name, x_name):\n",
        "    temp = data.groupby(x_name).agg(['sum', 'count']).droplevel(0, axis=1).reset_index()\n",
        "    \n",
        "    df_target_mean = pd.DataFrame(dtype=float, columns=temp.columns+[y_name])  \n",
        "    for target in data[y_name].unique():\n",
        "        temp[y_name] = target\n",
        "        df_target_mean = pd.concat([temp, df_target_mean], axis=0)\n",
        "    \n",
        "    df_target_mean['result'] = (df_target_mean['sum'] - df_target_mean[y_name]) / (df_target_mean['count'] - 1)\n",
        "    result = pd.merge(data, df_target_mean, on=[y_name, x_name], how='left')['result'].values\n",
        "    \n",
        "    return result"
      ],
      "execution_count": 234,
      "outputs": []
    },
    {
      "cell_type": "markdown",
      "metadata": {
        "id": "fGDoXdjJ97H5"
      },
      "source": [
        "### Python"
      ]
    },
    {
      "cell_type": "code",
      "metadata": {
        "id": "Bufhzxn197H5"
      },
      "source": [
        "@cost\n",
        "def target_mean_python(data, y_name, x_name):\n",
        "    sum_dict = defaultdict(int)\n",
        "    count_dict = defaultdict(int)\n",
        "    \n",
        "    x_array = data[x_name].values\n",
        "    y_array = data[y_name].values\n",
        "    \n",
        "    for x, y in zip(x_array, y_array):\n",
        "        sum_dict[x] += y\n",
        "        count_dict[x] += 1\n",
        "\n",
        "    result = np.array([(sum_dict[x] - y) / (count_dict[x] - 1)for x, y in zip(x_array, y_array)])\n",
        "\n",
        "    return result"
      ],
      "execution_count": 235,
      "outputs": []
    },
    {
      "cell_type": "code",
      "metadata": {
        "id": "f3U_H5Di97H8",
        "colab": {
          "base_uri": "https://localhost:8080/"
        },
        "outputId": "8e2a3ff8-bb3c-46b6-9e75-cb8d01935d6b"
      },
      "source": [
        "%%time\n",
        "pandas_ans, temp = target_mean_pandas(data, 'y', 'x')\n",
        "assert (baseline_ans == pandas_ans).all()\n",
        "print('---- correct ----')\n",
        "comparison_dict['name'].append('pandas')\n",
        "comparison_dict['time'].append(temp)"
      ],
      "execution_count": 236,
      "outputs": [
        {
          "output_type": "stream",
          "text": [
            "---- correct ----\n",
            "CPU times: user 23.7 ms, sys: 0 ns, total: 23.7 ms\n",
            "Wall time: 25.2 ms\n"
          ],
          "name": "stdout"
        }
      ]
    },
    {
      "cell_type": "markdown",
      "metadata": {
        "id": "iyu8-iTN97H9"
      },
      "source": [
        "### Cython_v1"
      ]
    },
    {
      "cell_type": "code",
      "metadata": {
        "id": "IEky4jKqJiVl"
      },
      "source": [
        "%load_ext Cython"
      ],
      "execution_count": 237,
      "outputs": []
    },
    {
      "cell_type": "code",
      "metadata": {
        "id": "U0TXpdCwJW4o"
      },
      "source": [
        "%%cython\n",
        "\n",
        "cpdef target_mean_cython_v1(data, x_name, y_name):\n",
        "    cdef int row = data.shape[0]\n",
        "    cdef int col = data.shape[1]\n",
        "    cdef int[10000][2] array\n",
        "    cdef int i, j\n",
        "    \n",
        "    for i in range(row):\n",
        "        for j in range(col):\n",
        "            array[i][j] = data.iloc[i,j]\n",
        "\n",
        "    cdef int[10] count_list = [0,0,0,0,0,0,0,0,0,0]\n",
        "    cdef int[10] sum_list = [0,0,0,0,0,0,0,0,0,0]\n",
        "    cdef int x_value\n",
        "    cdef int y_value\n",
        "\n",
        "    for i in range(row):\n",
        "        x_value = array[i][1]\n",
        "        y_value = array[i][0]\n",
        "        count_list[x_value] += 1\n",
        "        sum_list[x_value] += y_value\n",
        "\n",
        "    cdef double result[10000]\n",
        "    for i in range(row):\n",
        "        x_value = array[i][1]\n",
        "        y_value = array[i][0]\n",
        "        result[i] = <double> (sum_list[x_value] - y_value) / (count_list[x_value] - 1)\n",
        "    \n",
        "    return result"
      ],
      "execution_count": 238,
      "outputs": []
    },
    {
      "cell_type": "code",
      "metadata": {
        "colab": {
          "base_uri": "https://localhost:8080/"
        },
        "id": "xPuNT_1Wwb5T",
        "outputId": "f3925235-c367-4bc8-d12a-68a0dc5058a3"
      },
      "source": [
        "%%time\n",
        "start = time.time()\n",
        "assert (baseline_ans == np.array(target_mean_cython_v1(data, 'y', 'x'))).all()\n",
        "end = time.time()\n",
        "print('---- correct ----')\n",
        "comparison_dict['name'].append('cython_v1')\n",
        "comparison_dict['time'].append(end - start)"
      ],
      "execution_count": 239,
      "outputs": [
        {
          "output_type": "stream",
          "text": [
            "---- correct ----\n",
            "CPU times: user 505 ms, sys: 4.82 ms, total: 510 ms\n",
            "Wall time: 521 ms\n"
          ],
          "name": "stdout"
        }
      ]
    },
    {
      "cell_type": "markdown",
      "metadata": {
        "id": "BMOWs0QABysY"
      },
      "source": [
        "## Cython_v2"
      ]
    },
    {
      "cell_type": "code",
      "metadata": {
        "id": "hWkaYeItB2fb"
      },
      "source": [
        "%%cython \n",
        "\n",
        "cimport numpy as cnp\n",
        "import numpy as np\n",
        "\n",
        "cpdef target_mean_cython_v2(data, y_name, x_name):\n",
        "    cdef:\n",
        "        cnp.ndarray[cnp.float64_t] result = np.zeros(shape=data.shape[0])\n",
        "        cnp.ndarray[cnp.int_t] x_array = data[x_name].values\n",
        "        cnp.ndarray[cnp.int_t] y_array = data[y_name].values\n",
        "        int row = data.shape[0]\n",
        "        dict sum_dict = {}\n",
        "        dict count_dict = {}\n",
        "\n",
        "    for i in range(row):\n",
        "        x = x_array[i]\n",
        "        if x not in sum_dict:\n",
        "            sum_dict[x], count_dict[x] = 0, 0\n",
        "    \n",
        "        sum_dict[x] += y_array[i]\n",
        "        count_dict[x] += 1\n",
        "\n",
        "    for i in range(row):\n",
        "        x = x_array[i]\n",
        "        result[i] = (sum_dict[x] - y_array[i]) / (count_dict[x] - 1)\n",
        "    \n",
        "    return result\n"
      ],
      "execution_count": 240,
      "outputs": []
    },
    {
      "cell_type": "code",
      "metadata": {
        "id": "vr8UBwL0Ds8E",
        "colab": {
          "base_uri": "https://localhost:8080/"
        },
        "outputId": "ccbf913a-45f6-4f0e-8765-cd1c647ed133"
      },
      "source": [
        "%%time\n",
        "start = time.time()\n",
        "assert (baseline_ans == np.array(target_mean_cython_v2(data, 'y', 'x'))).all()\n",
        "end = time.time()\n",
        "print('---- correct ----')\n",
        "comparison_dict['name'].append('cython_v2')\n",
        "comparison_dict['time'].append(end - start)"
      ],
      "execution_count": 241,
      "outputs": [
        {
          "output_type": "stream",
          "text": [
            "---- correct ----\n",
            "CPU times: user 5.5 ms, sys: 0 ns, total: 5.5 ms\n",
            "Wall time: 6.19 ms\n"
          ],
          "name": "stdout"
        }
      ]
    },
    {
      "cell_type": "markdown",
      "metadata": {
        "id": "wj9k_wx7DoaN"
      },
      "source": [
        "##Cython_v3"
      ]
    },
    {
      "cell_type": "code",
      "metadata": {
        "id": "nL6rE9gsDtYZ"
      },
      "source": [
        "%%cython\n",
        "\n",
        "cimport numpy as cnp\n",
        "import numpy as np\n",
        "from cython.parallel import prange\n",
        "\n",
        "\n",
        "cpdef target_mean_cython_v3(data, y_name, x_name):\n",
        "    cdef:\n",
        "        cnp.ndarray[cnp.float64_t] result = np.zeros(shape=data.shape[0])\n",
        "        cnp.ndarray[cnp.int_t] x_array = data[x_name].values\n",
        "        cnp.ndarray[cnp.int_t] y_array = data[y_name].values\n",
        "        int row = data.shape[0]\n",
        "        double[:,] sum_dict = np.zeros(10, dtype=np.float64)\n",
        "        double[:,] count_dict = np.zeros(10, dtype=np.float64)\n",
        "        int i\n",
        "\n",
        "    for i in prange(row, nogil=True):\n",
        "        sum_dict[x_array[i]] += y_array[i]\n",
        "        count_dict[x_array[i]] += 1\n",
        "\n",
        "    for i in prange(row, nogil=True):\n",
        "        result[i] = (sum_dict[x_array[i]] - y_array[i]) / (count_dict[x_array[i]] - 1)\n",
        "    \n",
        "    return result\n"
      ],
      "execution_count": 242,
      "outputs": []
    },
    {
      "cell_type": "code",
      "metadata": {
        "id": "XaMAIvg-Dum2",
        "outputId": "566e46ca-2210-4f75-f3ca-a6803b3d7544",
        "colab": {
          "base_uri": "https://localhost:8080/"
        }
      },
      "source": [
        "%%time\n",
        "start = time.time()\n",
        "assert (baseline_ans == np.array(target_mean_cython_v3(data, 'y', 'x'))).all()\n",
        "end = time.time()\n",
        "print('---- correct ----')\n",
        "comparison_dict['name'].append('cython_v3')\n",
        "comparison_dict['time'].append(end - start)"
      ],
      "execution_count": 243,
      "outputs": [
        {
          "output_type": "stream",
          "text": [
            "---- correct ----\n",
            "CPU times: user 988 µs, sys: 0 ns, total: 988 µs\n",
            "Wall time: 1.28 ms\n"
          ],
          "name": "stdout"
        }
      ]
    },
    {
      "cell_type": "markdown",
      "metadata": {
        "id": "YRnecFF5sU57"
      },
      "source": [
        "## 量级对比"
      ]
    },
    {
      "cell_type": "code",
      "metadata": {
        "colab": {
          "base_uri": "https://localhost:8080/",
          "height": 390
        },
        "id": "MlNIXqMo7SbO",
        "outputId": "f66110e6-b550-4f5a-a10d-96e5ff3c703b"
      },
      "source": [
        "df = pd.DataFrame(comparison_dict)\n",
        "df.index = df['name']\n",
        "df['time'] = round(np.log10(df['time']*1000), 1)\n",
        "df.sort_values('time', ascending=False).plot(kind='bar', figsize=(14, 5))\n",
        "plt.show()"
      ],
      "execution_count": 244,
      "outputs": [
        {
          "output_type": "display_data",
          "data": {
            "image/png": "[encoded data removed]",
            "text/plain": [
              "<Figure size 1008x360 with 1 Axes>"
            ]
          },
          "metadata": {
            "tags": [],
            "needs_background": "light"
          }
        }
      ]
    }
  ]
}