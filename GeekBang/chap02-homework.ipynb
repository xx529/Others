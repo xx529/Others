{
  "nbformat": 4,
  "nbformat_minor": 0,
  "metadata": {
    "kernelspec": {
      "display_name": "Python 3",
      "language": "python",
      "name": "python3"
    },
    "language_info": {
      "codemirror_mode": {
        "name": "ipython",
        "version": 3
      },
      "file_extension": ".py",
      "mimetype": "text/x-python",
      "name": "python",
      "nbconvert_exporter": "python",
      "pygments_lexer": "ipython3",
      "version": "3.7.6"
    },
    "colab": {
      "name": "chap02-homework.ipynb",
      "provenance": [],
      "include_colab_link": true
    }
  },
  "cells": [
    {
      "cell_type": "markdown",
      "metadata": {
        "id": "view-in-github",
        "colab_type": "text"
      },
      "source": [
        "<a href=\"https://colab.research.google.com/github/xx529/Others/blob/main/GeekBang/chap02-homework.ipynb\" target=\"_parent\"><img src=\"https://colab.research.google.com/assets/colab-badge.svg\" alt=\"Open In Colab\"/></a>"
      ]
    },
    {
      "cell_type": "markdown",
      "metadata": {
        "id": "b1KuTxT-97Hr"
      },
      "source": [
        "## 内容\n",
        "\n",
        "1. 优化 target mean 算法过程\n",
        "    * 用 Cython 加速\n",
        "    * 加入并行\n"
      ]
    },
    {
      "cell_type": "markdown",
      "metadata": {
        "id": "-TV4o-heJDjF"
      },
      "source": [
        "# 优化 target mean 算法"
      ]
    },
    {
      "cell_type": "markdown",
      "metadata": {
        "id": "4va3Yb4Q97H0"
      },
      "source": [
        "### 随机数据 1万条"
      ]
    },
    {
      "cell_type": "code",
      "metadata": {
        "id": "cKpQExEv97H1"
      },
      "source": [
        "import numpy as np\n",
        "import pandas as pd\n",
        "import matplotlib.pyplot as plt\n",
        "import time\n",
        "from collections import defaultdict\n",
        "from line_profiler import LineProfiler"
      ],
      "execution_count": 99,
      "outputs": []
    },
    {
      "cell_type": "code",
      "metadata": {
        "id": "DAi-SKB497H2"
      },
      "source": [
        "y = np.random.randint(2, size=(10000, 1))\n",
        "x = np.random.randint(10, size=(10000, 1))\n",
        "data = pd.DataFrame(np.concatenate([y, x], axis=1), columns=['y', 'x'])\n",
        "comparison_dict = {'name':[], 'time':[]}"
      ],
      "execution_count": 100,
      "outputs": []
    },
    {
      "cell_type": "code",
      "metadata": {
        "id": "vFyntHJyuHIq"
      },
      "source": [
        "def cost(fun):\n",
        "    def wrap(*arg):\n",
        "        start = time.time()\n",
        "        fun_result = fun(*arg)\n",
        "        end = time.time()\n",
        "        time_result = end-start\n",
        "        return fun_result, time_result\n",
        "    return wrap"
      ],
      "execution_count": 101,
      "outputs": []
    },
    {
      "cell_type": "code",
      "metadata": {
        "colab": {
          "base_uri": "https://localhost:8080/",
          "height": 391
        },
        "id": "psKYl48yEW2J",
        "outputId": "4fa0c3b0-2f63-4dae-92c6-cb172ae86ac8"
      },
      "source": [
        "data"
      ],
      "execution_count": 102,
      "outputs": [
        {
          "output_type": "execute_result",
          "data": {
            "text/html": [
              "<div>\n",
              "<style scoped>\n",
              "    .dataframe tbody tr th:only-of-type {\n",
              "        vertical-align: middle;\n",
              "    }\n",
              "\n",
              "    .dataframe tbody tr th {\n",
              "        vertical-align: top;\n",
              "    }\n",
              "\n",
              "    .dataframe thead th {\n",
              "        text-align: right;\n",
              "    }\n",
              "</style>\n",
              "<table border=\"1\" class=\"dataframe\">\n",
              "  <thead>\n",
              "    <tr style=\"text-align: right;\">\n",
              "      <th></th>\n",
              "      <th>y</th>\n",
              "      <th>x</th>\n",
              "    </tr>\n",
              "  </thead>\n",
              "  <tbody>\n",
              "    <tr>\n",
              "      <th>0</th>\n",
              "      <td>0</td>\n",
              "      <td>7</td>\n",
              "    </tr>\n",
              "    <tr>\n",
              "      <th>1</th>\n",
              "      <td>0</td>\n",
              "      <td>1</td>\n",
              "    </tr>\n",
              "    <tr>\n",
              "      <th>2</th>\n",
              "      <td>1</td>\n",
              "      <td>6</td>\n",
              "    </tr>\n",
              "    <tr>\n",
              "      <th>3</th>\n",
              "      <td>1</td>\n",
              "      <td>0</td>\n",
              "    </tr>\n",
              "    <tr>\n",
              "      <th>4</th>\n",
              "      <td>0</td>\n",
              "      <td>3</td>\n",
              "    </tr>\n",
              "    <tr>\n",
              "      <th>...</th>\n",
              "      <td>...</td>\n",
              "      <td>...</td>\n",
              "    </tr>\n",
              "    <tr>\n",
              "      <th>9995</th>\n",
              "      <td>1</td>\n",
              "      <td>2</td>\n",
              "    </tr>\n",
              "    <tr>\n",
              "      <th>9996</th>\n",
              "      <td>0</td>\n",
              "      <td>1</td>\n",
              "    </tr>\n",
              "    <tr>\n",
              "      <th>9997</th>\n",
              "      <td>0</td>\n",
              "      <td>3</td>\n",
              "    </tr>\n",
              "    <tr>\n",
              "      <th>9998</th>\n",
              "      <td>0</td>\n",
              "      <td>4</td>\n",
              "    </tr>\n",
              "    <tr>\n",
              "      <th>9999</th>\n",
              "      <td>1</td>\n",
              "      <td>6</td>\n",
              "    </tr>\n",
              "  </tbody>\n",
              "</table>\n",
              "<p>10000 rows × 2 columns</p>\n",
              "</div>"
            ],
            "text/plain": [
              "      y  x\n",
              "0     0  7\n",
              "1     0  1\n",
              "2     1  6\n",
              "3     1  0\n",
              "4     0  3\n",
              "...  .. ..\n",
              "9995  1  2\n",
              "9996  0  1\n",
              "9997  0  3\n",
              "9998  0  4\n",
              "9999  1  6\n",
              "\n",
              "[10000 rows x 2 columns]"
            ]
          },
          "metadata": {
            "tags": []
          },
          "execution_count": 102
        }
      ]
    },
    {
      "cell_type": "markdown",
      "metadata": {
        "id": "9GSHRDdD97H3"
      },
      "source": [
        "### Baseline v1"
      ]
    },
    {
      "cell_type": "code",
      "metadata": {
        "id": "By-QRCel97H3"
      },
      "source": [
        "@cost\n",
        "def target_mean_v1(data, y_name, x_name):\n",
        "    result = np.zeros(data.shape[0])\n",
        "    for i in range(data.shape[0]):\n",
        "        groupby_result = data[data.index != i].groupby([x_name], as_index=False).agg(['mean', 'count'])\n",
        "        result[i] = groupby_result.loc[groupby_result.index == data.loc[i, x_name], (y_name, 'mean')]\n",
        "    return result"
      ],
      "execution_count": 103,
      "outputs": []
    },
    {
      "cell_type": "code",
      "metadata": {
        "id": "9YSf332z97H3",
        "colab": {
          "base_uri": "https://localhost:8080/"
        },
        "outputId": "189b448a-e7f1-4cd8-e18b-c3a877c73f31"
      },
      "source": [
        "%%time\n",
        "baseline_ans, temp = target_mean_v1(data, 'y', 'x')\n",
        "comparison_dict['name'].append('baseline_ans')\n",
        "comparison_dict['time'].append(temp)"
      ],
      "execution_count": 104,
      "outputs": [
        {
          "output_type": "stream",
          "text": [
            "CPU times: user 58.3 s, sys: 31.6 ms, total: 58.4 s\n",
            "Wall time: 59 s\n"
          ],
          "name": "stdout"
        }
      ]
    },
    {
      "cell_type": "markdown",
      "metadata": {
        "id": "PRkJAuXskahh"
      },
      "source": [
        "### Baseline v2"
      ]
    },
    {
      "cell_type": "code",
      "metadata": {
        "id": "mj-kJVvOj5mZ"
      },
      "source": [
        "@cost\n",
        "def target_mean_v2(data, y_name, x_name):\n",
        "    temp_dict = {}\n",
        "    result = np.zeros(shape=data.shape[0])\n",
        "\n",
        "    for i, row_data in data.iterrows():\n",
        "        x_value, y_value = row_data[x_name], row_data[y_name]\n",
        "        \n",
        "        if x_value not in temp_dict:\n",
        "            temp_dict[x_value] = {'sum': 0, 'count': 0}\n",
        "        \n",
        "        temp_dict[x_value]['sum'] += y_value\n",
        "        temp_dict[x_value]['count'] += 1\n",
        "\n",
        "    for i, row_data in data.iterrows():\n",
        "        x_value, y_value = row_data[x_name], row_data[y_name]\n",
        "        result[i] = np.array((temp_dict[x_value]['sum'] - y_value) / (temp_dict[x_value]['count'] - 1))\n",
        "    \n",
        "    return result"
      ],
      "execution_count": 105,
      "outputs": []
    },
    {
      "cell_type": "code",
      "metadata": {
        "colab": {
          "base_uri": "https://localhost:8080/"
        },
        "id": "WdK6q8rOkFs8",
        "outputId": "8a2c9033-898f-44fe-a4d5-006e5f701157"
      },
      "source": [
        "%%time\n",
        "v2_ans, temp = target_mean_v2(data, 'y', 'x')\n",
        "assert (baseline_ans == v2_ans).all()\n",
        "print('---- correct ----')\n",
        "comparison_dict['name'].append('baseline_v2')\n",
        "comparison_dict['time'].append(temp)"
      ],
      "execution_count": 106,
      "outputs": [
        {
          "output_type": "stream",
          "text": [
            "---- correct ----\n",
            "CPU times: user 2.02 s, sys: 3.95 ms, total: 2.03 s\n",
            "Wall time: 2.06 s\n"
          ],
          "name": "stdout"
        }
      ]
    },
    {
      "cell_type": "code",
      "metadata": {
        "id": "cS2o8fTB97H6",
        "colab": {
          "base_uri": "https://localhost:8080/"
        },
        "outputId": "beb10c48-7866-4455-e67b-c4fed9281c91"
      },
      "source": [
        "%%time\n",
        "python_ans, temp = target_mean_python(data, 'y', 'x')\n",
        "assert (baseline_ans == python_ans).all()\n",
        "print('---- correct ----')\n",
        "comparison_dict['name'].append('python')\n",
        "comparison_dict['time'].append(temp)"
      ],
      "execution_count": 107,
      "outputs": [
        {
          "output_type": "stream",
          "text": [
            "---- correct ----\n",
            "CPU times: user 22.9 ms, sys: 0 ns, total: 22.9 ms\n",
            "Wall time: 24 ms\n"
          ],
          "name": "stdout"
        }
      ]
    },
    {
      "cell_type": "markdown",
      "metadata": {
        "id": "n7lBX7sj97H7"
      },
      "source": [
        "### Pandas"
      ]
    },
    {
      "cell_type": "code",
      "metadata": {
        "id": "SW7snn-r97H7"
      },
      "source": [
        "@cost\n",
        "def target_mean_pandas(data, y_name, x_name):\n",
        "    temp = data.groupby(x_name).agg(['sum', 'count']).droplevel(0, axis=1).reset_index()\n",
        "    \n",
        "    df_target_mean = pd.DataFrame(dtype=float, columns=temp.columns+[y_name])  \n",
        "    for target in data[y_name].unique():\n",
        "        temp[y_name] = target\n",
        "        df_target_mean = pd.concat([temp, df_target_mean], axis=0)\n",
        "    \n",
        "    df_target_mean['result'] = (df_target_mean['sum'] - df_target_mean[y_name]) / (df_target_mean['count'] - 1)\n",
        "    result = pd.merge(data, df_target_mean, on=[y_name, x_name], how='left')['result'].values\n",
        "    \n",
        "    return result"
      ],
      "execution_count": 108,
      "outputs": []
    },
    {
      "cell_type": "markdown",
      "metadata": {
        "id": "fGDoXdjJ97H5"
      },
      "source": [
        "### Python"
      ]
    },
    {
      "cell_type": "code",
      "metadata": {
        "id": "Bufhzxn197H5"
      },
      "source": [
        "@cost\n",
        "def target_mean_python(data, y_name, x_name):\n",
        "    sum_dict = defaultdict(int)\n",
        "    count_dict = defaultdict(int)\n",
        "    \n",
        "    x_array = data[x_name].values\n",
        "    y_array = data[y_name].values\n",
        "    \n",
        "    for x, y in zip(x_array, y_array):\n",
        "        sum_dict[x] += y\n",
        "        count_dict[x] += 1\n",
        "\n",
        "    result = np.array([(sum_dict[x] - y) / (count_dict[x] - 1)for x, y in zip(x_array, y_array)])\n",
        "\n",
        "    return result"
      ],
      "execution_count": 109,
      "outputs": []
    },
    {
      "cell_type": "code",
      "metadata": {
        "id": "f3U_H5Di97H8",
        "colab": {
          "base_uri": "https://localhost:8080/"
        },
        "outputId": "0526006a-52c8-4402-b8fa-16583f273be7"
      },
      "source": [
        "%%time\n",
        "pandas_ans, temp = target_mean_pandas(data, 'y', 'x')\n",
        "assert (baseline_ans == pandas_ans).all()\n",
        "print('---- correct ----')\n",
        "comparison_dict['name'].append('pandas')\n",
        "comparison_dict['time'].append(temp)"
      ],
      "execution_count": 110,
      "outputs": [
        {
          "output_type": "stream",
          "text": [
            "---- correct ----\n",
            "CPU times: user 31.2 ms, sys: 2.01 ms, total: 33.3 ms\n",
            "Wall time: 32.8 ms\n"
          ],
          "name": "stdout"
        }
      ]
    },
    {
      "cell_type": "markdown",
      "metadata": {
        "id": "iyu8-iTN97H9"
      },
      "source": [
        "### Cython_v1"
      ]
    },
    {
      "cell_type": "code",
      "metadata": {
        "id": "IEky4jKqJiVl"
      },
      "source": [
        "# %load_ext Cython"
      ],
      "execution_count": 111,
      "outputs": []
    },
    {
      "cell_type": "code",
      "metadata": {
        "id": "U0TXpdCwJW4o"
      },
      "source": [
        "%%cython\n",
        "\n",
        "cpdef target_mean_cython_v1(data, x_name, y_name):\n",
        "    cdef int row = data.shape[0]\n",
        "    cdef int col = data.shape[1]\n",
        "    cdef int[10000][2] array\n",
        "    cdef int i, j\n",
        "    \n",
        "    for i in range(row):\n",
        "        for j in range(col):\n",
        "            array[i][j] = data.iloc[i,j]\n",
        "\n",
        "    cdef int[10] count_list = [0,0,0,0,0,0,0,0,0,0]\n",
        "    cdef int[10] sum_list = [0,0,0,0,0,0,0,0,0,0]\n",
        "    cdef int x_value\n",
        "    cdef int y_value\n",
        "\n",
        "    for i in range(row):\n",
        "        x_value = array[i][1]\n",
        "        y_value = array[i][0]\n",
        "        count_list[x_value] += 1\n",
        "        sum_list[x_value] += y_value\n",
        "\n",
        "    cdef double result[10000]\n",
        "    for i in range(row):\n",
        "        x_value = array[i][1]\n",
        "        y_value = array[i][0]\n",
        "        result[i] = <double> (sum_list[x_value] - y_value) / (count_list[x_value] - 1)\n",
        "    \n",
        "    return result"
      ],
      "execution_count": 112,
      "outputs": []
    },
    {
      "cell_type": "code",
      "metadata": {
        "colab": {
          "base_uri": "https://localhost:8080/"
        },
        "id": "xPuNT_1Wwb5T",
        "outputId": "160c3440-184c-4b9a-e4d6-c65d77b9a68f"
      },
      "source": [
        "%%time\n",
        "start = time.time()\n",
        "assert (baseline_ans == np.array(target_mean_cython_v1(data, 'y', 'x'))).all()\n",
        "end = time.time()\n",
        "print('---- correct ----')\n",
        "comparison_dict['name'].append('cython_v1')\n",
        "comparison_dict['time'].append(end - start)"
      ],
      "execution_count": 113,
      "outputs": [
        {
          "output_type": "stream",
          "text": [
            "---- correct ----\n",
            "CPU times: user 496 ms, sys: 1 ms, total: 497 ms\n",
            "Wall time: 503 ms\n"
          ],
          "name": "stdout"
        }
      ]
    },
    {
      "cell_type": "markdown",
      "metadata": {
        "id": "BMOWs0QABysY"
      },
      "source": [
        "## Cython_v2"
      ]
    },
    {
      "cell_type": "code",
      "metadata": {
        "id": "hWkaYeItB2fb"
      },
      "source": [
        "%%cython \n",
        "\n",
        "cimport numpy as cnp\n",
        "import numpy as np\n",
        "\n",
        "cpdef target_mean_cython_v2(data, y_name, x_name):\n",
        "    cdef:\n",
        "        cnp.ndarray[cnp.float64_t] result = np.zeros(shape=data.shape[0])\n",
        "        cnp.ndarray[cnp.int_t] x_array = data[x_name].values\n",
        "        cnp.ndarray[cnp.int_t] y_array = data[y_name].values\n",
        "        int row = data.shape[0]\n",
        "        dict sum_dict = {}\n",
        "        dict count_dict = {}\n",
        "\n",
        "    for i in range(row):\n",
        "        x = x_array[i]\n",
        "        if x not in sum_dict:\n",
        "            sum_dict[x], count_dict[x] = 0, 0\n",
        "    \n",
        "        sum_dict[x] += y_array[i]\n",
        "        count_dict[x] += 1\n",
        "\n",
        "    for i in range(row):\n",
        "        x = x_array[i]\n",
        "        result[i] = (sum_dict[x] - y_array[i]) / (count_dict[x] - 1)\n",
        "    \n",
        "    return result\n"
      ],
      "execution_count": 124,
      "outputs": []
    },
    {
      "cell_type": "code",
      "metadata": {
        "id": "vr8UBwL0Ds8E",
        "colab": {
          "base_uri": "https://localhost:8080/"
        },
        "outputId": "31a1ab11-fe49-4351-8529-6cf76c500bc0"
      },
      "source": [
        "%%time\n",
        "start = time.time()\n",
        "assert (baseline_ans == np.array(target_mean_cython_v2(data, 'y', 'x'))).all()\n",
        "end = time.time()\n",
        "print('---- correct ----')\n",
        "comparison_dict['name'].append('cython_v2')\n",
        "comparison_dict['time'].append(end - start)"
      ],
      "execution_count": 125,
      "outputs": [
        {
          "output_type": "stream",
          "text": [
            "---- correct ----\n",
            "CPU times: user 4.84 ms, sys: 0 ns, total: 4.84 ms\n",
            "Wall time: 5.4 ms\n"
          ],
          "name": "stdout"
        }
      ]
    },
    {
      "cell_type": "markdown",
      "metadata": {
        "id": "YRnecFF5sU57"
      },
      "source": [
        "## 量级对比"
      ]
    },
    {
      "cell_type": "code",
      "metadata": {
        "colab": {
          "base_uri": "https://localhost:8080/",
          "height": 387
        },
        "id": "MlNIXqMo7SbO",
        "outputId": "17b56d35-0c0f-4353-f518-493fe46f62eb"
      },
      "source": [
        "df = pd.DataFrame(comparison_dict)\n",
        "df.index = df['name']\n",
        "df['time'] = np.log10(df['time']*1000).astype('int')\n",
        "df.sort_values('time', ascending=False).plot(kind='bar', figsize=(14, 5))\n",
        "plt.show()"
      ],
      "execution_count": 116,
      "outputs": [
        {
          "output_type": "display_data",
          "data": {
            "image/png": "[encoded data removed]",
            "text/plain": [
              "<Figure size 1008x360 with 1 Axes>"
            ]
          },
          "metadata": {
            "tags": [],
            "needs_background": "light"
          }
        }
      ]
    }
  ]
}