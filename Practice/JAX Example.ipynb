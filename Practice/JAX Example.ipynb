{
  "nbformat": 4,
  "nbformat_minor": 0,
  "metadata": {
    "kernelspec": {
      "display_name": "Python 3",
      "language": "python",
      "name": "python3"
    },
    "language_info": {
      "codemirror_mode": {
        "name": "ipython",
        "version": 3
      },
      "file_extension": ".py",
      "mimetype": "text/x-python",
      "name": "python",
      "nbconvert_exporter": "python",
      "pygments_lexer": "ipython3",
      "version": "3.7.6"
    },
    "colab": {
      "name": "JAX Example.ipynb",
      "provenance": [],
      "toc_visible": true
    },
    "accelerator": "GPU"
  },
  "cells": [
    {
      "cell_type": "code",
      "metadata": {
        "id": "T0KWB8YHa-9_"
      },
      "source": [
        "from sklearn import datasets\n",
        "from sklearn.model_selection import train_test_split\n",
        "from sklearn.metrics import accuracy_score, precision_score, recall_score, roc_auc_score\n",
        "import matplotlib.pyplot as plt\n",
        "import time"
      ],
      "execution_count": 52,
      "outputs": []
    },
    {
      "cell_type": "code",
      "metadata": {
        "id": "spQFes7Ra--K"
      },
      "source": [
        "digits = datasets.load_digits()\n",
        "features = digits['data']\n",
        "target = digits['target'] "
      ],
      "execution_count": 53,
      "outputs": []
    },
    {
      "cell_type": "code",
      "metadata": {
        "colab": {
          "base_uri": "https://localhost:8080/"
        },
        "id": "Lv25fAara--L",
        "outputId": "3f248b7c-0006-43fa-a11e-ba3bb6b77386"
      },
      "source": [
        "train_x, test_x, train_y, test_y = train_test_split(features, target, test_size=0.33)\n",
        "\n",
        "print(train_x.shape)\n",
        "print(train_y.shape)\n",
        "print(test_x.shape)\n",
        "print(test_y.shape)"
      ],
      "execution_count": 54,
      "outputs": [
        {
          "output_type": "stream",
          "text": [
            "(1203, 64)\n",
            "(1203,)\n",
            "(594, 64)\n",
            "(594,)\n"
          ],
          "name": "stdout"
        }
      ]
    },
    {
      "cell_type": "markdown",
      "metadata": {
        "id": "aO3bvbewa--M"
      },
      "source": [
        "# Pytorch"
      ]
    },
    {
      "cell_type": "code",
      "metadata": {
        "id": "Ix1O3vs4a--N"
      },
      "source": [
        "import torch.nn as nn\n",
        "import torch.optim as optim\n",
        "import torch\n",
        "from torch.utils.data import DataLoader, TensorDataset"
      ],
      "execution_count": 4,
      "outputs": []
    },
    {
      "cell_type": "code",
      "metadata": {
        "id": "ycD5DQlqa--N"
      },
      "source": [
        "# 格式转化\n",
        "pytorch_train_x = torch.tensor(train_x, dtype=torch.float32)\n",
        "pytorch_train_y = torch.tensor(train_y, dtype=torch.long)\n",
        "\n",
        "pytorch_test_x = torch.tensor(test_x, dtype=torch.float32)\n",
        "pytorch_test_y = torch.tensor(test_y, dtype=torch.long)\n",
        "\n",
        "# 装进数据容器分批\n",
        "data = TensorDataset(pytorch_train_x, pytorch_train_y)\n",
        "dataset = DataLoader(data, 64)"
      ],
      "execution_count": 5,
      "outputs": []
    },
    {
      "cell_type": "code",
      "metadata": {
        "id": "bmlKIXMua--O"
      },
      "source": [
        "class Model(nn.Module):\n",
        "    def __init__(self):\n",
        "        super(Model, self).__init__()\n",
        "        \n",
        "        self.fc1 = nn.Linear(64, 128)\n",
        "        self.fc2 = nn.Linear(128, 256)\n",
        "        self.fc3 = nn.Linear(256, 512)\n",
        "        self.fc4 = nn.Linear(512, 256)\n",
        "        self.fc5 = nn.Linear(256, 128)\n",
        "        self.fc6 = nn.Linear(128, 64)\n",
        "        self.fc7 = nn.Linear(64, 10)\n",
        "        self.softmax = nn.Softmax(dim=1)\n",
        "        self.relu = nn.ReLU()\n",
        "        \n",
        "    def forward(self, x):\n",
        "        x = self.relu(self.fc1(x))\n",
        "        x = self.relu(self.fc2(x))\n",
        "        x = self.relu(self.fc3(x))\n",
        "        x = self.relu(self.fc4(x))\n",
        "        x = self.relu(self.fc5(x))\n",
        "        x = self.relu(self.fc6(x))\n",
        "        result = self.fc7(x)\n",
        "        return result\n",
        "    \n",
        "    def predict(self, x):\n",
        "        result = self.softmax(self(x)).sort()[1][:,-1]\n",
        "        return result"
      ],
      "execution_count": 6,
      "outputs": []
    },
    {
      "cell_type": "markdown",
      "metadata": {
        "id": "ZKa-kW3FeIXr"
      },
      "source": [
        "### CPU Version"
      ]
    },
    {
      "cell_type": "code",
      "metadata": {
        "id": "QuOm2lZxeLSa"
      },
      "source": [
        "model = Model()\n",
        "optimizer = optim.Adam(model.parameters())\n",
        "loss_fun = nn.CrossEntropyLoss()"
      ],
      "execution_count": 7,
      "outputs": []
    },
    {
      "cell_type": "code",
      "metadata": {
        "colab": {
          "base_uri": "https://localhost:8080/"
        },
        "id": "V1VrOZ_meLhi",
        "outputId": "04372281-409c-4980-f729-2f1255c1defe"
      },
      "source": [
        "%%time\n",
        "# 训练\n",
        "for i in range(100):\n",
        "    loss_record = 0\n",
        "    start_time = time.time()\n",
        "    \n",
        "    for batch, (x, y) in enumerate(dataset):\n",
        "        optimizer.zero_grad()\n",
        "        y_pre = model(x)\n",
        "        \n",
        "        loss = loss_fun(y_pre, y)\n",
        "        loss.backward()\n",
        "        optimizer.step()\n",
        "        \n",
        "        loss_record += loss.item()\n",
        "    \n",
        "    duration = time.time() - start_time\n",
        "    \n",
        "    predict = model.predict(pytorch_test_x).numpy()\n",
        "    acc_score = accuracy_score(predict, pytorch_test_y.numpy())\n",
        "    \n",
        "    print('Epoch: {}, time: {:.3f}s, Loss: {:.3f}, Acc: {:.2f}%'.format(i+1, duration, loss_record/batch, acc_score*100))"
      ],
      "execution_count": 8,
      "outputs": [
        {
          "output_type": "stream",
          "text": [
            "Epoch: 1, time: 0.343s, Loss: 1.835, Acc: 73.40%\n",
            "Epoch: 2, time: 0.114s, Loss: 0.613, Acc: 88.55%\n",
            "Epoch: 3, time: 0.117s, Loss: 0.283, Acc: 91.58%\n",
            "Epoch: 4, time: 0.112s, Loss: 0.172, Acc: 92.26%\n",
            "Epoch: 5, time: 0.113s, Loss: 0.135, Acc: 95.62%\n",
            "Epoch: 6, time: 0.114s, Loss: 0.127, Acc: 97.31%\n",
            "Epoch: 7, time: 0.119s, Loss: 0.084, Acc: 96.80%\n",
            "Epoch: 8, time: 0.109s, Loss: 0.051, Acc: 97.64%\n",
            "Epoch: 9, time: 0.115s, Loss: 0.038, Acc: 96.46%\n",
            "Epoch: 10, time: 0.108s, Loss: 0.032, Acc: 98.15%\n",
            "Epoch: 11, time: 0.117s, Loss: 0.014, Acc: 98.15%\n",
            "Epoch: 12, time: 0.111s, Loss: 0.010, Acc: 97.14%\n",
            "Epoch: 13, time: 0.110s, Loss: 0.021, Acc: 96.97%\n",
            "Epoch: 14, time: 0.111s, Loss: 0.025, Acc: 96.80%\n",
            "Epoch: 15, time: 0.118s, Loss: 0.019, Acc: 97.47%\n",
            "Epoch: 16, time: 0.134s, Loss: 0.017, Acc: 97.98%\n",
            "Epoch: 17, time: 0.111s, Loss: 0.008, Acc: 97.14%\n",
            "Epoch: 18, time: 0.109s, Loss: 0.008, Acc: 96.97%\n",
            "Epoch: 19, time: 0.113s, Loss: 0.006, Acc: 97.81%\n",
            "Epoch: 20, time: 0.107s, Loss: 0.005, Acc: 97.47%\n",
            "Epoch: 21, time: 0.110s, Loss: 0.009, Acc: 98.15%\n",
            "Epoch: 22, time: 0.106s, Loss: 0.016, Acc: 95.79%\n",
            "Epoch: 23, time: 0.116s, Loss: 0.013, Acc: 95.79%\n",
            "Epoch: 24, time: 0.115s, Loss: 0.018, Acc: 95.45%\n",
            "Epoch: 25, time: 0.118s, Loss: 0.018, Acc: 97.14%\n",
            "Epoch: 26, time: 0.108s, Loss: 0.007, Acc: 97.98%\n",
            "Epoch: 27, time: 0.112s, Loss: 0.025, Acc: 94.61%\n",
            "Epoch: 28, time: 0.109s, Loss: 0.041, Acc: 97.31%\n",
            "Epoch: 29, time: 0.109s, Loss: 0.026, Acc: 96.97%\n",
            "Epoch: 30, time: 0.111s, Loss: 0.028, Acc: 97.31%\n",
            "Epoch: 31, time: 0.110s, Loss: 0.013, Acc: 98.15%\n",
            "Epoch: 32, time: 0.137s, Loss: 0.016, Acc: 97.81%\n",
            "Epoch: 33, time: 0.138s, Loss: 0.024, Acc: 96.80%\n",
            "Epoch: 34, time: 0.140s, Loss: 0.010, Acc: 96.97%\n",
            "Epoch: 35, time: 0.158s, Loss: 0.004, Acc: 97.31%\n",
            "Epoch: 36, time: 0.172s, Loss: 0.001, Acc: 97.98%\n",
            "Epoch: 37, time: 0.171s, Loss: 0.009, Acc: 96.80%\n",
            "Epoch: 38, time: 0.165s, Loss: 0.017, Acc: 97.64%\n",
            "Epoch: 39, time: 0.158s, Loss: 0.002, Acc: 97.81%\n",
            "Epoch: 40, time: 0.171s, Loss: 0.001, Acc: 98.65%\n",
            "Epoch: 41, time: 0.176s, Loss: 0.000, Acc: 98.48%\n",
            "Epoch: 42, time: 0.172s, Loss: 0.000, Acc: 98.82%\n",
            "Epoch: 43, time: 0.175s, Loss: 0.000, Acc: 98.82%\n",
            "Epoch: 44, time: 0.171s, Loss: 0.000, Acc: 98.82%\n",
            "Epoch: 45, time: 0.168s, Loss: 0.000, Acc: 98.82%\n",
            "Epoch: 46, time: 0.144s, Loss: 0.000, Acc: 98.82%\n",
            "Epoch: 47, time: 0.144s, Loss: 0.000, Acc: 98.82%\n",
            "Epoch: 48, time: 0.141s, Loss: 0.000, Acc: 98.82%\n",
            "Epoch: 49, time: 0.150s, Loss: 0.000, Acc: 98.82%\n",
            "Epoch: 50, time: 0.140s, Loss: 0.000, Acc: 98.82%\n",
            "Epoch: 51, time: 0.151s, Loss: 0.000, Acc: 98.82%\n",
            "Epoch: 52, time: 0.143s, Loss: 0.000, Acc: 98.82%\n",
            "Epoch: 53, time: 0.152s, Loss: 0.000, Acc: 98.82%\n",
            "Epoch: 54, time: 0.141s, Loss: 0.000, Acc: 98.82%\n",
            "Epoch: 55, time: 0.145s, Loss: 0.000, Acc: 98.82%\n",
            "Epoch: 56, time: 0.144s, Loss: 0.000, Acc: 98.82%\n",
            "Epoch: 57, time: 0.161s, Loss: 0.000, Acc: 98.82%\n",
            "Epoch: 58, time: 0.146s, Loss: 0.000, Acc: 98.82%\n",
            "Epoch: 59, time: 0.151s, Loss: 0.000, Acc: 98.82%\n",
            "Epoch: 60, time: 0.149s, Loss: 0.000, Acc: 98.82%\n",
            "Epoch: 61, time: 0.159s, Loss: 0.000, Acc: 98.82%\n",
            "Epoch: 62, time: 0.165s, Loss: 0.000, Acc: 98.82%\n",
            "Epoch: 63, time: 0.167s, Loss: 0.000, Acc: 98.82%\n",
            "Epoch: 64, time: 0.180s, Loss: 0.000, Acc: 98.82%\n",
            "Epoch: 65, time: 0.185s, Loss: 0.000, Acc: 98.82%\n",
            "Epoch: 66, time: 0.160s, Loss: 0.000, Acc: 98.82%\n",
            "Epoch: 67, time: 0.163s, Loss: 0.000, Acc: 98.82%\n",
            "Epoch: 68, time: 0.162s, Loss: 0.000, Acc: 98.82%\n",
            "Epoch: 69, time: 0.184s, Loss: 0.000, Acc: 98.82%\n",
            "Epoch: 70, time: 0.181s, Loss: 0.000, Acc: 98.82%\n",
            "Epoch: 71, time: 0.181s, Loss: 0.000, Acc: 98.82%\n",
            "Epoch: 72, time: 0.177s, Loss: 0.000, Acc: 98.82%\n",
            "Epoch: 73, time: 0.181s, Loss: 0.000, Acc: 98.82%\n",
            "Epoch: 74, time: 0.171s, Loss: 0.000, Acc: 98.82%\n",
            "Epoch: 75, time: 0.160s, Loss: 0.000, Acc: 98.82%\n",
            "Epoch: 76, time: 0.155s, Loss: 0.000, Acc: 98.82%\n",
            "Epoch: 77, time: 0.159s, Loss: 0.000, Acc: 98.82%\n",
            "Epoch: 78, time: 0.153s, Loss: 0.000, Acc: 98.82%\n",
            "Epoch: 79, time: 0.158s, Loss: 0.000, Acc: 98.82%\n",
            "Epoch: 80, time: 0.181s, Loss: 0.000, Acc: 98.82%\n",
            "Epoch: 81, time: 0.165s, Loss: 0.000, Acc: 98.82%\n",
            "Epoch: 82, time: 0.153s, Loss: 0.000, Acc: 98.82%\n",
            "Epoch: 83, time: 0.156s, Loss: 0.000, Acc: 98.82%\n",
            "Epoch: 84, time: 0.153s, Loss: 0.000, Acc: 98.82%\n",
            "Epoch: 85, time: 0.158s, Loss: 0.000, Acc: 98.82%\n",
            "Epoch: 86, time: 0.164s, Loss: 0.000, Acc: 98.82%\n",
            "Epoch: 87, time: 0.178s, Loss: 0.000, Acc: 98.82%\n",
            "Epoch: 88, time: 0.181s, Loss: 0.000, Acc: 98.82%\n",
            "Epoch: 89, time: 0.176s, Loss: 0.000, Acc: 98.82%\n",
            "Epoch: 90, time: 0.175s, Loss: 0.000, Acc: 98.82%\n",
            "Epoch: 91, time: 0.186s, Loss: 0.000, Acc: 98.82%\n",
            "Epoch: 92, time: 0.166s, Loss: 0.000, Acc: 98.82%\n",
            "Epoch: 93, time: 0.179s, Loss: 0.000, Acc: 98.82%\n",
            "Epoch: 94, time: 0.174s, Loss: 0.000, Acc: 98.82%\n",
            "Epoch: 95, time: 0.178s, Loss: 0.000, Acc: 98.82%\n",
            "Epoch: 96, time: 0.170s, Loss: 0.000, Acc: 98.82%\n",
            "Epoch: 97, time: 0.157s, Loss: 0.000, Acc: 98.82%\n",
            "Epoch: 98, time: 0.173s, Loss: 0.000, Acc: 98.82%\n",
            "Epoch: 99, time: 0.179s, Loss: 0.000, Acc: 98.82%\n",
            "Epoch: 100, time: 0.175s, Loss: 0.000, Acc: 98.82%\n",
            "CPU times: user 15.4 s, sys: 219 ms, total: 15.6 s\n",
            "Wall time: 15.8 s\n"
          ],
          "name": "stdout"
        }
      ]
    },
    {
      "cell_type": "markdown",
      "metadata": {
        "id": "kUnwOjaJeCqq"
      },
      "source": [
        "### GPU Version"
      ]
    },
    {
      "cell_type": "code",
      "metadata": {
        "scrolled": false,
        "colab": {
          "base_uri": "https://localhost:8080/"
        },
        "id": "22Wx7Smea--O",
        "outputId": "57efcf12-d7ae-4f67-f974-1b474ada5c70"
      },
      "source": [
        "device = torch.device(\"cuda:0\" if torch.cuda.is_available() else \"cpu\")\n",
        "pytorch_test_x, pytorch_test_y = pytorch_test_x.to(device), pytorch_test_y.to(device)\n",
        "model = Model().to(device)\n",
        "optimizer = optim.Adam(model.parameters())\n",
        "loss_fun = nn.CrossEntropyLoss()\n",
        "loss_fun.to(device)"
      ],
      "execution_count": 9,
      "outputs": [
        {
          "output_type": "execute_result",
          "data": {
            "text/plain": [
              "CrossEntropyLoss()"
            ]
          },
          "metadata": {
            "tags": []
          },
          "execution_count": 9
        }
      ]
    },
    {
      "cell_type": "code",
      "metadata": {
        "colab": {
          "base_uri": "https://localhost:8080/"
        },
        "id": "kaOMDBFNa--Q",
        "outputId": "d7b51663-d809-43e6-97b6-d0915fb8405c"
      },
      "source": [
        "%%time\n",
        "# 训练\n",
        "for i in range(100):\n",
        "    loss_record = 0\n",
        "    start_time = time.time()\n",
        "    \n",
        "    for batch, (x, y) in enumerate(dataset):\n",
        "        optimizer.zero_grad()\n",
        "\n",
        "        x, y = x.to(device), y.to(device)\n",
        "        y_pre = model(x)\n",
        "        \n",
        "        loss = loss_fun(y_pre, y)\n",
        "        loss.backward()\n",
        "        optimizer.step()\n",
        "        \n",
        "        loss_record += loss.cpu().item()\n",
        "    \n",
        "    duration = time.time() - start_time\n",
        "    \n",
        "    predict = model.predict(pytorch_test_x).cpu().numpy()\n",
        "    acc_score = accuracy_score(predict, pytorch_test_y.cpu().numpy())\n",
        "    \n",
        "    print('Epoch: {}, time: {:.3f}s, Loss: {:.3f}, Acc: {:.2f}%'.format(i+1, duration, loss_record/batch, acc_score*100))"
      ],
      "execution_count": 10,
      "outputs": [
        {
          "output_type": "stream",
          "text": [
            "Epoch: 1, time: 0.134s, Loss: 1.762, Acc: 79.63%\n",
            "Epoch: 2, time: 0.069s, Loss: 0.531, Acc: 89.90%\n",
            "Epoch: 3, time: 0.067s, Loss: 0.287, Acc: 92.59%\n",
            "Epoch: 4, time: 0.070s, Loss: 0.132, Acc: 95.79%\n",
            "Epoch: 5, time: 0.072s, Loss: 0.076, Acc: 95.12%\n",
            "Epoch: 6, time: 0.068s, Loss: 0.066, Acc: 96.80%\n",
            "Epoch: 7, time: 0.070s, Loss: 0.078, Acc: 94.61%\n",
            "Epoch: 8, time: 0.068s, Loss: 0.073, Acc: 94.78%\n",
            "Epoch: 9, time: 0.068s, Loss: 0.083, Acc: 93.43%\n",
            "Epoch: 10, time: 0.070s, Loss: 0.051, Acc: 96.30%\n",
            "Epoch: 11, time: 0.081s, Loss: 0.015, Acc: 96.97%\n",
            "Epoch: 12, time: 0.071s, Loss: 0.019, Acc: 96.63%\n",
            "Epoch: 13, time: 0.070s, Loss: 0.021, Acc: 93.94%\n",
            "Epoch: 14, time: 0.079s, Loss: 0.029, Acc: 96.97%\n",
            "Epoch: 15, time: 0.090s, Loss: 0.016, Acc: 97.14%\n",
            "Epoch: 16, time: 0.073s, Loss: 0.017, Acc: 96.46%\n",
            "Epoch: 17, time: 0.077s, Loss: 0.011, Acc: 96.13%\n",
            "Epoch: 18, time: 0.096s, Loss: 0.012, Acc: 96.80%\n",
            "Epoch: 19, time: 0.096s, Loss: 0.023, Acc: 95.79%\n",
            "Epoch: 20, time: 0.091s, Loss: 0.012, Acc: 96.63%\n",
            "Epoch: 21, time: 0.090s, Loss: 0.015, Acc: 96.63%\n",
            "Epoch: 22, time: 0.096s, Loss: 0.036, Acc: 96.97%\n",
            "Epoch: 23, time: 0.091s, Loss: 0.057, Acc: 95.12%\n",
            "Epoch: 24, time: 0.091s, Loss: 0.024, Acc: 97.14%\n",
            "Epoch: 25, time: 0.094s, Loss: 0.012, Acc: 97.47%\n",
            "Epoch: 26, time: 0.093s, Loss: 0.002, Acc: 97.31%\n",
            "Epoch: 27, time: 0.069s, Loss: 0.001, Acc: 97.98%\n",
            "Epoch: 28, time: 0.090s, Loss: 0.000, Acc: 97.81%\n",
            "Epoch: 29, time: 0.096s, Loss: 0.000, Acc: 97.98%\n",
            "Epoch: 30, time: 0.100s, Loss: 0.000, Acc: 97.98%\n",
            "Epoch: 31, time: 0.098s, Loss: 0.000, Acc: 97.98%\n",
            "Epoch: 32, time: 0.090s, Loss: 0.000, Acc: 97.98%\n",
            "Epoch: 33, time: 0.091s, Loss: 0.000, Acc: 97.98%\n",
            "Epoch: 34, time: 0.096s, Loss: 0.000, Acc: 97.81%\n",
            "Epoch: 35, time: 0.069s, Loss: 0.000, Acc: 97.64%\n",
            "Epoch: 36, time: 0.067s, Loss: 0.000, Acc: 97.81%\n",
            "Epoch: 37, time: 0.070s, Loss: 0.000, Acc: 97.81%\n",
            "Epoch: 38, time: 0.067s, Loss: 0.000, Acc: 97.81%\n",
            "Epoch: 39, time: 0.071s, Loss: 0.000, Acc: 97.81%\n",
            "Epoch: 40, time: 0.070s, Loss: 0.000, Acc: 97.81%\n",
            "Epoch: 41, time: 0.072s, Loss: 0.000, Acc: 97.81%\n",
            "Epoch: 42, time: 0.067s, Loss: 0.000, Acc: 97.81%\n",
            "Epoch: 43, time: 0.073s, Loss: 0.000, Acc: 97.81%\n",
            "Epoch: 44, time: 0.071s, Loss: 0.000, Acc: 97.98%\n",
            "Epoch: 45, time: 0.073s, Loss: 0.000, Acc: 97.98%\n",
            "Epoch: 46, time: 0.070s, Loss: 0.000, Acc: 97.98%\n",
            "Epoch: 47, time: 0.067s, Loss: 0.000, Acc: 97.98%\n",
            "Epoch: 48, time: 0.071s, Loss: 0.000, Acc: 97.98%\n",
            "Epoch: 49, time: 0.076s, Loss: 0.000, Acc: 97.98%\n",
            "Epoch: 50, time: 0.071s, Loss: 0.000, Acc: 97.98%\n",
            "Epoch: 51, time: 0.068s, Loss: 0.000, Acc: 97.98%\n",
            "Epoch: 52, time: 0.070s, Loss: 0.000, Acc: 97.98%\n",
            "Epoch: 53, time: 0.078s, Loss: 0.000, Acc: 97.98%\n",
            "Epoch: 54, time: 0.069s, Loss: 0.000, Acc: 97.98%\n",
            "Epoch: 55, time: 0.074s, Loss: 0.000, Acc: 97.98%\n",
            "Epoch: 56, time: 0.068s, Loss: 0.000, Acc: 97.98%\n",
            "Epoch: 57, time: 0.067s, Loss: 0.000, Acc: 97.98%\n",
            "Epoch: 58, time: 0.072s, Loss: 0.000, Acc: 97.98%\n",
            "Epoch: 59, time: 0.072s, Loss: 0.000, Acc: 97.98%\n",
            "Epoch: 60, time: 0.068s, Loss: 0.000, Acc: 97.98%\n",
            "Epoch: 61, time: 0.070s, Loss: 0.000, Acc: 97.98%\n",
            "Epoch: 62, time: 0.068s, Loss: 0.000, Acc: 97.98%\n",
            "Epoch: 63, time: 0.073s, Loss: 0.000, Acc: 97.98%\n",
            "Epoch: 64, time: 0.071s, Loss: 0.000, Acc: 97.98%\n",
            "Epoch: 65, time: 0.068s, Loss: 0.000, Acc: 97.98%\n",
            "Epoch: 66, time: 0.071s, Loss: 0.000, Acc: 97.98%\n",
            "Epoch: 67, time: 0.093s, Loss: 0.000, Acc: 97.98%\n",
            "Epoch: 68, time: 0.094s, Loss: 0.000, Acc: 97.98%\n",
            "Epoch: 69, time: 0.096s, Loss: 0.000, Acc: 97.98%\n",
            "Epoch: 70, time: 0.093s, Loss: 0.000, Acc: 97.98%\n",
            "Epoch: 71, time: 0.094s, Loss: 0.000, Acc: 97.98%\n",
            "Epoch: 72, time: 0.091s, Loss: 0.000, Acc: 97.98%\n",
            "Epoch: 73, time: 0.093s, Loss: 0.000, Acc: 97.98%\n",
            "Epoch: 74, time: 0.094s, Loss: 0.000, Acc: 97.98%\n",
            "Epoch: 75, time: 0.086s, Loss: 0.000, Acc: 97.98%\n",
            "Epoch: 76, time: 0.071s, Loss: 0.000, Acc: 97.98%\n",
            "Epoch: 77, time: 0.080s, Loss: 0.000, Acc: 97.98%\n",
            "Epoch: 78, time: 0.091s, Loss: 0.000, Acc: 97.98%\n",
            "Epoch: 79, time: 0.094s, Loss: 0.000, Acc: 97.98%\n",
            "Epoch: 80, time: 0.095s, Loss: 0.000, Acc: 97.98%\n",
            "Epoch: 81, time: 0.069s, Loss: 0.000, Acc: 97.98%\n",
            "Epoch: 82, time: 0.071s, Loss: 0.000, Acc: 97.98%\n",
            "Epoch: 83, time: 0.068s, Loss: 0.000, Acc: 97.98%\n",
            "Epoch: 84, time: 0.068s, Loss: 0.000, Acc: 97.98%\n",
            "Epoch: 85, time: 0.070s, Loss: 0.000, Acc: 97.98%\n",
            "Epoch: 86, time: 0.067s, Loss: 0.000, Acc: 97.98%\n",
            "Epoch: 87, time: 0.071s, Loss: 0.000, Acc: 97.98%\n",
            "Epoch: 88, time: 0.071s, Loss: 0.000, Acc: 97.98%\n",
            "Epoch: 89, time: 0.067s, Loss: 0.000, Acc: 97.98%\n",
            "Epoch: 90, time: 0.068s, Loss: 0.000, Acc: 97.98%\n",
            "Epoch: 91, time: 0.074s, Loss: 0.000, Acc: 97.98%\n",
            "Epoch: 92, time: 0.069s, Loss: 0.000, Acc: 97.98%\n",
            "Epoch: 93, time: 0.068s, Loss: 0.000, Acc: 97.98%\n",
            "Epoch: 94, time: 0.075s, Loss: 0.000, Acc: 97.98%\n",
            "Epoch: 95, time: 0.068s, Loss: 0.000, Acc: 97.98%\n",
            "Epoch: 96, time: 0.071s, Loss: 0.000, Acc: 97.98%\n",
            "Epoch: 97, time: 0.071s, Loss: 0.000, Acc: 97.98%\n",
            "Epoch: 98, time: 0.067s, Loss: 0.000, Acc: 97.98%\n",
            "Epoch: 99, time: 0.068s, Loss: 0.000, Acc: 97.98%\n",
            "Epoch: 100, time: 0.073s, Loss: 0.000, Acc: 97.98%\n",
            "CPU times: user 7.67 s, sys: 102 ms, total: 7.77 s\n",
            "Wall time: 7.91 s\n"
          ],
          "name": "stdout"
        }
      ]
    },
    {
      "cell_type": "markdown",
      "metadata": {
        "id": "pOUugjsmbyGG"
      },
      "source": [
        "# JAX"
      ]
    },
    {
      "cell_type": "code",
      "metadata": {
        "id": "cT_qssRzQb7l"
      },
      "source": [
        "import jax.numpy as jnp\n",
        "from jax import jit, vmap, grad\n",
        "import jax.nn as jnn\n",
        "import jax"
      ],
      "execution_count": 222,
      "outputs": []
    },
    {
      "cell_type": "code",
      "metadata": {
        "id": "Fab1xkOoQdZt"
      },
      "source": [
        "jax_train_x = jnp.array(train_x)\n",
        "jax_train_y = jnn.one_hot(jnp.array(train_y), 10)\n",
        "jax_test_x = jnp.array(test_x)\n",
        "jax_test_y = jnn.one_hot(jnp.array(test_y), 10)"
      ],
      "execution_count": 229,
      "outputs": []
    },
    {
      "cell_type": "code",
      "metadata": {
        "id": "AhepKtdlbtdn"
      },
      "source": [
        "parmas = []\n",
        "layer_dim = [(64, 128), (128, 256), (256,512), (512, 256), (256,128), (128,64), (64,10)]\n",
        "\n",
        "key = jax.random.PRNGKey(0)\n",
        "for n_dim in layer_dim:\n",
        "    w = jax.random.normal(key, n_dim)\n",
        "    b = jax.random.normal(key, (n_dim[1],))\n",
        "    parmas.append((w, b))"
      ],
      "execution_count": 230,
      "outputs": []
    },
    {
      "cell_type": "code",
      "metadata": {
        "id": "SyO6gFTERaHV"
      },
      "source": [
        "def fc(inputs, w, b):\n",
        "    return jnp.dot(inputs, w) + b\n",
        "\n",
        "def relu(inputs):\n",
        "    return  jnp.maximum(0, inputs)\n",
        "\n",
        "def softmax(inputs):\n",
        "    return jnn.softmax(inputs)"
      ],
      "execution_count": 231,
      "outputs": []
    },
    {
      "cell_type": "code",
      "metadata": {
        "id": "IO-M3pVRVHxr"
      },
      "source": [
        "def forward(inputs, parmas):\n",
        "    for w, b in parmas[:-1]:\n",
        "        outputs = fc(inputs, w, b)\n",
        "        inputs = relu(outputs)\n",
        "\n",
        "    outputs = fc(inputs, *parmas[-1])\n",
        "    print(outputs)\n",
        "    return outputs - jax.scipy.special.logsumexp(outputs)\n",
        "\n",
        "def loss_fun(inputs, parmas, y_true):\n",
        "    predict = forward(inputs, parmas)\n",
        "    loss = -jnp.mean(predict * y_true)\n",
        "    print(loss)\n",
        "    return loss\n",
        "\n",
        "def train(inputs, y_true, parmas, lr=0.01):\n",
        "    grad_data = grad(loss_fun, (1,))(inputs, parmas, y_true)\n",
        "    new_parmas = [(w - lr * dw, b - lr * db) for (dw, db), (w, b) in zip(grad_data[0], parmas)]\n",
        "    # print(new_parmas)\n",
        "    return new_parmas\n"
      ],
      "execution_count": 232,
      "outputs": []
    },
    {
      "cell_type": "code",
      "metadata": {
        "id": "4jGxPHawwIph",
        "outputId": "f0a9664e-15eb-4ecf-abb5-0d08ca79d654",
        "colab": {
          "base_uri": "https://localhost:8080/",
          "height": 1000
        }
      },
      "source": [
        "for i in range(2):\n",
        "    for x, y in zip(jax_train_x, jax_train_y):\n",
        "        parmas = train(x, y, parmas)"
      ],
      "execution_count": 233,
      "outputs": [
        {
          "output_type": "stream",
          "text": [
            "Traced<ConcreteArray(5916939.0)>with<JVPTrace(level=2/0)>\n",
            "  with primal = DeviceArray(5916939., dtype=float32)\n",
            "       tangent = Traced<ShapedArray(float32[]):JaxprTrace(level=1/0)>\n",
            "Traced<ConcreteArray(8.7778366e+29)>with<JVPTrace(level=2/0)>\n",
            "  with primal = DeviceArray(8.7778366e+29, dtype=float32)\n",
            "       tangent = Traced<ShapedArray(float32[]):JaxprTrace(level=1/0)>\n",
            "Traced<ConcreteArray(nan)>with<JVPTrace(level=2/0)>\n",
            "  with primal = DeviceArray(nan, dtype=float32)\n",
            "       tangent = Traced<ShapedArray(float32[]):JaxprTrace(level=1/0)>\n",
            "Traced<ConcreteArray(nan)>with<JVPTrace(level=2/0)>\n",
            "  with primal = DeviceArray(nan, dtype=float32)\n",
            "       tangent = Traced<ShapedArray(float32[]):JaxprTrace(level=1/0)>\n",
            "Traced<ConcreteArray(nan)>with<JVPTrace(level=2/0)>\n",
            "  with primal = DeviceArray(nan, dtype=float32)\n",
            "       tangent = Traced<ShapedArray(float32[]):JaxprTrace(level=1/0)>\n",
            "Traced<ConcreteArray(nan)>with<JVPTrace(level=2/0)>\n",
            "  with primal = DeviceArray(nan, dtype=float32)\n",
            "       tangent = Traced<ShapedArray(float32[]):JaxprTrace(level=1/0)>\n",
            "Traced<ConcreteArray(nan)>with<JVPTrace(level=2/0)>\n",
            "  with primal = DeviceArray(nan, dtype=float32)\n",
            "       tangent = Traced<ShapedArray(float32[]):JaxprTrace(level=1/0)>\n",
            "Traced<ConcreteArray(nan)>with<JVPTrace(level=2/0)>\n",
            "  with primal = DeviceArray(nan, dtype=float32)\n",
            "       tangent = Traced<ShapedArray(float32[]):JaxprTrace(level=1/0)>\n",
            "Traced<ConcreteArray(nan)>with<JVPTrace(level=2/0)>\n",
            "  with primal = DeviceArray(nan, dtype=float32)\n",
            "       tangent = Traced<ShapedArray(float32[]):JaxprTrace(level=1/0)>\n",
            "Traced<ConcreteArray(nan)>with<JVPTrace(level=2/0)>\n",
            "  with primal = DeviceArray(nan, dtype=float32)\n",
            "       tangent = Traced<ShapedArray(float32[]):JaxprTrace(level=1/0)>\n",
            "Traced<ConcreteArray(nan)>with<JVPTrace(level=2/0)>\n",
            "  with primal = DeviceArray(nan, dtype=float32)\n",
            "       tangent = Traced<ShapedArray(float32[]):JaxprTrace(level=1/0)>\n",
            "Traced<ConcreteArray(nan)>with<JVPTrace(level=2/0)>\n",
            "  with primal = DeviceArray(nan, dtype=float32)\n",
            "       tangent = Traced<ShapedArray(float32[]):JaxprTrace(level=1/0)>\n",
            "Traced<ConcreteArray(nan)>with<JVPTrace(level=2/0)>\n",
            "  with primal = DeviceArray(nan, dtype=float32)\n",
            "       tangent = Traced<ShapedArray(float32[]):JaxprTrace(level=1/0)>\n",
            "Traced<ConcreteArray(nan)>with<JVPTrace(level=2/0)>\n",
            "  with primal = DeviceArray(nan, dtype=float32)\n",
            "       tangent = Traced<ShapedArray(float32[]):JaxprTrace(level=1/0)>\n",
            "Traced<ConcreteArray(nan)>with<JVPTrace(level=2/0)>\n",
            "  with primal = DeviceArray(nan, dtype=float32)\n",
            "       tangent = Traced<ShapedArray(float32[]):JaxprTrace(level=1/0)>\n",
            "Traced<ConcreteArray(nan)>with<JVPTrace(level=2/0)>\n",
            "  with primal = DeviceArray(nan, dtype=float32)\n",
            "       tangent = Traced<ShapedArray(float32[]):JaxprTrace(level=1/0)>\n",
            "Traced<ConcreteArray(nan)>with<JVPTrace(level=2/0)>\n",
            "  with primal = DeviceArray(nan, dtype=float32)\n",
            "       tangent = Traced<ShapedArray(float32[]):JaxprTrace(level=1/0)>\n",
            "Traced<ConcreteArray(nan)>with<JVPTrace(level=2/0)>\n",
            "  with primal = DeviceArray(nan, dtype=float32)\n",
            "       tangent = Traced<ShapedArray(float32[]):JaxprTrace(level=1/0)>\n",
            "Traced<ConcreteArray(nan)>with<JVPTrace(level=2/0)>\n",
            "  with primal = DeviceArray(nan, dtype=float32)\n",
            "       tangent = Traced<ShapedArray(float32[]):JaxprTrace(level=1/0)>\n",
            "Traced<ConcreteArray(nan)>with<JVPTrace(level=2/0)>\n",
            "  with primal = DeviceArray(nan, dtype=float32)\n",
            "       tangent = Traced<ShapedArray(float32[]):JaxprTrace(level=1/0)>\n",
            "Traced<ConcreteArray(nan)>with<JVPTrace(level=2/0)>\n",
            "  with primal = DeviceArray(nan, dtype=float32)\n",
            "       tangent = Traced<ShapedArray(float32[]):JaxprTrace(level=1/0)>\n",
            "Traced<ConcreteArray(nan)>with<JVPTrace(level=2/0)>\n",
            "  with primal = DeviceArray(nan, dtype=float32)\n",
            "       tangent = Traced<ShapedArray(float32[]):JaxprTrace(level=1/0)>\n",
            "Traced<ConcreteArray(nan)>with<JVPTrace(level=2/0)>\n",
            "  with primal = DeviceArray(nan, dtype=float32)\n",
            "       tangent = Traced<ShapedArray(float32[]):JaxprTrace(level=1/0)>\n",
            "Traced<ConcreteArray(nan)>with<JVPTrace(level=2/0)>\n",
            "  with primal = DeviceArray(nan, dtype=float32)\n",
            "       tangent = Traced<ShapedArray(float32[]):JaxprTrace(level=1/0)>\n",
            "Traced<ConcreteArray(nan)>with<JVPTrace(level=2/0)>\n",
            "  with primal = DeviceArray(nan, dtype=float32)\n",
            "       tangent = Traced<ShapedArray(float32[]):JaxprTrace(level=1/0)>\n",
            "Traced<ConcreteArray(nan)>with<JVPTrace(level=2/0)>\n",
            "  with primal = DeviceArray(nan, dtype=float32)\n",
            "       tangent = Traced<ShapedArray(float32[]):JaxprTrace(level=1/0)>\n",
            "Traced<ConcreteArray(nan)>with<JVPTrace(level=2/0)>\n",
            "  with primal = DeviceArray(nan, dtype=float32)\n",
            "       tangent = Traced<ShapedArray(float32[]):JaxprTrace(level=1/0)>\n",
            "Traced<ConcreteArray(nan)>with<JVPTrace(level=2/0)>\n",
            "  with primal = DeviceArray(nan, dtype=float32)\n",
            "       tangent = Traced<ShapedArray(float32[]):JaxprTrace(level=1/0)>\n",
            "Traced<ConcreteArray(nan)>with<JVPTrace(level=2/0)>\n",
            "  with primal = DeviceArray(nan, dtype=float32)\n",
            "       tangent = Traced<ShapedArray(float32[]):JaxprTrace(level=1/0)>\n",
            "Traced<ConcreteArray(nan)>with<JVPTrace(level=2/0)>\n",
            "  with primal = DeviceArray(nan, dtype=float32)\n",
            "       tangent = Traced<ShapedArray(float32[]):JaxprTrace(level=1/0)>\n",
            "Traced<ConcreteArray(nan)>with<JVPTrace(level=2/0)>\n",
            "  with primal = DeviceArray(nan, dtype=float32)\n",
            "       tangent = Traced<ShapedArray(float32[]):JaxprTrace(level=1/0)>\n",
            "Traced<ConcreteArray(nan)>with<JVPTrace(level=2/0)>\n",
            "  with primal = DeviceArray(nan, dtype=float32)\n",
            "       tangent = Traced<ShapedArray(float32[]):JaxprTrace(level=1/0)>\n",
            "Traced<ConcreteArray(nan)>with<JVPTrace(level=2/0)>\n",
            "  with primal = DeviceArray(nan, dtype=float32)\n",
            "       tangent = Traced<ShapedArray(float32[]):JaxprTrace(level=1/0)>\n",
            "Traced<ConcreteArray(nan)>with<JVPTrace(level=2/0)>\n",
            "  with primal = DeviceArray(nan, dtype=float32)\n",
            "       tangent = Traced<ShapedArray(float32[]):JaxprTrace(level=1/0)>\n",
            "Traced<ConcreteArray(nan)>with<JVPTrace(level=2/0)>\n",
            "  with primal = DeviceArray(nan, dtype=float32)\n",
            "       tangent = Traced<ShapedArray(float32[]):JaxprTrace(level=1/0)>\n",
            "Traced<ConcreteArray(nan)>with<JVPTrace(level=2/0)>\n",
            "  with primal = DeviceArray(nan, dtype=float32)\n",
            "       tangent = Traced<ShapedArray(float32[]):JaxprTrace(level=1/0)>\n",
            "Traced<ConcreteArray(nan)>with<JVPTrace(level=2/0)>\n",
            "  with primal = DeviceArray(nan, dtype=float32)\n",
            "       tangent = Traced<ShapedArray(float32[]):JaxprTrace(level=1/0)>\n",
            "Traced<ConcreteArray(nan)>with<JVPTrace(level=2/0)>\n",
            "  with primal = DeviceArray(nan, dtype=float32)\n",
            "       tangent = Traced<ShapedArray(float32[]):JaxprTrace(level=1/0)>\n",
            "Traced<ConcreteArray(nan)>with<JVPTrace(level=2/0)>\n",
            "  with primal = DeviceArray(nan, dtype=float32)\n",
            "       tangent = Traced<ShapedArray(float32[]):JaxprTrace(level=1/0)>\n",
            "Traced<ConcreteArray(nan)>with<JVPTrace(level=2/0)>\n",
            "  with primal = DeviceArray(nan, dtype=float32)\n",
            "       tangent = Traced<ShapedArray(float32[]):JaxprTrace(level=1/0)>\n",
            "Traced<ConcreteArray(nan)>with<JVPTrace(level=2/0)>\n",
            "  with primal = DeviceArray(nan, dtype=float32)\n",
            "       tangent = Traced<ShapedArray(float32[]):JaxprTrace(level=1/0)>\n",
            "Traced<ConcreteArray(nan)>with<JVPTrace(level=2/0)>\n",
            "  with primal = DeviceArray(nan, dtype=float32)\n",
            "       tangent = Traced<ShapedArray(float32[]):JaxprTrace(level=1/0)>\n",
            "Traced<ConcreteArray(nan)>with<JVPTrace(level=2/0)>\n",
            "  with primal = DeviceArray(nan, dtype=float32)\n",
            "       tangent = Traced<ShapedArray(float32[]):JaxprTrace(level=1/0)>\n",
            "Traced<ConcreteArray(nan)>with<JVPTrace(level=2/0)>\n",
            "  with primal = DeviceArray(nan, dtype=float32)\n",
            "       tangent = Traced<ShapedArray(float32[]):JaxprTrace(level=1/0)>\n",
            "Traced<ConcreteArray(nan)>with<JVPTrace(level=2/0)>\n",
            "  with primal = DeviceArray(nan, dtype=float32)\n",
            "       tangent = Traced<ShapedArray(float32[]):JaxprTrace(level=1/0)>\n",
            "Traced<ConcreteArray(nan)>with<JVPTrace(level=2/0)>\n",
            "  with primal = DeviceArray(nan, dtype=float32)\n",
            "       tangent = Traced<ShapedArray(float32[]):JaxprTrace(level=1/0)>\n",
            "Traced<ConcreteArray(nan)>with<JVPTrace(level=2/0)>\n",
            "  with primal = DeviceArray(nan, dtype=float32)\n",
            "       tangent = Traced<ShapedArray(float32[]):JaxprTrace(level=1/0)>\n",
            "Traced<ConcreteArray(nan)>with<JVPTrace(level=2/0)>\n",
            "  with primal = DeviceArray(nan, dtype=float32)\n",
            "       tangent = Traced<ShapedArray(float32[]):JaxprTrace(level=1/0)>\n",
            "Traced<ConcreteArray(nan)>with<JVPTrace(level=2/0)>\n",
            "  with primal = DeviceArray(nan, dtype=float32)\n",
            "       tangent = Traced<ShapedArray(float32[]):JaxprTrace(level=1/0)>\n",
            "Traced<ConcreteArray(nan)>with<JVPTrace(level=2/0)>\n",
            "  with primal = DeviceArray(nan, dtype=float32)\n",
            "       tangent = Traced<ShapedArray(float32[]):JaxprTrace(level=1/0)>\n",
            "Traced<ConcreteArray(nan)>with<JVPTrace(level=2/0)>\n",
            "  with primal = DeviceArray(nan, dtype=float32)\n",
            "       tangent = Traced<ShapedArray(float32[]):JaxprTrace(level=1/0)>\n",
            "Traced<ConcreteArray(nan)>with<JVPTrace(level=2/0)>\n",
            "  with primal = DeviceArray(nan, dtype=float32)\n",
            "       tangent = Traced<ShapedArray(float32[]):JaxprTrace(level=1/0)>\n",
            "Traced<ConcreteArray(nan)>with<JVPTrace(level=2/0)>\n",
            "  with primal = DeviceArray(nan, dtype=float32)\n",
            "       tangent = Traced<ShapedArray(float32[]):JaxprTrace(level=1/0)>\n",
            "Traced<ConcreteArray(nan)>with<JVPTrace(level=2/0)>\n",
            "  with primal = DeviceArray(nan, dtype=float32)\n",
            "       tangent = Traced<ShapedArray(float32[]):JaxprTrace(level=1/0)>\n",
            "Traced<ConcreteArray(nan)>with<JVPTrace(level=2/0)>\n",
            "  with primal = DeviceArray(nan, dtype=float32)\n",
            "       tangent = Traced<ShapedArray(float32[]):JaxprTrace(level=1/0)>\n",
            "Traced<ConcreteArray(nan)>with<JVPTrace(level=2/0)>\n",
            "  with primal = DeviceArray(nan, dtype=float32)\n",
            "       tangent = Traced<ShapedArray(float32[]):JaxprTrace(level=1/0)>\n",
            "Traced<ConcreteArray(nan)>with<JVPTrace(level=2/0)>\n",
            "  with primal = DeviceArray(nan, dtype=float32)\n",
            "       tangent = Traced<ShapedArray(float32[]):JaxprTrace(level=1/0)>\n",
            "Traced<ConcreteArray(nan)>with<JVPTrace(level=2/0)>\n",
            "  with primal = DeviceArray(nan, dtype=float32)\n",
            "       tangent = Traced<ShapedArray(float32[]):JaxprTrace(level=1/0)>\n",
            "Traced<ConcreteArray(nan)>with<JVPTrace(level=2/0)>\n",
            "  with primal = DeviceArray(nan, dtype=float32)\n",
            "       tangent = Traced<ShapedArray(float32[]):JaxprTrace(level=1/0)>\n",
            "Traced<ConcreteArray(nan)>with<JVPTrace(level=2/0)>\n",
            "  with primal = DeviceArray(nan, dtype=float32)\n",
            "       tangent = Traced<ShapedArray(float32[]):JaxprTrace(level=1/0)>\n",
            "Traced<ConcreteArray(nan)>with<JVPTrace(level=2/0)>\n",
            "  with primal = DeviceArray(nan, dtype=float32)\n",
            "       tangent = Traced<ShapedArray(float32[]):JaxprTrace(level=1/0)>\n",
            "Traced<ConcreteArray(nan)>with<JVPTrace(level=2/0)>\n",
            "  with primal = DeviceArray(nan, dtype=float32)\n",
            "       tangent = Traced<ShapedArray(float32[]):JaxprTrace(level=1/0)>\n",
            "Traced<ConcreteArray(nan)>with<JVPTrace(level=2/0)>\n",
            "  with primal = DeviceArray(nan, dtype=float32)\n",
            "       tangent = Traced<ShapedArray(float32[]):JaxprTrace(level=1/0)>\n",
            "Traced<ConcreteArray(nan)>with<JVPTrace(level=2/0)>\n",
            "  with primal = DeviceArray(nan, dtype=float32)\n",
            "       tangent = Traced<ShapedArray(float32[]):JaxprTrace(level=1/0)>\n",
            "Traced<ConcreteArray(nan)>with<JVPTrace(level=2/0)>\n",
            "  with primal = DeviceArray(nan, dtype=float32)\n",
            "       tangent = Traced<ShapedArray(float32[]):JaxprTrace(level=1/0)>\n",
            "Traced<ConcreteArray(nan)>with<JVPTrace(level=2/0)>\n",
            "  with primal = DeviceArray(nan, dtype=float32)\n",
            "       tangent = Traced<ShapedArray(float32[]):JaxprTrace(level=1/0)>\n",
            "Traced<ConcreteArray(nan)>with<JVPTrace(level=2/0)>\n",
            "  with primal = DeviceArray(nan, dtype=float32)\n",
            "       tangent = Traced<ShapedArray(float32[]):JaxprTrace(level=1/0)>\n",
            "Traced<ConcreteArray(nan)>with<JVPTrace(level=2/0)>\n",
            "  with primal = DeviceArray(nan, dtype=float32)\n",
            "       tangent = Traced<ShapedArray(float32[]):JaxprTrace(level=1/0)>\n",
            "Traced<ConcreteArray(nan)>with<JVPTrace(level=2/0)>\n",
            "  with primal = DeviceArray(nan, dtype=float32)\n",
            "       tangent = Traced<ShapedArray(float32[]):JaxprTrace(level=1/0)>\n",
            "Traced<ConcreteArray(nan)>with<JVPTrace(level=2/0)>\n",
            "  with primal = DeviceArray(nan, dtype=float32)\n",
            "       tangent = Traced<ShapedArray(float32[]):JaxprTrace(level=1/0)>\n",
            "Traced<ConcreteArray(nan)>with<JVPTrace(level=2/0)>\n",
            "  with primal = DeviceArray(nan, dtype=float32)\n",
            "       tangent = Traced<ShapedArray(float32[]):JaxprTrace(level=1/0)>\n",
            "Traced<ConcreteArray(nan)>with<JVPTrace(level=2/0)>\n",
            "  with primal = DeviceArray(nan, dtype=float32)\n",
            "       tangent = Traced<ShapedArray(float32[]):JaxprTrace(level=1/0)>\n",
            "Traced<ConcreteArray(nan)>with<JVPTrace(level=2/0)>\n",
            "  with primal = DeviceArray(nan, dtype=float32)\n",
            "       tangent = Traced<ShapedArray(float32[]):JaxprTrace(level=1/0)>\n",
            "Traced<ConcreteArray(nan)>with<JVPTrace(level=2/0)>\n",
            "  with primal = DeviceArray(nan, dtype=float32)\n",
            "       tangent = Traced<ShapedArray(float32[]):JaxprTrace(level=1/0)>\n",
            "Traced<ConcreteArray(nan)>with<JVPTrace(level=2/0)>\n",
            "  with primal = DeviceArray(nan, dtype=float32)\n",
            "       tangent = Traced<ShapedArray(float32[]):JaxprTrace(level=1/0)>\n",
            "Traced<ConcreteArray(nan)>with<JVPTrace(level=2/0)>\n",
            "  with primal = DeviceArray(nan, dtype=float32)\n",
            "       tangent = Traced<ShapedArray(float32[]):JaxprTrace(level=1/0)>\n",
            "Traced<ConcreteArray(nan)>with<JVPTrace(level=2/0)>\n",
            "  with primal = DeviceArray(nan, dtype=float32)\n",
            "       tangent = Traced<ShapedArray(float32[]):JaxprTrace(level=1/0)>\n",
            "Traced<ConcreteArray(nan)>with<JVPTrace(level=2/0)>\n",
            "  with primal = DeviceArray(nan, dtype=float32)\n",
            "       tangent = Traced<ShapedArray(float32[]):JaxprTrace(level=1/0)>\n",
            "Traced<ConcreteArray(nan)>with<JVPTrace(level=2/0)>\n",
            "  with primal = DeviceArray(nan, dtype=float32)\n",
            "       tangent = Traced<ShapedArray(float32[]):JaxprTrace(level=1/0)>\n",
            "Traced<ConcreteArray(nan)>with<JVPTrace(level=2/0)>\n",
            "  with primal = DeviceArray(nan, dtype=float32)\n",
            "       tangent = Traced<ShapedArray(float32[]):JaxprTrace(level=1/0)>\n",
            "Traced<ConcreteArray(nan)>with<JVPTrace(level=2/0)>\n",
            "  with primal = DeviceArray(nan, dtype=float32)\n",
            "       tangent = Traced<ShapedArray(float32[]):JaxprTrace(level=1/0)>\n",
            "Traced<ConcreteArray(nan)>with<JVPTrace(level=2/0)>\n",
            "  with primal = DeviceArray(nan, dtype=float32)\n",
            "       tangent = Traced<ShapedArray(float32[]):JaxprTrace(level=1/0)>\n",
            "Traced<ConcreteArray(nan)>with<JVPTrace(level=2/0)>\n",
            "  with primal = DeviceArray(nan, dtype=float32)\n",
            "       tangent = Traced<ShapedArray(float32[]):JaxprTrace(level=1/0)>\n",
            "Traced<ConcreteArray(nan)>with<JVPTrace(level=2/0)>\n",
            "  with primal = DeviceArray(nan, dtype=float32)\n",
            "       tangent = Traced<ShapedArray(float32[]):JaxprTrace(level=1/0)>\n",
            "Traced<ConcreteArray(nan)>with<JVPTrace(level=2/0)>\n",
            "  with primal = DeviceArray(nan, dtype=float32)\n",
            "       tangent = Traced<ShapedArray(float32[]):JaxprTrace(level=1/0)>\n",
            "Traced<ConcreteArray(nan)>with<JVPTrace(level=2/0)>\n",
            "  with primal = DeviceArray(nan, dtype=float32)\n",
            "       tangent = Traced<ShapedArray(float32[]):JaxprTrace(level=1/0)>\n",
            "Traced<ConcreteArray(nan)>with<JVPTrace(level=2/0)>\n",
            "  with primal = DeviceArray(nan, dtype=float32)\n",
            "       tangent = Traced<ShapedArray(float32[]):JaxprTrace(level=1/0)>\n",
            "Traced<ConcreteArray(nan)>with<JVPTrace(level=2/0)>\n",
            "  with primal = DeviceArray(nan, dtype=float32)\n",
            "       tangent = Traced<ShapedArray(float32[]):JaxprTrace(level=1/0)>\n",
            "Traced<ConcreteArray(nan)>with<JVPTrace(level=2/0)>\n",
            "  with primal = DeviceArray(nan, dtype=float32)\n",
            "       tangent = Traced<ShapedArray(float32[]):JaxprTrace(level=1/0)>\n",
            "Traced<ConcreteArray(nan)>with<JVPTrace(level=2/0)>\n",
            "  with primal = DeviceArray(nan, dtype=float32)\n",
            "       tangent = Traced<ShapedArray(float32[]):JaxprTrace(level=1/0)>\n",
            "Traced<ConcreteArray(nan)>with<JVPTrace(level=2/0)>\n",
            "  with primal = DeviceArray(nan, dtype=float32)\n",
            "       tangent = Traced<ShapedArray(float32[]):JaxprTrace(level=1/0)>\n",
            "Traced<ConcreteArray(nan)>with<JVPTrace(level=2/0)>\n",
            "  with primal = DeviceArray(nan, dtype=float32)\n",
            "       tangent = Traced<ShapedArray(float32[]):JaxprTrace(level=1/0)>\n",
            "Traced<ConcreteArray(nan)>with<JVPTrace(level=2/0)>\n",
            "  with primal = DeviceArray(nan, dtype=float32)\n",
            "       tangent = Traced<ShapedArray(float32[]):JaxprTrace(level=1/0)>\n",
            "Traced<ConcreteArray(nan)>with<JVPTrace(level=2/0)>\n",
            "  with primal = DeviceArray(nan, dtype=float32)\n",
            "       tangent = Traced<ShapedArray(float32[]):JaxprTrace(level=1/0)>\n",
            "Traced<ConcreteArray(nan)>with<JVPTrace(level=2/0)>\n",
            "  with primal = DeviceArray(nan, dtype=float32)\n",
            "       tangent = Traced<ShapedArray(float32[]):JaxprTrace(level=1/0)>\n",
            "Traced<ConcreteArray(nan)>with<JVPTrace(level=2/0)>\n",
            "  with primal = DeviceArray(nan, dtype=float32)\n",
            "       tangent = Traced<ShapedArray(float32[]):JaxprTrace(level=1/0)>\n",
            "Traced<ConcreteArray(nan)>with<JVPTrace(level=2/0)>\n",
            "  with primal = DeviceArray(nan, dtype=float32)\n",
            "       tangent = Traced<ShapedArray(float32[]):JaxprTrace(level=1/0)>\n",
            "Traced<ConcreteArray(nan)>with<JVPTrace(level=2/0)>\n",
            "  with primal = DeviceArray(nan, dtype=float32)\n",
            "       tangent = Traced<ShapedArray(float32[]):JaxprTrace(level=1/0)>\n",
            "Traced<ConcreteArray(nan)>with<JVPTrace(level=2/0)>\n",
            "  with primal = DeviceArray(nan, dtype=float32)\n",
            "       tangent = Traced<ShapedArray(float32[]):JaxprTrace(level=1/0)>\n",
            "Traced<ConcreteArray(nan)>with<JVPTrace(level=2/0)>\n",
            "  with primal = DeviceArray(nan, dtype=float32)\n",
            "       tangent = Traced<ShapedArray(float32[]):JaxprTrace(level=1/0)>\n",
            "Traced<ConcreteArray(nan)>with<JVPTrace(level=2/0)>\n",
            "  with primal = DeviceArray(nan, dtype=float32)\n",
            "       tangent = Traced<ShapedArray(float32[]):JaxprTrace(level=1/0)>\n",
            "Traced<ConcreteArray(nan)>with<JVPTrace(level=2/0)>\n",
            "  with primal = DeviceArray(nan, dtype=float32)\n",
            "       tangent = Traced<ShapedArray(float32[]):JaxprTrace(level=1/0)>\n",
            "Traced<ConcreteArray(nan)>with<JVPTrace(level=2/0)>\n",
            "  with primal = DeviceArray(nan, dtype=float32)\n",
            "       tangent = Traced<ShapedArray(float32[]):JaxprTrace(level=1/0)>\n",
            "Traced<ConcreteArray(nan)>with<JVPTrace(level=2/0)>\n",
            "  with primal = DeviceArray(nan, dtype=float32)\n",
            "       tangent = Traced<ShapedArray(float32[]):JaxprTrace(level=1/0)>\n",
            "Traced<ConcreteArray(nan)>with<JVPTrace(level=2/0)>\n",
            "  with primal = DeviceArray(nan, dtype=float32)\n",
            "       tangent = Traced<ShapedArray(float32[]):JaxprTrace(level=1/0)>\n",
            "Traced<ConcreteArray(nan)>with<JVPTrace(level=2/0)>\n",
            "  with primal = DeviceArray(nan, dtype=float32)\n",
            "       tangent = Traced<ShapedArray(float32[]):JaxprTrace(level=1/0)>\n",
            "Traced<ConcreteArray(nan)>with<JVPTrace(level=2/0)>\n",
            "  with primal = DeviceArray(nan, dtype=float32)\n",
            "       tangent = Traced<ShapedArray(float32[]):JaxprTrace(level=1/0)>\n",
            "Traced<ConcreteArray(nan)>with<JVPTrace(level=2/0)>\n",
            "  with primal = DeviceArray(nan, dtype=float32)\n",
            "       tangent = Traced<ShapedArray(float32[]):JaxprTrace(level=1/0)>\n",
            "Traced<ConcreteArray(nan)>with<JVPTrace(level=2/0)>\n",
            "  with primal = DeviceArray(nan, dtype=float32)\n",
            "       tangent = Traced<ShapedArray(float32[]):JaxprTrace(level=1/0)>\n",
            "Traced<ConcreteArray(nan)>with<JVPTrace(level=2/0)>\n",
            "  with primal = DeviceArray(nan, dtype=float32)\n",
            "       tangent = Traced<ShapedArray(float32[]):JaxprTrace(level=1/0)>\n",
            "Traced<ConcreteArray(nan)>with<JVPTrace(level=2/0)>\n",
            "  with primal = DeviceArray(nan, dtype=float32)\n",
            "       tangent = Traced<ShapedArray(float32[]):JaxprTrace(level=1/0)>\n",
            "Traced<ConcreteArray(nan)>with<JVPTrace(level=2/0)>\n",
            "  with primal = DeviceArray(nan, dtype=float32)\n",
            "       tangent = Traced<ShapedArray(float32[]):JaxprTrace(level=1/0)>\n",
            "Traced<ConcreteArray(nan)>with<JVPTrace(level=2/0)>\n",
            "  with primal = DeviceArray(nan, dtype=float32)\n",
            "       tangent = Traced<ShapedArray(float32[]):JaxprTrace(level=1/0)>\n",
            "Traced<ConcreteArray(nan)>with<JVPTrace(level=2/0)>\n",
            "  with primal = DeviceArray(nan, dtype=float32)\n",
            "       tangent = Traced<ShapedArray(float32[]):JaxprTrace(level=1/0)>\n",
            "Traced<ConcreteArray(nan)>with<JVPTrace(level=2/0)>\n",
            "  with primal = DeviceArray(nan, dtype=float32)\n",
            "       tangent = Traced<ShapedArray(float32[]):JaxprTrace(level=1/0)>\n",
            "Traced<ConcreteArray(nan)>with<JVPTrace(level=2/0)>\n",
            "  with primal = DeviceArray(nan, dtype=float32)\n",
            "       tangent = Traced<ShapedArray(float32[]):JaxprTrace(level=1/0)>\n",
            "Traced<ConcreteArray(nan)>with<JVPTrace(level=2/0)>\n",
            "  with primal = DeviceArray(nan, dtype=float32)\n",
            "       tangent = Traced<ShapedArray(float32[]):JaxprTrace(level=1/0)>\n",
            "Traced<ConcreteArray(nan)>with<JVPTrace(level=2/0)>\n",
            "  with primal = DeviceArray(nan, dtype=float32)\n",
            "       tangent = Traced<ShapedArray(float32[]):JaxprTrace(level=1/0)>\n",
            "Traced<ConcreteArray(nan)>with<JVPTrace(level=2/0)>\n",
            "  with primal = DeviceArray(nan, dtype=float32)\n",
            "       tangent = Traced<ShapedArray(float32[]):JaxprTrace(level=1/0)>\n",
            "Traced<ConcreteArray(nan)>with<JVPTrace(level=2/0)>\n",
            "  with primal = DeviceArray(nan, dtype=float32)\n",
            "       tangent = Traced<ShapedArray(float32[]):JaxprTrace(level=1/0)>\n",
            "Traced<ConcreteArray(nan)>with<JVPTrace(level=2/0)>\n",
            "  with primal = DeviceArray(nan, dtype=float32)\n",
            "       tangent = Traced<ShapedArray(float32[]):JaxprTrace(level=1/0)>\n",
            "Traced<ConcreteArray(nan)>with<JVPTrace(level=2/0)>\n",
            "  with primal = DeviceArray(nan, dtype=float32)\n",
            "       tangent = Traced<ShapedArray(float32[]):JaxprTrace(level=1/0)>\n",
            "Traced<ConcreteArray(nan)>with<JVPTrace(level=2/0)>\n",
            "  with primal = DeviceArray(nan, dtype=float32)\n",
            "       tangent = Traced<ShapedArray(float32[]):JaxprTrace(level=1/0)>\n",
            "Traced<ConcreteArray(nan)>with<JVPTrace(level=2/0)>\n",
            "  with primal = DeviceArray(nan, dtype=float32)\n",
            "       tangent = Traced<ShapedArray(float32[]):JaxprTrace(level=1/0)>\n",
            "Traced<ConcreteArray(nan)>with<JVPTrace(level=2/0)>\n",
            "  with primal = DeviceArray(nan, dtype=float32)\n",
            "       tangent = Traced<ShapedArray(float32[]):JaxprTrace(level=1/0)>\n",
            "Traced<ConcreteArray(nan)>with<JVPTrace(level=2/0)>\n",
            "  with primal = DeviceArray(nan, dtype=float32)\n",
            "       tangent = Traced<ShapedArray(float32[]):JaxprTrace(level=1/0)>\n",
            "Traced<ConcreteArray(nan)>with<JVPTrace(level=2/0)>\n",
            "  with primal = DeviceArray(nan, dtype=float32)\n",
            "       tangent = Traced<ShapedArray(float32[]):JaxprTrace(level=1/0)>\n",
            "Traced<ConcreteArray(nan)>with<JVPTrace(level=2/0)>\n",
            "  with primal = DeviceArray(nan, dtype=float32)\n",
            "       tangent = Traced<ShapedArray(float32[]):JaxprTrace(level=1/0)>\n",
            "Traced<ConcreteArray(nan)>with<JVPTrace(level=2/0)>\n",
            "  with primal = DeviceArray(nan, dtype=float32)\n",
            "       tangent = Traced<ShapedArray(float32[]):JaxprTrace(level=1/0)>\n",
            "Traced<ConcreteArray(nan)>with<JVPTrace(level=2/0)>\n",
            "  with primal = DeviceArray(nan, dtype=float32)\n",
            "       tangent = Traced<ShapedArray(float32[]):JaxprTrace(level=1/0)>\n",
            "Traced<ConcreteArray(nan)>with<JVPTrace(level=2/0)>\n",
            "  with primal = DeviceArray(nan, dtype=float32)\n",
            "       tangent = Traced<ShapedArray(float32[]):JaxprTrace(level=1/0)>\n",
            "Traced<ConcreteArray(nan)>with<JVPTrace(level=2/0)>\n",
            "  with primal = DeviceArray(nan, dtype=float32)\n",
            "       tangent = Traced<ShapedArray(float32[]):JaxprTrace(level=1/0)>\n",
            "Traced<ConcreteArray(nan)>with<JVPTrace(level=2/0)>\n",
            "  with primal = DeviceArray(nan, dtype=float32)\n",
            "       tangent = Traced<ShapedArray(float32[]):JaxprTrace(level=1/0)>\n",
            "Traced<ConcreteArray(nan)>with<JVPTrace(level=2/0)>\n",
            "  with primal = DeviceArray(nan, dtype=float32)\n",
            "       tangent = Traced<ShapedArray(float32[]):JaxprTrace(level=1/0)>\n",
            "Traced<ConcreteArray(nan)>with<JVPTrace(level=2/0)>\n",
            "  with primal = DeviceArray(nan, dtype=float32)\n",
            "       tangent = Traced<ShapedArray(float32[]):JaxprTrace(level=1/0)>\n",
            "Traced<ConcreteArray(nan)>with<JVPTrace(level=2/0)>\n",
            "  with primal = DeviceArray(nan, dtype=float32)\n",
            "       tangent = Traced<ShapedArray(float32[]):JaxprTrace(level=1/0)>\n",
            "Traced<ConcreteArray(nan)>with<JVPTrace(level=2/0)>\n",
            "  with primal = DeviceArray(nan, dtype=float32)\n",
            "       tangent = Traced<ShapedArray(float32[]):JaxprTrace(level=1/0)>\n",
            "Traced<ConcreteArray(nan)>with<JVPTrace(level=2/0)>\n",
            "  with primal = DeviceArray(nan, dtype=float32)\n",
            "       tangent = Traced<ShapedArray(float32[]):JaxprTrace(level=1/0)>\n",
            "Traced<ConcreteArray(nan)>with<JVPTrace(level=2/0)>\n",
            "  with primal = DeviceArray(nan, dtype=float32)\n",
            "       tangent = Traced<ShapedArray(float32[]):JaxprTrace(level=1/0)>\n",
            "Traced<ConcreteArray(nan)>with<JVPTrace(level=2/0)>\n",
            "  with primal = DeviceArray(nan, dtype=float32)\n",
            "       tangent = Traced<ShapedArray(float32[]):JaxprTrace(level=1/0)>\n",
            "Traced<ConcreteArray(nan)>with<JVPTrace(level=2/0)>\n",
            "  with primal = DeviceArray(nan, dtype=float32)\n",
            "       tangent = Traced<ShapedArray(float32[]):JaxprTrace(level=1/0)>\n",
            "Traced<ConcreteArray(nan)>with<JVPTrace(level=2/0)>\n",
            "  with primal = DeviceArray(nan, dtype=float32)\n",
            "       tangent = Traced<ShapedArray(float32[]):JaxprTrace(level=1/0)>\n",
            "Traced<ConcreteArray(nan)>with<JVPTrace(level=2/0)>\n",
            "  with primal = DeviceArray(nan, dtype=float32)\n",
            "       tangent = Traced<ShapedArray(float32[]):JaxprTrace(level=1/0)>\n",
            "Traced<ConcreteArray(nan)>with<JVPTrace(level=2/0)>\n",
            "  with primal = DeviceArray(nan, dtype=float32)\n",
            "       tangent = Traced<ShapedArray(float32[]):JaxprTrace(level=1/0)>\n",
            "Traced<ConcreteArray(nan)>with<JVPTrace(level=2/0)>\n",
            "  with primal = DeviceArray(nan, dtype=float32)\n",
            "       tangent = Traced<ShapedArray(float32[]):JaxprTrace(level=1/0)>\n",
            "Traced<ConcreteArray(nan)>with<JVPTrace(level=2/0)>\n",
            "  with primal = DeviceArray(nan, dtype=float32)\n",
            "       tangent = Traced<ShapedArray(float32[]):JaxprTrace(level=1/0)>\n",
            "Traced<ConcreteArray(nan)>with<JVPTrace(level=2/0)>\n",
            "  with primal = DeviceArray(nan, dtype=float32)\n",
            "       tangent = Traced<ShapedArray(float32[]):JaxprTrace(level=1/0)>\n",
            "Traced<ConcreteArray(nan)>with<JVPTrace(level=2/0)>\n",
            "  with primal = DeviceArray(nan, dtype=float32)\n",
            "       tangent = Traced<ShapedArray(float32[]):JaxprTrace(level=1/0)>\n",
            "Traced<ConcreteArray(nan)>with<JVPTrace(level=2/0)>\n",
            "  with primal = DeviceArray(nan, dtype=float32)\n",
            "       tangent = Traced<ShapedArray(float32[]):JaxprTrace(level=1/0)>\n",
            "Traced<ConcreteArray(nan)>with<JVPTrace(level=2/0)>\n",
            "  with primal = DeviceArray(nan, dtype=float32)\n",
            "       tangent = Traced<ShapedArray(float32[]):JaxprTrace(level=1/0)>\n",
            "Traced<ConcreteArray(nan)>with<JVPTrace(level=2/0)>\n",
            "  with primal = DeviceArray(nan, dtype=float32)\n",
            "       tangent = Traced<ShapedArray(float32[]):JaxprTrace(level=1/0)>\n",
            "Traced<ConcreteArray(nan)>with<JVPTrace(level=2/0)>\n",
            "  with primal = DeviceArray(nan, dtype=float32)\n",
            "       tangent = Traced<ShapedArray(float32[]):JaxprTrace(level=1/0)>\n",
            "Traced<ConcreteArray(nan)>with<JVPTrace(level=2/0)>\n",
            "  with primal = DeviceArray(nan, dtype=float32)\n",
            "       tangent = Traced<ShapedArray(float32[]):JaxprTrace(level=1/0)>\n",
            "Traced<ConcreteArray(nan)>with<JVPTrace(level=2/0)>\n",
            "  with primal = DeviceArray(nan, dtype=float32)\n",
            "       tangent = Traced<ShapedArray(float32[]):JaxprTrace(level=1/0)>\n",
            "Traced<ConcreteArray(nan)>with<JVPTrace(level=2/0)>\n",
            "  with primal = DeviceArray(nan, dtype=float32)\n",
            "       tangent = Traced<ShapedArray(float32[]):JaxprTrace(level=1/0)>\n",
            "Traced<ConcreteArray(nan)>with<JVPTrace(level=2/0)>\n",
            "  with primal = DeviceArray(nan, dtype=float32)\n",
            "       tangent = Traced<ShapedArray(float32[]):JaxprTrace(level=1/0)>\n",
            "Traced<ConcreteArray(nan)>with<JVPTrace(level=2/0)>\n",
            "  with primal = DeviceArray(nan, dtype=float32)\n",
            "       tangent = Traced<ShapedArray(float32[]):JaxprTrace(level=1/0)>\n",
            "Traced<ConcreteArray(nan)>with<JVPTrace(level=2/0)>\n",
            "  with primal = DeviceArray(nan, dtype=float32)\n",
            "       tangent = Traced<ShapedArray(float32[]):JaxprTrace(level=1/0)>\n"
          ],
          "name": "stdout"
        },
        {
          "output_type": "error",
          "ename": "KeyboardInterrupt",
          "evalue": "ignored",
          "traceback": [
            "\u001b[0;31m---------------------------------------------------------------------------\u001b[0m",
            "\u001b[0;31mKeyboardInterrupt\u001b[0m                         Traceback (most recent call last)",
            "\u001b[0;32m<ipython-input-233-1059a3948771>\u001b[0m in \u001b[0;36m<module>\u001b[0;34m()\u001b[0m\n\u001b[1;32m      1\u001b[0m \u001b[0;32mfor\u001b[0m \u001b[0mi\u001b[0m \u001b[0;32min\u001b[0m \u001b[0mrange\u001b[0m\u001b[0;34m(\u001b[0m\u001b[0;36m2\u001b[0m\u001b[0;34m)\u001b[0m\u001b[0;34m:\u001b[0m\u001b[0;34m\u001b[0m\u001b[0;34m\u001b[0m\u001b[0m\n\u001b[1;32m      2\u001b[0m     \u001b[0;32mfor\u001b[0m \u001b[0mx\u001b[0m\u001b[0;34m,\u001b[0m \u001b[0my\u001b[0m \u001b[0;32min\u001b[0m \u001b[0mzip\u001b[0m\u001b[0;34m(\u001b[0m\u001b[0mjax_train_x\u001b[0m\u001b[0;34m,\u001b[0m \u001b[0mjax_train_y\u001b[0m\u001b[0;34m)\u001b[0m\u001b[0;34m:\u001b[0m\u001b[0;34m\u001b[0m\u001b[0;34m\u001b[0m\u001b[0m\n\u001b[0;32m----> 3\u001b[0;31m         \u001b[0mparmas\u001b[0m \u001b[0;34m=\u001b[0m \u001b[0mupdate\u001b[0m\u001b[0;34m(\u001b[0m\u001b[0mx\u001b[0m\u001b[0;34m,\u001b[0m \u001b[0my\u001b[0m\u001b[0;34m,\u001b[0m \u001b[0mparmas\u001b[0m\u001b[0;34m)\u001b[0m\u001b[0;34m\u001b[0m\u001b[0;34m\u001b[0m\u001b[0m\n\u001b[0m",
            "\u001b[0;32m<ipython-input-232-6658f0a15534>\u001b[0m in \u001b[0;36mupdate\u001b[0;34m(inputs, y_true, parmas, lr)\u001b[0m\n\u001b[1;32m     14\u001b[0m \u001b[0;34m\u001b[0m\u001b[0m\n\u001b[1;32m     15\u001b[0m \u001b[0;32mdef\u001b[0m \u001b[0mupdate\u001b[0m\u001b[0;34m(\u001b[0m\u001b[0minputs\u001b[0m\u001b[0;34m,\u001b[0m \u001b[0my_true\u001b[0m\u001b[0;34m,\u001b[0m \u001b[0mparmas\u001b[0m\u001b[0;34m,\u001b[0m \u001b[0mlr\u001b[0m\u001b[0;34m=\u001b[0m\u001b[0;36m0.01\u001b[0m\u001b[0;34m)\u001b[0m\u001b[0;34m:\u001b[0m\u001b[0;34m\u001b[0m\u001b[0;34m\u001b[0m\u001b[0m\n\u001b[0;32m---> 16\u001b[0;31m     \u001b[0mgrad_data\u001b[0m \u001b[0;34m=\u001b[0m \u001b[0mgrad\u001b[0m\u001b[0;34m(\u001b[0m\u001b[0mloss_fun\u001b[0m\u001b[0;34m,\u001b[0m \u001b[0;34m(\u001b[0m\u001b[0;36m1\u001b[0m\u001b[0;34m,\u001b[0m\u001b[0;34m)\u001b[0m\u001b[0;34m)\u001b[0m\u001b[0;34m(\u001b[0m\u001b[0minputs\u001b[0m\u001b[0;34m,\u001b[0m \u001b[0mparmas\u001b[0m\u001b[0;34m,\u001b[0m \u001b[0my_true\u001b[0m\u001b[0;34m)\u001b[0m\u001b[0;34m\u001b[0m\u001b[0;34m\u001b[0m\u001b[0m\n\u001b[0m\u001b[1;32m     17\u001b[0m     \u001b[0mnew_parmas\u001b[0m \u001b[0;34m=\u001b[0m \u001b[0;34m[\u001b[0m\u001b[0;34m(\u001b[0m\u001b[0mw\u001b[0m \u001b[0;34m-\u001b[0m \u001b[0mlr\u001b[0m \u001b[0;34m*\u001b[0m \u001b[0mdw\u001b[0m\u001b[0;34m,\u001b[0m \u001b[0mb\u001b[0m \u001b[0;34m-\u001b[0m \u001b[0mlr\u001b[0m \u001b[0;34m*\u001b[0m \u001b[0mdb\u001b[0m\u001b[0;34m)\u001b[0m \u001b[0;32mfor\u001b[0m \u001b[0;34m(\u001b[0m\u001b[0mdw\u001b[0m\u001b[0;34m,\u001b[0m \u001b[0mdb\u001b[0m\u001b[0;34m)\u001b[0m\u001b[0;34m,\u001b[0m \u001b[0;34m(\u001b[0m\u001b[0mw\u001b[0m\u001b[0;34m,\u001b[0m \u001b[0mb\u001b[0m\u001b[0;34m)\u001b[0m \u001b[0;32min\u001b[0m \u001b[0mzip\u001b[0m\u001b[0;34m(\u001b[0m\u001b[0mgrad_data\u001b[0m\u001b[0;34m[\u001b[0m\u001b[0;36m0\u001b[0m\u001b[0;34m]\u001b[0m\u001b[0;34m,\u001b[0m \u001b[0mparmas\u001b[0m\u001b[0;34m)\u001b[0m\u001b[0;34m]\u001b[0m\u001b[0;34m\u001b[0m\u001b[0;34m\u001b[0m\u001b[0m\n\u001b[1;32m     18\u001b[0m     \u001b[0;31m# print(new_parmas)\u001b[0m\u001b[0;34m\u001b[0m\u001b[0;34m\u001b[0m\u001b[0;34m\u001b[0m\u001b[0m\n",
            "\u001b[0;32m/usr/local/lib/python3.6/dist-packages/jax/api.py\u001b[0m in \u001b[0;36mgrad_f\u001b[0;34m(*args, **kwargs)\u001b[0m\n\u001b[1;32m    704\u001b[0m   \u001b[0;34m@\u001b[0m\u001b[0mapi_boundary\u001b[0m\u001b[0;34m\u001b[0m\u001b[0;34m\u001b[0m\u001b[0m\n\u001b[1;32m    705\u001b[0m   \u001b[0;32mdef\u001b[0m \u001b[0mgrad_f\u001b[0m\u001b[0;34m(\u001b[0m\u001b[0;34m*\u001b[0m\u001b[0margs\u001b[0m\u001b[0;34m,\u001b[0m \u001b[0;34m**\u001b[0m\u001b[0mkwargs\u001b[0m\u001b[0;34m)\u001b[0m\u001b[0;34m:\u001b[0m\u001b[0;34m\u001b[0m\u001b[0;34m\u001b[0m\u001b[0m\n\u001b[0;32m--> 706\u001b[0;31m     \u001b[0m_\u001b[0m\u001b[0;34m,\u001b[0m \u001b[0mg\u001b[0m \u001b[0;34m=\u001b[0m \u001b[0mvalue_and_grad_f\u001b[0m\u001b[0;34m(\u001b[0m\u001b[0;34m*\u001b[0m\u001b[0margs\u001b[0m\u001b[0;34m,\u001b[0m \u001b[0;34m**\u001b[0m\u001b[0mkwargs\u001b[0m\u001b[0;34m)\u001b[0m\u001b[0;34m\u001b[0m\u001b[0;34m\u001b[0m\u001b[0m\n\u001b[0m\u001b[1;32m    707\u001b[0m     \u001b[0;32mreturn\u001b[0m \u001b[0mg\u001b[0m\u001b[0;34m\u001b[0m\u001b[0;34m\u001b[0m\u001b[0m\n\u001b[1;32m    708\u001b[0m \u001b[0;34m\u001b[0m\u001b[0m\n",
            "\u001b[0;32m/usr/local/lib/python3.6/dist-packages/jax/api.py\u001b[0m in \u001b[0;36mvalue_and_grad_f\u001b[0;34m(*args, **kwargs)\u001b[0m\n\u001b[1;32m    767\u001b[0m     \u001b[0mtree_map\u001b[0m\u001b[0;34m(\u001b[0m\u001b[0mpartial\u001b[0m\u001b[0;34m(\u001b[0m\u001b[0m_check_input_dtype_grad\u001b[0m\u001b[0;34m,\u001b[0m \u001b[0mholomorphic\u001b[0m\u001b[0;34m,\u001b[0m \u001b[0mallow_int\u001b[0m\u001b[0;34m)\u001b[0m\u001b[0;34m,\u001b[0m \u001b[0mdyn_args\u001b[0m\u001b[0;34m)\u001b[0m\u001b[0;34m\u001b[0m\u001b[0;34m\u001b[0m\u001b[0m\n\u001b[1;32m    768\u001b[0m     \u001b[0;32mif\u001b[0m \u001b[0;32mnot\u001b[0m \u001b[0mhas_aux\u001b[0m\u001b[0;34m:\u001b[0m\u001b[0;34m\u001b[0m\u001b[0;34m\u001b[0m\u001b[0m\n\u001b[0;32m--> 769\u001b[0;31m       \u001b[0mans\u001b[0m\u001b[0;34m,\u001b[0m \u001b[0mvjp_py\u001b[0m \u001b[0;34m=\u001b[0m \u001b[0m_vjp\u001b[0m\u001b[0;34m(\u001b[0m\u001b[0mf_partial\u001b[0m\u001b[0;34m,\u001b[0m \u001b[0;34m*\u001b[0m\u001b[0mdyn_args\u001b[0m\u001b[0;34m)\u001b[0m\u001b[0;34m\u001b[0m\u001b[0;34m\u001b[0m\u001b[0m\n\u001b[0m\u001b[1;32m    770\u001b[0m     \u001b[0;32melse\u001b[0m\u001b[0;34m:\u001b[0m\u001b[0;34m\u001b[0m\u001b[0;34m\u001b[0m\u001b[0m\n\u001b[1;32m    771\u001b[0m       \u001b[0mans\u001b[0m\u001b[0;34m,\u001b[0m \u001b[0mvjp_py\u001b[0m\u001b[0;34m,\u001b[0m \u001b[0maux\u001b[0m \u001b[0;34m=\u001b[0m \u001b[0m_vjp\u001b[0m\u001b[0;34m(\u001b[0m\u001b[0mf_partial\u001b[0m\u001b[0;34m,\u001b[0m \u001b[0;34m*\u001b[0m\u001b[0mdyn_args\u001b[0m\u001b[0;34m,\u001b[0m \u001b[0mhas_aux\u001b[0m\u001b[0;34m=\u001b[0m\u001b[0;32mTrue\u001b[0m\u001b[0;34m)\u001b[0m\u001b[0;34m\u001b[0m\u001b[0;34m\u001b[0m\u001b[0m\n",
            "\u001b[0;32m/usr/local/lib/python3.6/dist-packages/jax/api.py\u001b[0m in \u001b[0;36m_vjp\u001b[0;34m(fun, has_aux, *primals)\u001b[0m\n\u001b[1;32m   1844\u001b[0m   \u001b[0;32mif\u001b[0m \u001b[0;32mnot\u001b[0m \u001b[0mhas_aux\u001b[0m\u001b[0;34m:\u001b[0m\u001b[0;34m\u001b[0m\u001b[0;34m\u001b[0m\u001b[0m\n\u001b[1;32m   1845\u001b[0m     \u001b[0mflat_fun\u001b[0m\u001b[0;34m,\u001b[0m \u001b[0mout_tree\u001b[0m \u001b[0;34m=\u001b[0m \u001b[0mflatten_fun_nokwargs\u001b[0m\u001b[0;34m(\u001b[0m\u001b[0mfun\u001b[0m\u001b[0;34m,\u001b[0m \u001b[0min_tree\u001b[0m\u001b[0;34m)\u001b[0m\u001b[0;34m\u001b[0m\u001b[0;34m\u001b[0m\u001b[0m\n\u001b[0;32m-> 1846\u001b[0;31m     \u001b[0mout_primal\u001b[0m\u001b[0;34m,\u001b[0m \u001b[0mout_vjp\u001b[0m \u001b[0;34m=\u001b[0m \u001b[0mad\u001b[0m\u001b[0;34m.\u001b[0m\u001b[0mvjp\u001b[0m\u001b[0;34m(\u001b[0m\u001b[0mflat_fun\u001b[0m\u001b[0;34m,\u001b[0m \u001b[0mprimals_flat\u001b[0m\u001b[0;34m)\u001b[0m\u001b[0;34m\u001b[0m\u001b[0;34m\u001b[0m\u001b[0m\n\u001b[0m\u001b[1;32m   1847\u001b[0m     \u001b[0mout_tree\u001b[0m \u001b[0;34m=\u001b[0m \u001b[0mout_tree\u001b[0m\u001b[0;34m(\u001b[0m\u001b[0;34m)\u001b[0m\u001b[0;34m\u001b[0m\u001b[0;34m\u001b[0m\u001b[0m\n\u001b[1;32m   1848\u001b[0m   \u001b[0;32melse\u001b[0m\u001b[0;34m:\u001b[0m\u001b[0;34m\u001b[0m\u001b[0;34m\u001b[0m\u001b[0m\n",
            "\u001b[0;32m/usr/local/lib/python3.6/dist-packages/jax/interpreters/ad.py\u001b[0m in \u001b[0;36mvjp\u001b[0;34m(traceable, primals, has_aux)\u001b[0m\n\u001b[1;32m    112\u001b[0m \u001b[0;32mdef\u001b[0m \u001b[0mvjp\u001b[0m\u001b[0;34m(\u001b[0m\u001b[0mtraceable\u001b[0m\u001b[0;34m,\u001b[0m \u001b[0mprimals\u001b[0m\u001b[0;34m,\u001b[0m \u001b[0mhas_aux\u001b[0m\u001b[0;34m=\u001b[0m\u001b[0;32mFalse\u001b[0m\u001b[0;34m)\u001b[0m\u001b[0;34m:\u001b[0m\u001b[0;34m\u001b[0m\u001b[0;34m\u001b[0m\u001b[0m\n\u001b[1;32m    113\u001b[0m   \u001b[0;32mif\u001b[0m \u001b[0;32mnot\u001b[0m \u001b[0mhas_aux\u001b[0m\u001b[0;34m:\u001b[0m\u001b[0;34m\u001b[0m\u001b[0;34m\u001b[0m\u001b[0m\n\u001b[0;32m--> 114\u001b[0;31m     \u001b[0mout_primals\u001b[0m\u001b[0;34m,\u001b[0m \u001b[0mpvals\u001b[0m\u001b[0;34m,\u001b[0m \u001b[0mjaxpr\u001b[0m\u001b[0;34m,\u001b[0m \u001b[0mconsts\u001b[0m \u001b[0;34m=\u001b[0m \u001b[0mlinearize\u001b[0m\u001b[0;34m(\u001b[0m\u001b[0mtraceable\u001b[0m\u001b[0;34m,\u001b[0m \u001b[0;34m*\u001b[0m\u001b[0mprimals\u001b[0m\u001b[0;34m)\u001b[0m\u001b[0;34m\u001b[0m\u001b[0;34m\u001b[0m\u001b[0m\n\u001b[0m\u001b[1;32m    115\u001b[0m   \u001b[0;32melse\u001b[0m\u001b[0;34m:\u001b[0m\u001b[0;34m\u001b[0m\u001b[0;34m\u001b[0m\u001b[0m\n\u001b[1;32m    116\u001b[0m     \u001b[0mout_primals\u001b[0m\u001b[0;34m,\u001b[0m \u001b[0mpvals\u001b[0m\u001b[0;34m,\u001b[0m \u001b[0mjaxpr\u001b[0m\u001b[0;34m,\u001b[0m \u001b[0mconsts\u001b[0m\u001b[0;34m,\u001b[0m \u001b[0maux\u001b[0m \u001b[0;34m=\u001b[0m \u001b[0mlinearize\u001b[0m\u001b[0;34m(\u001b[0m\u001b[0mtraceable\u001b[0m\u001b[0;34m,\u001b[0m \u001b[0;34m*\u001b[0m\u001b[0mprimals\u001b[0m\u001b[0;34m,\u001b[0m \u001b[0mhas_aux\u001b[0m\u001b[0;34m=\u001b[0m\u001b[0;32mTrue\u001b[0m\u001b[0;34m)\u001b[0m\u001b[0;34m\u001b[0m\u001b[0;34m\u001b[0m\u001b[0m\n",
            "\u001b[0;32m/usr/local/lib/python3.6/dist-packages/jax/interpreters/ad.py\u001b[0m in \u001b[0;36mlinearize\u001b[0;34m(traceable, *primals, **kwargs)\u001b[0m\n\u001b[1;32m     99\u001b[0m   \u001b[0m_\u001b[0m\u001b[0;34m,\u001b[0m \u001b[0min_tree\u001b[0m \u001b[0;34m=\u001b[0m \u001b[0mtree_flatten\u001b[0m\u001b[0;34m(\u001b[0m\u001b[0;34m(\u001b[0m\u001b[0;34m(\u001b[0m\u001b[0mprimals\u001b[0m\u001b[0;34m,\u001b[0m \u001b[0mprimals\u001b[0m\u001b[0;34m)\u001b[0m\u001b[0;34m,\u001b[0m \u001b[0;34m{\u001b[0m\u001b[0;34m}\u001b[0m\u001b[0;34m)\u001b[0m\u001b[0;34m)\u001b[0m\u001b[0;34m\u001b[0m\u001b[0;34m\u001b[0m\u001b[0m\n\u001b[1;32m    100\u001b[0m   \u001b[0mjvpfun_flat\u001b[0m\u001b[0;34m,\u001b[0m \u001b[0mout_tree\u001b[0m \u001b[0;34m=\u001b[0m \u001b[0mflatten_fun\u001b[0m\u001b[0;34m(\u001b[0m\u001b[0mjvpfun\u001b[0m\u001b[0;34m,\u001b[0m \u001b[0min_tree\u001b[0m\u001b[0;34m)\u001b[0m\u001b[0;34m\u001b[0m\u001b[0;34m\u001b[0m\u001b[0m\n\u001b[0;32m--> 101\u001b[0;31m   \u001b[0mjaxpr\u001b[0m\u001b[0;34m,\u001b[0m \u001b[0mout_pvals\u001b[0m\u001b[0;34m,\u001b[0m \u001b[0mconsts\u001b[0m \u001b[0;34m=\u001b[0m \u001b[0mpe\u001b[0m\u001b[0;34m.\u001b[0m\u001b[0mtrace_to_jaxpr\u001b[0m\u001b[0;34m(\u001b[0m\u001b[0mjvpfun_flat\u001b[0m\u001b[0;34m,\u001b[0m \u001b[0min_pvals\u001b[0m\u001b[0;34m)\u001b[0m\u001b[0;34m\u001b[0m\u001b[0;34m\u001b[0m\u001b[0m\n\u001b[0m\u001b[1;32m    102\u001b[0m   \u001b[0mout_primals_pvals\u001b[0m\u001b[0;34m,\u001b[0m \u001b[0mout_tangents_pvals\u001b[0m \u001b[0;34m=\u001b[0m \u001b[0mtree_unflatten\u001b[0m\u001b[0;34m(\u001b[0m\u001b[0mout_tree\u001b[0m\u001b[0;34m(\u001b[0m\u001b[0;34m)\u001b[0m\u001b[0;34m,\u001b[0m \u001b[0mout_pvals\u001b[0m\u001b[0;34m)\u001b[0m\u001b[0;34m\u001b[0m\u001b[0;34m\u001b[0m\u001b[0m\n\u001b[1;32m    103\u001b[0m   \u001b[0;32massert\u001b[0m \u001b[0mall\u001b[0m\u001b[0;34m(\u001b[0m\u001b[0mout_primal_pval\u001b[0m\u001b[0;34m.\u001b[0m\u001b[0mis_known\u001b[0m\u001b[0;34m(\u001b[0m\u001b[0;34m)\u001b[0m \u001b[0;32mfor\u001b[0m \u001b[0mout_primal_pval\u001b[0m \u001b[0;32min\u001b[0m \u001b[0mout_primals_pvals\u001b[0m\u001b[0;34m)\u001b[0m\u001b[0;34m\u001b[0m\u001b[0;34m\u001b[0m\u001b[0m\n",
            "\u001b[0;32m/usr/local/lib/python3.6/dist-packages/jax/interpreters/partial_eval.py\u001b[0m in \u001b[0;36mtrace_to_jaxpr\u001b[0;34m(fun, pvals, instantiate)\u001b[0m\n\u001b[1;32m    514\u001b[0m   \u001b[0;32mwith\u001b[0m \u001b[0mcore\u001b[0m\u001b[0;34m.\u001b[0m\u001b[0mnew_main\u001b[0m\u001b[0;34m(\u001b[0m\u001b[0mJaxprTrace\u001b[0m\u001b[0;34m)\u001b[0m \u001b[0;32mas\u001b[0m \u001b[0mmain\u001b[0m\u001b[0;34m:\u001b[0m\u001b[0;34m\u001b[0m\u001b[0;34m\u001b[0m\u001b[0m\n\u001b[1;32m    515\u001b[0m     \u001b[0mfun\u001b[0m \u001b[0;34m=\u001b[0m \u001b[0mtrace_to_subjaxpr\u001b[0m\u001b[0;34m(\u001b[0m\u001b[0mfun\u001b[0m\u001b[0;34m,\u001b[0m \u001b[0mmain\u001b[0m\u001b[0;34m,\u001b[0m \u001b[0minstantiate\u001b[0m\u001b[0;34m)\u001b[0m\u001b[0;34m\u001b[0m\u001b[0;34m\u001b[0m\u001b[0m\n\u001b[0;32m--> 516\u001b[0;31m     \u001b[0mjaxpr\u001b[0m\u001b[0;34m,\u001b[0m \u001b[0;34m(\u001b[0m\u001b[0mout_pvals\u001b[0m\u001b[0;34m,\u001b[0m \u001b[0mconsts\u001b[0m\u001b[0;34m,\u001b[0m \u001b[0menv\u001b[0m\u001b[0;34m)\u001b[0m \u001b[0;34m=\u001b[0m \u001b[0mfun\u001b[0m\u001b[0;34m.\u001b[0m\u001b[0mcall_wrapped\u001b[0m\u001b[0;34m(\u001b[0m\u001b[0mpvals\u001b[0m\u001b[0;34m)\u001b[0m\u001b[0;34m\u001b[0m\u001b[0;34m\u001b[0m\u001b[0m\n\u001b[0m\u001b[1;32m    517\u001b[0m     \u001b[0;32massert\u001b[0m \u001b[0;32mnot\u001b[0m \u001b[0menv\u001b[0m\u001b[0;34m\u001b[0m\u001b[0;34m\u001b[0m\u001b[0m\n\u001b[1;32m    518\u001b[0m     \u001b[0;32mdel\u001b[0m \u001b[0mmain\u001b[0m\u001b[0;34m\u001b[0m\u001b[0;34m\u001b[0m\u001b[0m\n",
            "\u001b[0;32m/usr/local/lib/python3.6/dist-packages/jax/linear_util.py\u001b[0m in \u001b[0;36mcall_wrapped\u001b[0;34m(self, *args, **kwargs)\u001b[0m\n\u001b[1;32m    158\u001b[0m \u001b[0;34m\u001b[0m\u001b[0m\n\u001b[1;32m    159\u001b[0m     \u001b[0;32mtry\u001b[0m\u001b[0;34m:\u001b[0m\u001b[0;34m\u001b[0m\u001b[0;34m\u001b[0m\u001b[0m\n\u001b[0;32m--> 160\u001b[0;31m       \u001b[0mans\u001b[0m \u001b[0;34m=\u001b[0m \u001b[0mself\u001b[0m\u001b[0;34m.\u001b[0m\u001b[0mf\u001b[0m\u001b[0;34m(\u001b[0m\u001b[0;34m*\u001b[0m\u001b[0margs\u001b[0m\u001b[0;34m,\u001b[0m \u001b[0;34m**\u001b[0m\u001b[0mdict\u001b[0m\u001b[0;34m(\u001b[0m\u001b[0mself\u001b[0m\u001b[0;34m.\u001b[0m\u001b[0mparams\u001b[0m\u001b[0;34m,\u001b[0m \u001b[0;34m**\u001b[0m\u001b[0mkwargs\u001b[0m\u001b[0;34m)\u001b[0m\u001b[0;34m)\u001b[0m\u001b[0;34m\u001b[0m\u001b[0;34m\u001b[0m\u001b[0m\n\u001b[0m\u001b[1;32m    161\u001b[0m     \u001b[0;32mexcept\u001b[0m\u001b[0;34m:\u001b[0m\u001b[0;34m\u001b[0m\u001b[0;34m\u001b[0m\u001b[0m\n\u001b[1;32m    162\u001b[0m       \u001b[0;31m# Some transformations yield from inside context managers, so we have to\u001b[0m\u001b[0;34m\u001b[0m\u001b[0;34m\u001b[0m\u001b[0;34m\u001b[0m\u001b[0m\n",
            "\u001b[0;32m<ipython-input-232-6658f0a15534>\u001b[0m in \u001b[0;36mloss_fun\u001b[0;34m(inputs, parmas, y_true)\u001b[0m\n\u001b[1;32m      8\u001b[0m \u001b[0;34m\u001b[0m\u001b[0m\n\u001b[1;32m      9\u001b[0m \u001b[0;32mdef\u001b[0m \u001b[0mloss_fun\u001b[0m\u001b[0;34m(\u001b[0m\u001b[0minputs\u001b[0m\u001b[0;34m,\u001b[0m \u001b[0mparmas\u001b[0m\u001b[0;34m,\u001b[0m \u001b[0my_true\u001b[0m\u001b[0;34m)\u001b[0m\u001b[0;34m:\u001b[0m\u001b[0;34m\u001b[0m\u001b[0;34m\u001b[0m\u001b[0m\n\u001b[0;32m---> 10\u001b[0;31m     \u001b[0mpredict\u001b[0m \u001b[0;34m=\u001b[0m \u001b[0mforward\u001b[0m\u001b[0;34m(\u001b[0m\u001b[0minputs\u001b[0m\u001b[0;34m,\u001b[0m \u001b[0mparmas\u001b[0m\u001b[0;34m)\u001b[0m\u001b[0;34m\u001b[0m\u001b[0;34m\u001b[0m\u001b[0m\n\u001b[0m\u001b[1;32m     11\u001b[0m     \u001b[0mloss\u001b[0m \u001b[0;34m=\u001b[0m \u001b[0;34m-\u001b[0m\u001b[0mjnp\u001b[0m\u001b[0;34m.\u001b[0m\u001b[0mmean\u001b[0m\u001b[0;34m(\u001b[0m\u001b[0mpredict\u001b[0m \u001b[0;34m*\u001b[0m \u001b[0my_true\u001b[0m\u001b[0;34m)\u001b[0m\u001b[0;34m\u001b[0m\u001b[0;34m\u001b[0m\u001b[0m\n\u001b[1;32m     12\u001b[0m     \u001b[0mprint\u001b[0m\u001b[0;34m(\u001b[0m\u001b[0mloss\u001b[0m\u001b[0;34m)\u001b[0m\u001b[0;34m\u001b[0m\u001b[0;34m\u001b[0m\u001b[0m\n",
            "\u001b[0;32m<ipython-input-232-6658f0a15534>\u001b[0m in \u001b[0;36mforward\u001b[0;34m(inputs, parmas)\u001b[0m\n\u001b[1;32m      2\u001b[0m     \u001b[0;32mfor\u001b[0m \u001b[0mw\u001b[0m\u001b[0;34m,\u001b[0m \u001b[0mb\u001b[0m \u001b[0;32min\u001b[0m \u001b[0mparmas\u001b[0m\u001b[0;34m[\u001b[0m\u001b[0;34m:\u001b[0m\u001b[0;34m-\u001b[0m\u001b[0;36m1\u001b[0m\u001b[0;34m]\u001b[0m\u001b[0;34m:\u001b[0m\u001b[0;34m\u001b[0m\u001b[0;34m\u001b[0m\u001b[0m\n\u001b[1;32m      3\u001b[0m         \u001b[0moutputs\u001b[0m \u001b[0;34m=\u001b[0m \u001b[0mfc\u001b[0m\u001b[0;34m(\u001b[0m\u001b[0minputs\u001b[0m\u001b[0;34m,\u001b[0m \u001b[0mw\u001b[0m\u001b[0;34m,\u001b[0m \u001b[0mb\u001b[0m\u001b[0;34m)\u001b[0m\u001b[0;34m\u001b[0m\u001b[0;34m\u001b[0m\u001b[0m\n\u001b[0;32m----> 4\u001b[0;31m         \u001b[0minputs\u001b[0m \u001b[0;34m=\u001b[0m \u001b[0mrelu\u001b[0m\u001b[0;34m(\u001b[0m\u001b[0moutputs\u001b[0m\u001b[0;34m)\u001b[0m\u001b[0;34m\u001b[0m\u001b[0;34m\u001b[0m\u001b[0m\n\u001b[0m\u001b[1;32m      5\u001b[0m \u001b[0;34m\u001b[0m\u001b[0m\n\u001b[1;32m      6\u001b[0m     \u001b[0moutputs\u001b[0m \u001b[0;34m=\u001b[0m \u001b[0mfc\u001b[0m\u001b[0;34m(\u001b[0m\u001b[0minputs\u001b[0m\u001b[0;34m,\u001b[0m \u001b[0;34m*\u001b[0m\u001b[0mparmas\u001b[0m\u001b[0;34m[\u001b[0m\u001b[0;34m-\u001b[0m\u001b[0;36m1\u001b[0m\u001b[0;34m]\u001b[0m\u001b[0;34m)\u001b[0m\u001b[0;34m\u001b[0m\u001b[0;34m\u001b[0m\u001b[0m\n",
            "\u001b[0;32m<ipython-input-231-092fad241136>\u001b[0m in \u001b[0;36mrelu\u001b[0;34m(inputs)\u001b[0m\n\u001b[1;32m      3\u001b[0m \u001b[0;34m\u001b[0m\u001b[0m\n\u001b[1;32m      4\u001b[0m \u001b[0;32mdef\u001b[0m \u001b[0mrelu\u001b[0m\u001b[0;34m(\u001b[0m\u001b[0minputs\u001b[0m\u001b[0;34m)\u001b[0m\u001b[0;34m:\u001b[0m\u001b[0;34m\u001b[0m\u001b[0;34m\u001b[0m\u001b[0m\n\u001b[0;32m----> 5\u001b[0;31m     \u001b[0;32mreturn\u001b[0m  \u001b[0mjnp\u001b[0m\u001b[0;34m.\u001b[0m\u001b[0mmaximum\u001b[0m\u001b[0;34m(\u001b[0m\u001b[0;36m0\u001b[0m\u001b[0;34m,\u001b[0m \u001b[0minputs\u001b[0m\u001b[0;34m)\u001b[0m\u001b[0;34m\u001b[0m\u001b[0;34m\u001b[0m\u001b[0m\n\u001b[0m\u001b[1;32m      6\u001b[0m \u001b[0;34m\u001b[0m\u001b[0m\n\u001b[1;32m      7\u001b[0m \u001b[0;32mdef\u001b[0m \u001b[0msoftmax\u001b[0m\u001b[0;34m(\u001b[0m\u001b[0minputs\u001b[0m\u001b[0;34m)\u001b[0m\u001b[0;34m:\u001b[0m\u001b[0;34m\u001b[0m\u001b[0;34m\u001b[0m\u001b[0m\n",
            "\u001b[0;32m/usr/local/lib/python3.6/dist-packages/jax/_src/numpy/lax_numpy.py\u001b[0m in \u001b[0;36m<lambda>\u001b[0;34m(x1, x2)\u001b[0m\n\u001b[1;32m    377\u001b[0m     \u001b[0mfn\u001b[0m \u001b[0;34m=\u001b[0m \u001b[0;32mlambda\u001b[0m \u001b[0mx1\u001b[0m\u001b[0;34m,\u001b[0m \u001b[0mx2\u001b[0m\u001b[0;34m:\u001b[0m \u001b[0mlax_fn\u001b[0m\u001b[0;34m(\u001b[0m\u001b[0;34m*\u001b[0m\u001b[0m_promote_args_inexact\u001b[0m\u001b[0;34m(\u001b[0m\u001b[0mnumpy_fn\u001b[0m\u001b[0;34m.\u001b[0m\u001b[0m__name__\u001b[0m\u001b[0;34m,\u001b[0m \u001b[0mx1\u001b[0m\u001b[0;34m,\u001b[0m \u001b[0mx2\u001b[0m\u001b[0;34m)\u001b[0m\u001b[0;34m)\u001b[0m\u001b[0;34m\u001b[0m\u001b[0;34m\u001b[0m\u001b[0m\n\u001b[1;32m    378\u001b[0m   \u001b[0;32melse\u001b[0m\u001b[0;34m:\u001b[0m\u001b[0;34m\u001b[0m\u001b[0;34m\u001b[0m\u001b[0m\n\u001b[0;32m--> 379\u001b[0;31m     \u001b[0mfn\u001b[0m \u001b[0;34m=\u001b[0m \u001b[0;32mlambda\u001b[0m \u001b[0mx1\u001b[0m\u001b[0;34m,\u001b[0m \u001b[0mx2\u001b[0m\u001b[0;34m:\u001b[0m \u001b[0mlax_fn\u001b[0m\u001b[0;34m(\u001b[0m\u001b[0;34m*\u001b[0m\u001b[0m_promote_args\u001b[0m\u001b[0;34m(\u001b[0m\u001b[0mnumpy_fn\u001b[0m\u001b[0;34m.\u001b[0m\u001b[0m__name__\u001b[0m\u001b[0;34m,\u001b[0m \u001b[0mx1\u001b[0m\u001b[0;34m,\u001b[0m \u001b[0mx2\u001b[0m\u001b[0;34m)\u001b[0m\u001b[0;34m)\u001b[0m\u001b[0;34m\u001b[0m\u001b[0;34m\u001b[0m\u001b[0m\n\u001b[0m\u001b[1;32m    380\u001b[0m   \u001b[0;32mif\u001b[0m \u001b[0mlax_doc\u001b[0m\u001b[0;34m:\u001b[0m\u001b[0;34m\u001b[0m\u001b[0;34m\u001b[0m\u001b[0m\n\u001b[1;32m    381\u001b[0m     \u001b[0mdoc\u001b[0m \u001b[0;34m=\u001b[0m \u001b[0m_dedent\u001b[0m\u001b[0;34m(\u001b[0m\u001b[0;34m'\\n\\n'\u001b[0m\u001b[0;34m.\u001b[0m\u001b[0mjoin\u001b[0m\u001b[0;34m(\u001b[0m\u001b[0mlax_fn\u001b[0m\u001b[0;34m.\u001b[0m\u001b[0m__doc__\u001b[0m\u001b[0;34m.\u001b[0m\u001b[0msplit\u001b[0m\u001b[0;34m(\u001b[0m\u001b[0;34m'\\n\\n'\u001b[0m\u001b[0;34m)\u001b[0m\u001b[0;34m[\u001b[0m\u001b[0;36m1\u001b[0m\u001b[0;34m:\u001b[0m\u001b[0;34m]\u001b[0m\u001b[0;34m)\u001b[0m\u001b[0;34m)\u001b[0m\u001b[0;34m.\u001b[0m\u001b[0mstrip\u001b[0m\u001b[0;34m(\u001b[0m\u001b[0;34m)\u001b[0m\u001b[0;34m\u001b[0m\u001b[0;34m\u001b[0m\u001b[0m\n",
            "\u001b[0;32m/usr/local/lib/python3.6/dist-packages/jax/_src/lax/lax.py\u001b[0m in \u001b[0;36mmax\u001b[0;34m(x, y)\u001b[0m\n\u001b[1;32m    366\u001b[0m   \u001b[0mFor\u001b[0m \u001b[0mcomplex\u001b[0m \u001b[0mnumbers\u001b[0m\u001b[0;34m,\u001b[0m \u001b[0muses\u001b[0m \u001b[0ma\u001b[0m \u001b[0mlexicographic\u001b[0m \u001b[0mcomparison\u001b[0m \u001b[0mon\u001b[0m \u001b[0mthe\u001b[0m\u001b[0;34m\u001b[0m\u001b[0;34m\u001b[0m\u001b[0m\n\u001b[1;32m    367\u001b[0m   `(real, imaginary)` pairs.\"\"\"\n\u001b[0;32m--> 368\u001b[0;31m   \u001b[0;32mreturn\u001b[0m \u001b[0mmax_p\u001b[0m\u001b[0;34m.\u001b[0m\u001b[0mbind\u001b[0m\u001b[0;34m(\u001b[0m\u001b[0mx\u001b[0m\u001b[0;34m,\u001b[0m \u001b[0my\u001b[0m\u001b[0;34m)\u001b[0m\u001b[0;34m\u001b[0m\u001b[0;34m\u001b[0m\u001b[0m\n\u001b[0m\u001b[1;32m    369\u001b[0m \u001b[0;34m\u001b[0m\u001b[0m\n\u001b[1;32m    370\u001b[0m \u001b[0;32mdef\u001b[0m \u001b[0mmin\u001b[0m\u001b[0;34m(\u001b[0m\u001b[0mx\u001b[0m\u001b[0;34m:\u001b[0m \u001b[0mArray\u001b[0m\u001b[0;34m,\u001b[0m \u001b[0my\u001b[0m\u001b[0;34m:\u001b[0m \u001b[0mArray\u001b[0m\u001b[0;34m)\u001b[0m \u001b[0;34m->\u001b[0m \u001b[0mArray\u001b[0m\u001b[0;34m:\u001b[0m\u001b[0;34m\u001b[0m\u001b[0;34m\u001b[0m\u001b[0m\n",
            "\u001b[0;32m/usr/local/lib/python3.6/dist-packages/jax/core.py\u001b[0m in \u001b[0;36mbind\u001b[0;34m(self, *args, **params)\u001b[0m\n\u001b[1;32m    269\u001b[0m     \u001b[0mtop_trace\u001b[0m \u001b[0;34m=\u001b[0m \u001b[0mfind_top_trace\u001b[0m\u001b[0;34m(\u001b[0m\u001b[0margs\u001b[0m\u001b[0;34m)\u001b[0m\u001b[0;34m\u001b[0m\u001b[0;34m\u001b[0m\u001b[0m\n\u001b[1;32m    270\u001b[0m     \u001b[0mtracers\u001b[0m \u001b[0;34m=\u001b[0m \u001b[0mmap\u001b[0m\u001b[0;34m(\u001b[0m\u001b[0mtop_trace\u001b[0m\u001b[0;34m.\u001b[0m\u001b[0mfull_raise\u001b[0m\u001b[0;34m,\u001b[0m \u001b[0margs\u001b[0m\u001b[0;34m)\u001b[0m\u001b[0;34m\u001b[0m\u001b[0;34m\u001b[0m\u001b[0m\n\u001b[0;32m--> 271\u001b[0;31m     \u001b[0mout\u001b[0m \u001b[0;34m=\u001b[0m \u001b[0mtop_trace\u001b[0m\u001b[0;34m.\u001b[0m\u001b[0mprocess_primitive\u001b[0m\u001b[0;34m(\u001b[0m\u001b[0mself\u001b[0m\u001b[0;34m,\u001b[0m \u001b[0mtracers\u001b[0m\u001b[0;34m,\u001b[0m \u001b[0mparams\u001b[0m\u001b[0;34m)\u001b[0m\u001b[0;34m\u001b[0m\u001b[0;34m\u001b[0m\u001b[0m\n\u001b[0m\u001b[1;32m    272\u001b[0m     \u001b[0;32mreturn\u001b[0m \u001b[0mmap\u001b[0m\u001b[0;34m(\u001b[0m\u001b[0mfull_lower\u001b[0m\u001b[0;34m,\u001b[0m \u001b[0mout\u001b[0m\u001b[0;34m)\u001b[0m \u001b[0;32mif\u001b[0m \u001b[0mself\u001b[0m\u001b[0;34m.\u001b[0m\u001b[0mmultiple_results\u001b[0m \u001b[0;32melse\u001b[0m \u001b[0mfull_lower\u001b[0m\u001b[0;34m(\u001b[0m\u001b[0mout\u001b[0m\u001b[0;34m)\u001b[0m\u001b[0;34m\u001b[0m\u001b[0;34m\u001b[0m\u001b[0m\n\u001b[1;32m    273\u001b[0m \u001b[0;34m\u001b[0m\u001b[0m\n",
            "\u001b[0;32m/usr/local/lib/python3.6/dist-packages/jax/interpreters/ad.py\u001b[0m in \u001b[0;36mprocess_primitive\u001b[0;34m(self, primitive, tracers, params)\u001b[0m\n\u001b[1;32m    283\u001b[0m       \u001b[0mmsg\u001b[0m \u001b[0;34m=\u001b[0m \u001b[0;34mf\"Differentiation rule for '{primitive}' not implemented\"\u001b[0m\u001b[0;34m\u001b[0m\u001b[0;34m\u001b[0m\u001b[0m\n\u001b[1;32m    284\u001b[0m       \u001b[0;32mraise\u001b[0m \u001b[0mNotImplementedError\u001b[0m\u001b[0;34m(\u001b[0m\u001b[0mmsg\u001b[0m\u001b[0;34m)\u001b[0m\u001b[0;34m\u001b[0m\u001b[0;34m\u001b[0m\u001b[0m\n\u001b[0;32m--> 285\u001b[0;31m     \u001b[0mprimal_out\u001b[0m\u001b[0;34m,\u001b[0m \u001b[0mtangent_out\u001b[0m \u001b[0;34m=\u001b[0m \u001b[0mjvp\u001b[0m\u001b[0;34m(\u001b[0m\u001b[0mprimals_in\u001b[0m\u001b[0;34m,\u001b[0m \u001b[0mtangents_in\u001b[0m\u001b[0;34m,\u001b[0m \u001b[0;34m**\u001b[0m\u001b[0mparams\u001b[0m\u001b[0;34m)\u001b[0m\u001b[0;34m\u001b[0m\u001b[0;34m\u001b[0m\u001b[0m\n\u001b[0m\u001b[1;32m    286\u001b[0m     \u001b[0;32mif\u001b[0m \u001b[0mprimitive\u001b[0m\u001b[0;34m.\u001b[0m\u001b[0mmultiple_results\u001b[0m\u001b[0;34m:\u001b[0m\u001b[0;34m\u001b[0m\u001b[0;34m\u001b[0m\u001b[0m\n\u001b[1;32m    287\u001b[0m       \u001b[0;32mreturn\u001b[0m \u001b[0;34m[\u001b[0m\u001b[0mJVPTracer\u001b[0m\u001b[0;34m(\u001b[0m\u001b[0mself\u001b[0m\u001b[0;34m,\u001b[0m \u001b[0mx\u001b[0m\u001b[0;34m,\u001b[0m \u001b[0mt\u001b[0m\u001b[0;34m)\u001b[0m \u001b[0;32mfor\u001b[0m \u001b[0mx\u001b[0m\u001b[0;34m,\u001b[0m \u001b[0mt\u001b[0m \u001b[0;32min\u001b[0m \u001b[0mzip\u001b[0m\u001b[0;34m(\u001b[0m\u001b[0mprimal_out\u001b[0m\u001b[0;34m,\u001b[0m \u001b[0mtangent_out\u001b[0m\u001b[0;34m)\u001b[0m\u001b[0;34m]\u001b[0m\u001b[0;34m\u001b[0m\u001b[0;34m\u001b[0m\u001b[0m\n",
            "\u001b[0;32m/usr/local/lib/python3.6/dist-packages/jax/interpreters/ad.py\u001b[0m in \u001b[0;36mstandard_jvp2\u001b[0;34m(jvprules, primitive, primals, tangents, **params)\u001b[0m\n\u001b[1;32m    470\u001b[0m   tangents_out = (rule(t, val_out, *primals, **params) for rule, t in zip(jvprules, tangents)\n\u001b[1;32m    471\u001b[0m                   if rule is not None and type(t) is not Zero)\n\u001b[0;32m--> 472\u001b[0;31m   \u001b[0mtangents_out\u001b[0m \u001b[0;34m=\u001b[0m \u001b[0mlist\u001b[0m\u001b[0;34m(\u001b[0m\u001b[0mtangents_out\u001b[0m\u001b[0;34m)\u001b[0m\u001b[0;34m\u001b[0m\u001b[0;34m\u001b[0m\u001b[0m\n\u001b[0m\u001b[1;32m    473\u001b[0m   \u001b[0;32mreturn\u001b[0m \u001b[0mval_out\u001b[0m\u001b[0;34m,\u001b[0m \u001b[0mfunctools\u001b[0m\u001b[0;34m.\u001b[0m\u001b[0mreduce\u001b[0m\u001b[0;34m(\u001b[0m\u001b[0madd_tangents\u001b[0m\u001b[0;34m,\u001b[0m \u001b[0mtangents_out\u001b[0m\u001b[0;34m,\u001b[0m \u001b[0mZero\u001b[0m\u001b[0;34m.\u001b[0m\u001b[0mfrom_value\u001b[0m\u001b[0;34m(\u001b[0m\u001b[0mval_out\u001b[0m\u001b[0;34m)\u001b[0m\u001b[0;34m)\u001b[0m\u001b[0;34m\u001b[0m\u001b[0;34m\u001b[0m\u001b[0m\n\u001b[1;32m    474\u001b[0m \u001b[0;34m\u001b[0m\u001b[0m\n",
            "\u001b[0;32m/usr/local/lib/python3.6/dist-packages/jax/interpreters/ad.py\u001b[0m in \u001b[0;36m<genexpr>\u001b[0;34m(.0)\u001b[0m\n\u001b[1;32m    469\u001b[0m   \u001b[0mval_out\u001b[0m \u001b[0;34m=\u001b[0m \u001b[0mprimitive\u001b[0m\u001b[0;34m.\u001b[0m\u001b[0mbind\u001b[0m\u001b[0;34m(\u001b[0m\u001b[0;34m*\u001b[0m\u001b[0mprimals\u001b[0m\u001b[0;34m,\u001b[0m \u001b[0;34m**\u001b[0m\u001b[0mparams\u001b[0m\u001b[0;34m)\u001b[0m\u001b[0;34m\u001b[0m\u001b[0;34m\u001b[0m\u001b[0m\n\u001b[1;32m    470\u001b[0m   tangents_out = (rule(t, val_out, *primals, **params) for rule, t in zip(jvprules, tangents)\n\u001b[0;32m--> 471\u001b[0;31m                   if rule is not None and type(t) is not Zero)\n\u001b[0m\u001b[1;32m    472\u001b[0m   \u001b[0mtangents_out\u001b[0m \u001b[0;34m=\u001b[0m \u001b[0mlist\u001b[0m\u001b[0;34m(\u001b[0m\u001b[0mtangents_out\u001b[0m\u001b[0;34m)\u001b[0m\u001b[0;34m\u001b[0m\u001b[0;34m\u001b[0m\u001b[0m\n\u001b[1;32m    473\u001b[0m   \u001b[0;32mreturn\u001b[0m \u001b[0mval_out\u001b[0m\u001b[0;34m,\u001b[0m \u001b[0mfunctools\u001b[0m\u001b[0;34m.\u001b[0m\u001b[0mreduce\u001b[0m\u001b[0;34m(\u001b[0m\u001b[0madd_tangents\u001b[0m\u001b[0;34m,\u001b[0m \u001b[0mtangents_out\u001b[0m\u001b[0;34m,\u001b[0m \u001b[0mZero\u001b[0m\u001b[0;34m.\u001b[0m\u001b[0mfrom_value\u001b[0m\u001b[0;34m(\u001b[0m\u001b[0mval_out\u001b[0m\u001b[0;34m)\u001b[0m\u001b[0;34m)\u001b[0m\u001b[0;34m\u001b[0m\u001b[0;34m\u001b[0m\u001b[0m\n",
            "\u001b[0;32m/usr/local/lib/python3.6/dist-packages/jax/_src/lax/lax.py\u001b[0m in \u001b[0;36m<lambda>\u001b[0;34m(g, ans, x, y)\u001b[0m\n\u001b[1;32m   2531\u001b[0m ad.defjvp2(max_p,\n\u001b[1;32m   2532\u001b[0m            \u001b[0;32mlambda\u001b[0m \u001b[0mg\u001b[0m\u001b[0;34m,\u001b[0m \u001b[0mans\u001b[0m\u001b[0;34m,\u001b[0m \u001b[0mx\u001b[0m\u001b[0;34m,\u001b[0m \u001b[0my\u001b[0m\u001b[0;34m:\u001b[0m \u001b[0mmul\u001b[0m\u001b[0;34m(\u001b[0m\u001b[0m_brcast\u001b[0m\u001b[0;34m(\u001b[0m\u001b[0mg\u001b[0m\u001b[0;34m,\u001b[0m \u001b[0my\u001b[0m\u001b[0;34m)\u001b[0m\u001b[0;34m,\u001b[0m \u001b[0m_balanced_eq\u001b[0m\u001b[0;34m(\u001b[0m\u001b[0mx\u001b[0m\u001b[0;34m,\u001b[0m \u001b[0mans\u001b[0m\u001b[0;34m,\u001b[0m \u001b[0my\u001b[0m\u001b[0;34m)\u001b[0m\u001b[0;34m)\u001b[0m\u001b[0;34m,\u001b[0m\u001b[0;34m\u001b[0m\u001b[0;34m\u001b[0m\u001b[0m\n\u001b[0;32m-> 2533\u001b[0;31m            lambda g, ans, x, y: mul(_brcast(g, x), _balanced_eq(y, ans, x)))\n\u001b[0m\u001b[1;32m   2534\u001b[0m \u001b[0;34m\u001b[0m\u001b[0m\n\u001b[1;32m   2535\u001b[0m min_p: core.Primitive = standard_naryop(\n",
            "\u001b[0;32m/usr/local/lib/python3.6/dist-packages/jax/_src/lax/lax.py\u001b[0m in \u001b[0;36m_balanced_eq\u001b[0;34m(x, z, y)\u001b[0m\n\u001b[1;32m   6303\u001b[0m \u001b[0;34m\u001b[0m\u001b[0m\n\u001b[1;32m   6304\u001b[0m \u001b[0;32mdef\u001b[0m \u001b[0m_balanced_eq\u001b[0m\u001b[0;34m(\u001b[0m\u001b[0mx\u001b[0m\u001b[0;34m,\u001b[0m \u001b[0mz\u001b[0m\u001b[0;34m,\u001b[0m \u001b[0my\u001b[0m\u001b[0;34m)\u001b[0m\u001b[0;34m:\u001b[0m\u001b[0;34m\u001b[0m\u001b[0;34m\u001b[0m\u001b[0m\n\u001b[0;32m-> 6305\u001b[0;31m   return div(select(_eq_meet(x, z), _ones(z), _zeros(z)),\n\u001b[0m\u001b[1;32m   6306\u001b[0m              select(_eq_meet(y, z), _twos(z), _ones(z)))\n\u001b[1;32m   6307\u001b[0m \u001b[0;34m\u001b[0m\u001b[0m\n",
            "\u001b[0;32m/usr/local/lib/python3.6/dist-packages/jax/_src/lax/lax.py\u001b[0m in \u001b[0;36mselect\u001b[0;34m(pred, on_true, on_false)\u001b[0m\n\u001b[1;32m    759\u001b[0m   \u001b[0moperator\u001b[0m\u001b[0;34m.\u001b[0m\u001b[0;34m\u001b[0m\u001b[0;34m\u001b[0m\u001b[0m\n\u001b[1;32m    760\u001b[0m   \"\"\"\n\u001b[0;32m--> 761\u001b[0;31m   \u001b[0;32mreturn\u001b[0m \u001b[0mselect_p\u001b[0m\u001b[0;34m.\u001b[0m\u001b[0mbind\u001b[0m\u001b[0;34m(\u001b[0m\u001b[0mpred\u001b[0m\u001b[0;34m,\u001b[0m \u001b[0mon_true\u001b[0m\u001b[0;34m,\u001b[0m \u001b[0mon_false\u001b[0m\u001b[0;34m)\u001b[0m\u001b[0;34m\u001b[0m\u001b[0;34m\u001b[0m\u001b[0m\n\u001b[0m\u001b[1;32m    762\u001b[0m \u001b[0;34m\u001b[0m\u001b[0m\n\u001b[1;32m    763\u001b[0m def slice(operand: Array, start_indices: Sequence[int],\n",
            "\u001b[0;32m/usr/local/lib/python3.6/dist-packages/jax/core.py\u001b[0m in \u001b[0;36mbind\u001b[0;34m(self, *args, **params)\u001b[0m\n\u001b[1;32m    269\u001b[0m     \u001b[0mtop_trace\u001b[0m \u001b[0;34m=\u001b[0m \u001b[0mfind_top_trace\u001b[0m\u001b[0;34m(\u001b[0m\u001b[0margs\u001b[0m\u001b[0;34m)\u001b[0m\u001b[0;34m\u001b[0m\u001b[0;34m\u001b[0m\u001b[0m\n\u001b[1;32m    270\u001b[0m     \u001b[0mtracers\u001b[0m \u001b[0;34m=\u001b[0m \u001b[0mmap\u001b[0m\u001b[0;34m(\u001b[0m\u001b[0mtop_trace\u001b[0m\u001b[0;34m.\u001b[0m\u001b[0mfull_raise\u001b[0m\u001b[0;34m,\u001b[0m \u001b[0margs\u001b[0m\u001b[0;34m)\u001b[0m\u001b[0;34m\u001b[0m\u001b[0;34m\u001b[0m\u001b[0m\n\u001b[0;32m--> 271\u001b[0;31m     \u001b[0mout\u001b[0m \u001b[0;34m=\u001b[0m \u001b[0mtop_trace\u001b[0m\u001b[0;34m.\u001b[0m\u001b[0mprocess_primitive\u001b[0m\u001b[0;34m(\u001b[0m\u001b[0mself\u001b[0m\u001b[0;34m,\u001b[0m \u001b[0mtracers\u001b[0m\u001b[0;34m,\u001b[0m \u001b[0mparams\u001b[0m\u001b[0;34m)\u001b[0m\u001b[0;34m\u001b[0m\u001b[0;34m\u001b[0m\u001b[0m\n\u001b[0m\u001b[1;32m    272\u001b[0m     \u001b[0;32mreturn\u001b[0m \u001b[0mmap\u001b[0m\u001b[0;34m(\u001b[0m\u001b[0mfull_lower\u001b[0m\u001b[0;34m,\u001b[0m \u001b[0mout\u001b[0m\u001b[0;34m)\u001b[0m \u001b[0;32mif\u001b[0m \u001b[0mself\u001b[0m\u001b[0;34m.\u001b[0m\u001b[0mmultiple_results\u001b[0m \u001b[0;32melse\u001b[0m \u001b[0mfull_lower\u001b[0m\u001b[0;34m(\u001b[0m\u001b[0mout\u001b[0m\u001b[0;34m)\u001b[0m\u001b[0;34m\u001b[0m\u001b[0;34m\u001b[0m\u001b[0m\n\u001b[1;32m    273\u001b[0m \u001b[0;34m\u001b[0m\u001b[0m\n",
            "\u001b[0;32m/usr/local/lib/python3.6/dist-packages/jax/core.py\u001b[0m in \u001b[0;36mprocess_primitive\u001b[0;34m(self, primitive, tracers, params)\u001b[0m\n\u001b[1;32m    593\u001b[0m \u001b[0;34m\u001b[0m\u001b[0m\n\u001b[1;32m    594\u001b[0m   \u001b[0;32mdef\u001b[0m \u001b[0mprocess_primitive\u001b[0m\u001b[0;34m(\u001b[0m\u001b[0mself\u001b[0m\u001b[0;34m,\u001b[0m \u001b[0mprimitive\u001b[0m\u001b[0;34m,\u001b[0m \u001b[0mtracers\u001b[0m\u001b[0;34m,\u001b[0m \u001b[0mparams\u001b[0m\u001b[0;34m)\u001b[0m\u001b[0;34m:\u001b[0m\u001b[0;34m\u001b[0m\u001b[0;34m\u001b[0m\u001b[0m\n\u001b[0;32m--> 595\u001b[0;31m     \u001b[0;32mreturn\u001b[0m \u001b[0mprimitive\u001b[0m\u001b[0;34m.\u001b[0m\u001b[0mimpl\u001b[0m\u001b[0;34m(\u001b[0m\u001b[0;34m*\u001b[0m\u001b[0mtracers\u001b[0m\u001b[0;34m,\u001b[0m \u001b[0;34m**\u001b[0m\u001b[0mparams\u001b[0m\u001b[0;34m)\u001b[0m\u001b[0;34m\u001b[0m\u001b[0;34m\u001b[0m\u001b[0m\n\u001b[0m\u001b[1;32m    596\u001b[0m \u001b[0;34m\u001b[0m\u001b[0m\n\u001b[1;32m    597\u001b[0m   \u001b[0;32mdef\u001b[0m \u001b[0mprocess_call\u001b[0m\u001b[0;34m(\u001b[0m\u001b[0mself\u001b[0m\u001b[0;34m,\u001b[0m \u001b[0mprimitive\u001b[0m\u001b[0;34m,\u001b[0m \u001b[0mf\u001b[0m\u001b[0;34m,\u001b[0m \u001b[0mtracers\u001b[0m\u001b[0;34m,\u001b[0m \u001b[0mparams\u001b[0m\u001b[0;34m)\u001b[0m\u001b[0;34m:\u001b[0m\u001b[0;34m\u001b[0m\u001b[0;34m\u001b[0m\u001b[0m\n",
            "\u001b[0;32m/usr/local/lib/python3.6/dist-packages/jax/interpreters/xla.py\u001b[0m in \u001b[0;36mapply_primitive\u001b[0;34m(prim, *args, **params)\u001b[0m\n\u001b[1;32m    234\u001b[0m   \u001b[0;34m\"\"\"Impl rule that compiles and runs a single primitive 'prim' using XLA.\"\"\"\u001b[0m\u001b[0;34m\u001b[0m\u001b[0;34m\u001b[0m\u001b[0m\n\u001b[1;32m    235\u001b[0m   \u001b[0mcompiled_fun\u001b[0m \u001b[0;34m=\u001b[0m \u001b[0mxla_primitive_callable\u001b[0m\u001b[0;34m(\u001b[0m\u001b[0mprim\u001b[0m\u001b[0;34m,\u001b[0m \u001b[0;34m*\u001b[0m\u001b[0munsafe_map\u001b[0m\u001b[0;34m(\u001b[0m\u001b[0marg_spec\u001b[0m\u001b[0;34m,\u001b[0m \u001b[0margs\u001b[0m\u001b[0;34m)\u001b[0m\u001b[0;34m,\u001b[0m \u001b[0;34m**\u001b[0m\u001b[0mparams\u001b[0m\u001b[0;34m)\u001b[0m\u001b[0;34m\u001b[0m\u001b[0;34m\u001b[0m\u001b[0m\n\u001b[0;32m--> 236\u001b[0;31m   \u001b[0;32mreturn\u001b[0m \u001b[0mcompiled_fun\u001b[0m\u001b[0;34m(\u001b[0m\u001b[0;34m*\u001b[0m\u001b[0margs\u001b[0m\u001b[0;34m)\u001b[0m\u001b[0;34m\u001b[0m\u001b[0;34m\u001b[0m\u001b[0m\n\u001b[0m\u001b[1;32m    237\u001b[0m \u001b[0;34m\u001b[0m\u001b[0m\n\u001b[1;32m    238\u001b[0m \u001b[0;34m\u001b[0m\u001b[0m\n",
            "\u001b[0;32m/usr/local/lib/python3.6/dist-packages/jax/interpreters/xla.py\u001b[0m in \u001b[0;36m_execute_compiled_primitive\u001b[0;34m(prim, compiled, result_handler, *args)\u001b[0m\n\u001b[1;32m    348\u001b[0m \u001b[0;32mdef\u001b[0m \u001b[0m_execute_compiled_primitive\u001b[0m\u001b[0;34m(\u001b[0m\u001b[0mprim\u001b[0m\u001b[0;34m,\u001b[0m \u001b[0mcompiled\u001b[0m\u001b[0;34m,\u001b[0m \u001b[0mresult_handler\u001b[0m\u001b[0;34m,\u001b[0m \u001b[0;34m*\u001b[0m\u001b[0margs\u001b[0m\u001b[0;34m)\u001b[0m\u001b[0;34m:\u001b[0m\u001b[0;34m\u001b[0m\u001b[0;34m\u001b[0m\u001b[0m\n\u001b[1;32m    349\u001b[0m   \u001b[0mdevice\u001b[0m\u001b[0;34m,\u001b[0m \u001b[0;34m=\u001b[0m \u001b[0mcompiled\u001b[0m\u001b[0;34m.\u001b[0m\u001b[0mlocal_devices\u001b[0m\u001b[0;34m(\u001b[0m\u001b[0;34m)\u001b[0m\u001b[0;34m\u001b[0m\u001b[0;34m\u001b[0m\u001b[0m\n\u001b[0;32m--> 350\u001b[0;31m   \u001b[0minput_bufs\u001b[0m \u001b[0;34m=\u001b[0m \u001b[0mlist\u001b[0m\u001b[0;34m(\u001b[0m\u001b[0mit\u001b[0m\u001b[0;34m.\u001b[0m\u001b[0mchain\u001b[0m\u001b[0;34m.\u001b[0m\u001b[0mfrom_iterable\u001b[0m\u001b[0;34m(\u001b[0m\u001b[0mdevice_put\u001b[0m\u001b[0;34m(\u001b[0m\u001b[0mx\u001b[0m\u001b[0;34m,\u001b[0m \u001b[0mdevice\u001b[0m\u001b[0;34m)\u001b[0m \u001b[0;32mfor\u001b[0m \u001b[0mx\u001b[0m \u001b[0;32min\u001b[0m \u001b[0margs\u001b[0m \u001b[0;32mif\u001b[0m \u001b[0mx\u001b[0m \u001b[0;32mis\u001b[0m \u001b[0;32mnot\u001b[0m \u001b[0mtoken\u001b[0m\u001b[0;34m)\u001b[0m\u001b[0;34m)\u001b[0m\u001b[0;34m\u001b[0m\u001b[0;34m\u001b[0m\u001b[0m\n\u001b[0m\u001b[1;32m    351\u001b[0m   \u001b[0mout_bufs\u001b[0m \u001b[0;34m=\u001b[0m \u001b[0mcompiled\u001b[0m\u001b[0;34m.\u001b[0m\u001b[0mexecute\u001b[0m\u001b[0;34m(\u001b[0m\u001b[0minput_bufs\u001b[0m\u001b[0;34m)\u001b[0m\u001b[0;34m\u001b[0m\u001b[0;34m\u001b[0m\u001b[0m\n\u001b[1;32m    352\u001b[0m   \u001b[0;32mif\u001b[0m \u001b[0mFLAGS\u001b[0m\u001b[0;34m.\u001b[0m\u001b[0mjax_debug_nans\u001b[0m\u001b[0;34m:\u001b[0m \u001b[0mcheck_nans\u001b[0m\u001b[0;34m(\u001b[0m\u001b[0mprim\u001b[0m\u001b[0;34m,\u001b[0m \u001b[0mout_bufs\u001b[0m\u001b[0;34m)\u001b[0m\u001b[0;34m\u001b[0m\u001b[0;34m\u001b[0m\u001b[0m\n",
            "\u001b[0;32m/usr/local/lib/python3.6/dist-packages/jax/interpreters/xla.py\u001b[0m in \u001b[0;36m<genexpr>\u001b[0;34m(.0)\u001b[0m\n\u001b[1;32m    348\u001b[0m \u001b[0;32mdef\u001b[0m \u001b[0m_execute_compiled_primitive\u001b[0m\u001b[0;34m(\u001b[0m\u001b[0mprim\u001b[0m\u001b[0;34m,\u001b[0m \u001b[0mcompiled\u001b[0m\u001b[0;34m,\u001b[0m \u001b[0mresult_handler\u001b[0m\u001b[0;34m,\u001b[0m \u001b[0;34m*\u001b[0m\u001b[0margs\u001b[0m\u001b[0;34m)\u001b[0m\u001b[0;34m:\u001b[0m\u001b[0;34m\u001b[0m\u001b[0;34m\u001b[0m\u001b[0m\n\u001b[1;32m    349\u001b[0m   \u001b[0mdevice\u001b[0m\u001b[0;34m,\u001b[0m \u001b[0;34m=\u001b[0m \u001b[0mcompiled\u001b[0m\u001b[0;34m.\u001b[0m\u001b[0mlocal_devices\u001b[0m\u001b[0;34m(\u001b[0m\u001b[0;34m)\u001b[0m\u001b[0;34m\u001b[0m\u001b[0;34m\u001b[0m\u001b[0m\n\u001b[0;32m--> 350\u001b[0;31m   \u001b[0minput_bufs\u001b[0m \u001b[0;34m=\u001b[0m \u001b[0mlist\u001b[0m\u001b[0;34m(\u001b[0m\u001b[0mit\u001b[0m\u001b[0;34m.\u001b[0m\u001b[0mchain\u001b[0m\u001b[0;34m.\u001b[0m\u001b[0mfrom_iterable\u001b[0m\u001b[0;34m(\u001b[0m\u001b[0mdevice_put\u001b[0m\u001b[0;34m(\u001b[0m\u001b[0mx\u001b[0m\u001b[0;34m,\u001b[0m \u001b[0mdevice\u001b[0m\u001b[0;34m)\u001b[0m \u001b[0;32mfor\u001b[0m \u001b[0mx\u001b[0m \u001b[0;32min\u001b[0m \u001b[0margs\u001b[0m \u001b[0;32mif\u001b[0m \u001b[0mx\u001b[0m \u001b[0;32mis\u001b[0m \u001b[0;32mnot\u001b[0m \u001b[0mtoken\u001b[0m\u001b[0;34m)\u001b[0m\u001b[0;34m)\u001b[0m\u001b[0;34m\u001b[0m\u001b[0;34m\u001b[0m\u001b[0m\n\u001b[0m\u001b[1;32m    351\u001b[0m   \u001b[0mout_bufs\u001b[0m \u001b[0;34m=\u001b[0m \u001b[0mcompiled\u001b[0m\u001b[0;34m.\u001b[0m\u001b[0mexecute\u001b[0m\u001b[0;34m(\u001b[0m\u001b[0minput_bufs\u001b[0m\u001b[0;34m)\u001b[0m\u001b[0;34m\u001b[0m\u001b[0;34m\u001b[0m\u001b[0m\n\u001b[1;32m    352\u001b[0m   \u001b[0;32mif\u001b[0m \u001b[0mFLAGS\u001b[0m\u001b[0;34m.\u001b[0m\u001b[0mjax_debug_nans\u001b[0m\u001b[0;34m:\u001b[0m \u001b[0mcheck_nans\u001b[0m\u001b[0;34m(\u001b[0m\u001b[0mprim\u001b[0m\u001b[0;34m,\u001b[0m \u001b[0mout_bufs\u001b[0m\u001b[0;34m)\u001b[0m\u001b[0;34m\u001b[0m\u001b[0;34m\u001b[0m\u001b[0m\n",
            "\u001b[0;32m/usr/local/lib/python3.6/dist-packages/jax/interpreters/xla.py\u001b[0m in \u001b[0;36mdevice_put\u001b[0;34m(x, device)\u001b[0m\n\u001b[1;32m    125\u001b[0m   \u001b[0mx\u001b[0m \u001b[0;34m=\u001b[0m \u001b[0mcanonicalize_dtype\u001b[0m\u001b[0;34m(\u001b[0m\u001b[0mx\u001b[0m\u001b[0;34m)\u001b[0m\u001b[0;34m\u001b[0m\u001b[0;34m\u001b[0m\u001b[0m\n\u001b[1;32m    126\u001b[0m   \u001b[0;32mtry\u001b[0m\u001b[0;34m:\u001b[0m\u001b[0;34m\u001b[0m\u001b[0;34m\u001b[0m\u001b[0m\n\u001b[0;32m--> 127\u001b[0;31m     \u001b[0;32mreturn\u001b[0m \u001b[0mdevice_put_handlers\u001b[0m\u001b[0;34m[\u001b[0m\u001b[0mtype\u001b[0m\u001b[0;34m(\u001b[0m\u001b[0mx\u001b[0m\u001b[0;34m)\u001b[0m\u001b[0;34m]\u001b[0m\u001b[0;34m(\u001b[0m\u001b[0mx\u001b[0m\u001b[0;34m,\u001b[0m \u001b[0mdevice\u001b[0m\u001b[0;34m)\u001b[0m\u001b[0;34m\u001b[0m\u001b[0;34m\u001b[0m\u001b[0m\n\u001b[0m\u001b[1;32m    128\u001b[0m   \u001b[0;32mexcept\u001b[0m \u001b[0mKeyError\u001b[0m \u001b[0;32mas\u001b[0m \u001b[0merr\u001b[0m\u001b[0;34m:\u001b[0m\u001b[0;34m\u001b[0m\u001b[0;34m\u001b[0m\u001b[0m\n\u001b[1;32m    129\u001b[0m     \u001b[0;32mraise\u001b[0m \u001b[0mTypeError\u001b[0m\u001b[0;34m(\u001b[0m\u001b[0;34mf\"No device_put handler for type: {type(x)}\"\u001b[0m\u001b[0;34m)\u001b[0m \u001b[0;32mfrom\u001b[0m \u001b[0merr\u001b[0m\u001b[0;34m\u001b[0m\u001b[0;34m\u001b[0m\u001b[0m\n",
            "\u001b[0;32m/usr/local/lib/python3.6/dist-packages/jax/interpreters/xla.py\u001b[0m in \u001b[0;36m_device_put_device_array\u001b[0;34m(x, device)\u001b[0m\n\u001b[1;32m   1295\u001b[0m \u001b[0;32mdef\u001b[0m \u001b[0m_device_put_device_array\u001b[0m\u001b[0;34m(\u001b[0m\u001b[0mx\u001b[0m\u001b[0;34m:\u001b[0m \u001b[0mUnion\u001b[0m\u001b[0;34m[\u001b[0m\u001b[0mDeviceArrayProtocol\u001b[0m\u001b[0;34m,\u001b[0m \u001b[0m_DeviceArray\u001b[0m\u001b[0;34m]\u001b[0m\u001b[0;34m,\u001b[0m \u001b[0mdevice\u001b[0m\u001b[0;34m:\u001b[0m \u001b[0mOptional\u001b[0m\u001b[0;34m[\u001b[0m\u001b[0mDevice\u001b[0m\u001b[0;34m]\u001b[0m\u001b[0;34m)\u001b[0m\u001b[0;34m:\u001b[0m\u001b[0;34m\u001b[0m\u001b[0;34m\u001b[0m\u001b[0m\n\u001b[1;32m   1296\u001b[0m   \u001b[0mx\u001b[0m \u001b[0;34m=\u001b[0m \u001b[0m_copy_device_array_to_device\u001b[0m\u001b[0;34m(\u001b[0m\u001b[0mx\u001b[0m\u001b[0;34m,\u001b[0m \u001b[0mdevice\u001b[0m\u001b[0;34m)\u001b[0m\u001b[0;34m\u001b[0m\u001b[0;34m\u001b[0m\u001b[0m\n\u001b[0;32m-> 1297\u001b[0;31m   \u001b[0;32mreturn\u001b[0m \u001b[0;34m(\u001b[0m\u001b[0m_force\u001b[0m\u001b[0;34m(\u001b[0m\u001b[0mx\u001b[0m\u001b[0;34m)\u001b[0m\u001b[0;34m.\u001b[0m\u001b[0mdevice_buffer\u001b[0m\u001b[0;34m,\u001b[0m\u001b[0;34m)\u001b[0m\u001b[0;34m\u001b[0m\u001b[0;34m\u001b[0m\u001b[0m\n\u001b[0m\u001b[1;32m   1298\u001b[0m \u001b[0mdevice_put_handlers\u001b[0m\u001b[0;34m[\u001b[0m\u001b[0m_CppDeviceArray\u001b[0m\u001b[0;34m]\u001b[0m \u001b[0;34m=\u001b[0m \u001b[0m_device_put_device_array\u001b[0m\u001b[0;34m\u001b[0m\u001b[0;34m\u001b[0m\u001b[0m\n\u001b[1;32m   1299\u001b[0m \u001b[0mdevice_put_handlers\u001b[0m\u001b[0;34m[\u001b[0m\u001b[0m_DeviceArray\u001b[0m\u001b[0;34m]\u001b[0m \u001b[0;34m=\u001b[0m \u001b[0m_device_put_device_array\u001b[0m\u001b[0;34m\u001b[0m\u001b[0;34m\u001b[0m\u001b[0m\n",
            "\u001b[0;32m/usr/local/lib/python3.6/dist-packages/jax/interpreters/xla.py\u001b[0m in \u001b[0;36m_force\u001b[0;34m(x)\u001b[0m\n\u001b[1;32m   1334\u001b[0m       \u001b[0mdevice\u001b[0m \u001b[0;34m=\u001b[0m \u001b[0mx\u001b[0m\u001b[0;34m.\u001b[0m\u001b[0mdevice_buffer\u001b[0m\u001b[0;34m.\u001b[0m\u001b[0mdevice\u001b[0m\u001b[0;34m(\u001b[0m\u001b[0;34m)\u001b[0m\u001b[0;34m\u001b[0m\u001b[0;34m\u001b[0m\u001b[0m\n\u001b[1;32m   1335\u001b[0m     \u001b[0mforce_fun\u001b[0m \u001b[0;34m=\u001b[0m \u001b[0m_lazy_force_computation\u001b[0m\u001b[0;34m(\u001b[0m\u001b[0mx\u001b[0m\u001b[0;34m.\u001b[0m\u001b[0maval\u001b[0m\u001b[0;34m,\u001b[0m \u001b[0mdevice\u001b[0m\u001b[0;34m,\u001b[0m \u001b[0mx\u001b[0m\u001b[0;34m.\u001b[0m\u001b[0m_lazy_expr\u001b[0m\u001b[0;34m)\u001b[0m\u001b[0;34m\u001b[0m\u001b[0;34m\u001b[0m\u001b[0m\n\u001b[0;32m-> 1336\u001b[0;31m     \u001b[0mresult\u001b[0m \u001b[0;34m=\u001b[0m \u001b[0mforce_fun\u001b[0m\u001b[0;34m(\u001b[0m\u001b[0mx\u001b[0m\u001b[0;34m)\u001b[0m\u001b[0;34m\u001b[0m\u001b[0;34m\u001b[0m\u001b[0m\n\u001b[0m\u001b[1;32m   1337\u001b[0m     \u001b[0;32mreturn\u001b[0m \u001b[0mmake_device_array\u001b[0m\u001b[0;34m(\u001b[0m\u001b[0mx\u001b[0m\u001b[0;34m.\u001b[0m\u001b[0maval\u001b[0m\u001b[0;34m,\u001b[0m \u001b[0mx\u001b[0m\u001b[0;34m.\u001b[0m\u001b[0m_device\u001b[0m\u001b[0;34m,\u001b[0m \u001b[0mlazy\u001b[0m\u001b[0;34m.\u001b[0m\u001b[0marray\u001b[0m\u001b[0;34m(\u001b[0m\u001b[0mx\u001b[0m\u001b[0;34m.\u001b[0m\u001b[0maval\u001b[0m\u001b[0;34m.\u001b[0m\u001b[0mshape\u001b[0m\u001b[0;34m)\u001b[0m\u001b[0;34m,\u001b[0m \u001b[0mresult\u001b[0m\u001b[0;34m)\u001b[0m\u001b[0;34m\u001b[0m\u001b[0;34m\u001b[0m\u001b[0m\n\u001b[1;32m   1338\u001b[0m \u001b[0;34m\u001b[0m\u001b[0m\n",
            "\u001b[0;32m/usr/local/lib/python3.6/dist-packages/jax/interpreters/xla.py\u001b[0m in \u001b[0;36mforce_fun\u001b[0;34m(x)\u001b[0m\n\u001b[1;32m   1366\u001b[0m   \u001b[0;32melse\u001b[0m\u001b[0;34m:\u001b[0m\u001b[0;34m\u001b[0m\u001b[0;34m\u001b[0m\u001b[0m\n\u001b[1;32m   1367\u001b[0m     \u001b[0;32mdef\u001b[0m \u001b[0mforce_fun\u001b[0m\u001b[0;34m(\u001b[0m\u001b[0mx\u001b[0m\u001b[0;34m)\u001b[0m\u001b[0;34m:\u001b[0m\u001b[0;34m\u001b[0m\u001b[0;34m\u001b[0m\u001b[0m\n\u001b[0;32m-> 1368\u001b[0;31m       \u001b[0;32mreturn\u001b[0m \u001b[0mcompiled\u001b[0m\u001b[0;34m.\u001b[0m\u001b[0mexecute\u001b[0m\u001b[0;34m(\u001b[0m\u001b[0;34m[\u001b[0m\u001b[0mx\u001b[0m\u001b[0;34m.\u001b[0m\u001b[0mdevice_buffer\u001b[0m\u001b[0;34m]\u001b[0m\u001b[0;34m)\u001b[0m\u001b[0;34m[\u001b[0m\u001b[0;36m0\u001b[0m\u001b[0;34m]\u001b[0m\u001b[0;34m\u001b[0m\u001b[0;34m\u001b[0m\u001b[0m\n\u001b[0m\u001b[1;32m   1369\u001b[0m   \u001b[0;32mreturn\u001b[0m \u001b[0mforce_fun\u001b[0m\u001b[0;34m\u001b[0m\u001b[0;34m\u001b[0m\u001b[0m\n\u001b[1;32m   1370\u001b[0m \u001b[0;34m\u001b[0m\u001b[0m\n",
            "\u001b[0;31mKeyboardInterrupt\u001b[0m: "
          ]
        }
      ]
    },
    {
      "cell_type": "code",
      "metadata": {
        "colab": {
          "base_uri": "https://localhost:8080/"
        },
        "id": "6Nezc50NR4l0",
        "outputId": "6797b901-e7af-4588-b102-8b86acfe758e"
      },
      "source": [
        "loss_fun(jax_train_x[6], parmas, jax_train_y[6])"
      ],
      "execution_count": 234,
      "outputs": [
        {
          "output_type": "stream",
          "text": [
            "nan\n"
          ],
          "name": "stdout"
        },
        {
          "output_type": "execute_result",
          "data": {
            "text/plain": [
              "DeviceArray(nan, dtype=float32)"
            ]
          },
          "metadata": {
            "tags": []
          },
          "execution_count": 234
        }
      ]
    },
    {
      "cell_type": "code",
      "metadata": {
        "colab": {
          "base_uri": "https://localhost:8080/"
        },
        "id": "1Mh5D8JHSDC1",
        "outputId": "0eb220f4-59e9-4c93-e09b-47a7193129e4"
      },
      "source": [
        "forward(jax_train_x[6], parmas)"
      ],
      "execution_count": 235,
      "outputs": [
        {
          "output_type": "execute_result",
          "data": {
            "text/plain": [
              "DeviceArray([nan, nan, nan, nan, nan, nan, nan, nan, nan, nan], dtype=float32)"
            ]
          },
          "metadata": {
            "tags": []
          },
          "execution_count": 235
        }
      ]
    },
    {
      "cell_type": "code",
      "metadata": {
        "colab": {
          "base_uri": "https://localhost:8080/"
        },
        "id": "I731KSzeULe_",
        "outputId": "f1060ca5-860f-4a94-ab4f-e5f029c438a3"
      },
      "source": [
        "jax_train_y[6]"
      ],
      "execution_count": 218,
      "outputs": [
        {
          "output_type": "execute_result",
          "data": {
            "text/plain": [
              "DeviceArray([0., 0., 0., 0., 0., 0., 0., 1., 0., 0.], dtype=float32)"
            ]
          },
          "metadata": {
            "tags": []
          },
          "execution_count": 218
        }
      ]
    },
    {
      "cell_type": "code",
      "metadata": {
        "id": "Dv8RR7dzpyHi",
        "outputId": "851ad664-c448-4e5d-ffb5-66e301a2c460",
        "colab": {
          "base_uri": "https://localhost:8080/"
        }
      },
      "source": [
        "y_pre.shape"
      ],
      "execution_count": 118,
      "outputs": [
        {
          "output_type": "execute_result",
          "data": {
            "text/plain": [
              "(1203, 10)"
            ]
          },
          "metadata": {
            "tags": []
          },
          "execution_count": 118
        }
      ]
    },
    {
      "cell_type": "code",
      "metadata": {
        "id": "8o9RekeIrLFW",
        "outputId": "c7e0ba80-1e75-471b-8372-0bd2f4e966b7",
        "colab": {
          "base_uri": "https://localhost:8080/"
        }
      },
      "source": [
        "jax_train_y.shape"
      ],
      "execution_count": 119,
      "outputs": [
        {
          "output_type": "execute_result",
          "data": {
            "text/plain": [
              "(1203, 10)"
            ]
          },
          "metadata": {
            "tags": []
          },
          "execution_count": 119
        }
      ]
    },
    {
      "cell_type": "code",
      "metadata": {
        "id": "SMhk6tASrMHN",
        "outputId": "6c44460a-fa1f-4ccc-b86f-00f2cc39f68a",
        "colab": {
          "base_uri": "https://localhost:8080/"
        }
      },
      "source": [
        ""
      ],
      "execution_count": 83,
      "outputs": [
        {
          "output_type": "execute_result",
          "data": {
            "text/plain": [
              "DeviceArray([nan, nan, nan, ..., nan, nan, nan], dtype=float32)"
            ]
          },
          "metadata": {
            "tags": []
          },
          "execution_count": 83
        }
      ]
    },
    {
      "cell_type": "code",
      "metadata": {
        "id": "rd8kU-eZrTAJ",
        "outputId": "5524b7c0-6e4b-4898-9bd8-8ac4685e70fd",
        "colab": {
          "base_uri": "https://localhost:8080/"
        }
      },
      "source": [
        "parmas[0][0]"
      ],
      "execution_count": 107,
      "outputs": [
        {
          "output_type": "execute_result",
          "data": {
            "text/plain": [
              "DeviceArray([[ 1.0901477 , -0.2822716 ,  0.12140159, ..., -2.0507786 ,\n",
              "              -0.7466879 , -0.6604846 ],\n",
              "             [ 0.16098852,  0.9195488 ,  0.04407377, ...,  0.6298926 ,\n",
              "               0.11477478, -1.2528692 ],\n",
              "             [ 1.1781842 , -2.8546088 ,  0.86888975, ...,  2.0047903 ,\n",
              "               0.11670755,  0.7683624 ],\n",
              "             ...,\n",
              "             [ 1.0974492 ,  1.2009512 , -1.4820064 , ...,  0.29825997,\n",
              "              -0.5716417 , -1.0285538 ],\n",
              "             [ 0.45801577, -0.33522558,  0.42189184, ...,  1.8499086 ,\n",
              "              -0.03835844,  0.79259753],\n",
              "             [-0.24299109,  0.10712541,  2.2701766 , ..., -1.0625709 ,\n",
              "              -0.14538413,  0.99837404]], dtype=float32)"
            ]
          },
          "metadata": {
            "tags": []
          },
          "execution_count": 107
        }
      ]
    },
    {
      "cell_type": "code",
      "metadata": {
        "id": "2ZG8OleLuVwF",
        "outputId": "6d7d74b4-006c-474a-de52-4c28fd5fd5b4",
        "colab": {
          "base_uri": "https://localhost:8080/"
        }
      },
      "source": [
        "jnp.maximum(0, parmas[0][1])"
      ],
      "execution_count": 141,
      "outputs": [
        {
          "output_type": "execute_result",
          "data": {
            "text/plain": [
              "DeviceArray([0.        , 0.        , 0.        , 0.5978571 , 0.9159883 ,\n",
              "             0.        , 0.00336711, 0.5141878 , 0.        , 0.        ,\n",
              "             0.        , 1.5653223 , 0.        , 0.        , 0.6160338 ,\n",
              "             0.        , 0.17686242, 0.        , 0.        , 0.        ,\n",
              "             0.7195503 , 0.        , 0.        , 0.        , 0.14105996,\n",
              "             1.3286992 , 0.49153855, 0.        , 1.1188195 , 0.24837267,\n",
              "             0.57693535, 0.        , 0.        , 1.7324136 , 0.66268396,\n",
              "             0.        , 0.7361932 , 0.        , 0.        , 1.1780932 ,\n",
              "             0.        , 0.03500843, 0.        , 2.4009972 , 0.25273788,\n",
              "             0.97014016, 0.        , 0.768804  , 0.        , 0.38931087,\n",
              "             0.7114831 , 0.        , 0.305861  , 0.        , 0.        ,\n",
              "             0.65044457, 0.        , 0.59613913, 1.8058568 , 0.        ,\n",
              "             0.        , 0.        , 0.8995249 , 0.        , 0.15347093,\n",
              "             0.53636414, 0.04819222, 0.23581387, 0.6849893 , 0.00553711,\n",
              "             0.67084163, 0.        , 0.46819752, 0.7735273 , 0.6938307 ,\n",
              "             0.        , 0.62426734, 0.7320314 , 1.7546473 , 0.53216213,\n",
              "             0.55168384, 0.        , 1.0564339 , 0.        , 0.        ,\n",
              "             0.        , 2.4736886 , 1.9024003 , 0.        , 0.5642727 ,\n",
              "             1.1727237 , 0.        , 0.        , 0.34698313, 0.9911705 ,\n",
              "             0.        , 0.12108494, 1.3801656 , 0.        , 0.        ,\n",
              "             0.5637773 , 0.9814659 , 1.5007088 , 0.85600865, 0.567662  ,\n",
              "             0.        , 1.307991  , 0.        , 0.        , 0.7277945 ,\n",
              "             0.2752547 , 0.        , 0.        , 0.6798459 , 0.        ,\n",
              "             0.        , 0.        , 0.        , 0.        , 0.        ,\n",
              "             0.42865452, 0.03438981, 0.        , 0.03081111, 0.76825327,\n",
              "             0.        , 0.        , 0.        ], dtype=float32)"
            ]
          },
          "metadata": {
            "tags": []
          },
          "execution_count": 141
        }
      ]
    },
    {
      "cell_type": "code",
      "metadata": {
        "id": "QGUGsYsPxZCk",
        "outputId": "f3e5c0d8-642e-4070-8794-daca5f7e478e",
        "colab": {
          "base_uri": "https://localhost:8080/"
        }
      },
      "source": [
        "relu(parmas[0][1])"
      ],
      "execution_count": 143,
      "outputs": [
        {
          "output_type": "execute_result",
          "data": {
            "text/plain": [
              "DeviceArray([0.        , 0.        , 0.        , 0.5978571 , 0.9159883 ,\n",
              "             0.        , 0.00336711, 0.5141878 , 0.        , 0.        ,\n",
              "             0.        , 1.5653223 , 0.        , 0.        , 0.6160338 ,\n",
              "             0.        , 0.17686242, 0.        , 0.        , 0.        ,\n",
              "             0.7195503 , 0.        , 0.        , 0.        , 0.14105996,\n",
              "             1.3286992 , 0.49153855, 0.        , 1.1188195 , 0.24837267,\n",
              "             0.57693535, 0.        , 0.        , 1.7324136 , 0.66268396,\n",
              "             0.        , 0.7361932 , 0.        , 0.        , 1.1780932 ,\n",
              "             0.        , 0.03500843, 0.        , 2.4009972 , 0.25273788,\n",
              "             0.97014016, 0.        , 0.768804  , 0.        , 0.38931087,\n",
              "             0.7114831 , 0.        , 0.305861  , 0.        , 0.        ,\n",
              "             0.65044457, 0.        , 0.59613913, 1.8058568 , 0.        ,\n",
              "             0.        , 0.        , 0.8995249 , 0.        , 0.15347093,\n",
              "             0.53636414, 0.04819222, 0.23581387, 0.6849893 , 0.00553711,\n",
              "             0.67084163, 0.        , 0.46819752, 0.7735273 , 0.6938307 ,\n",
              "             0.        , 0.62426734, 0.7320314 , 1.7546473 , 0.53216213,\n",
              "             0.55168384, 0.        , 1.0564339 , 0.        , 0.        ,\n",
              "             0.        , 2.4736886 , 1.9024003 , 0.        , 0.5642727 ,\n",
              "             1.1727237 , 0.        , 0.        , 0.34698313, 0.9911705 ,\n",
              "             0.        , 0.12108494, 1.3801656 , 0.        , 0.        ,\n",
              "             0.5637773 , 0.9814659 , 1.5007088 , 0.85600865, 0.567662  ,\n",
              "             0.        , 1.307991  , 0.        , 0.        , 0.7277945 ,\n",
              "             0.2752547 , 0.        , 0.        , 0.6798459 , 0.        ,\n",
              "             0.        , 0.        , 0.        , 0.        , 0.        ,\n",
              "             0.42865452, 0.03438981, 0.        , 0.03081111, 0.76825327,\n",
              "             0.        , 0.        , 0.        ], dtype=float32)"
            ]
          },
          "metadata": {
            "tags": []
          },
          "execution_count": 143
        }
      ]
    },
    {
      "cell_type": "code",
      "metadata": {
        "id": "ftlVzisixdJc",
        "outputId": "f89782c0-c459-4e44-d2fb-54e45683919c",
        "colab": {
          "base_uri": "https://localhost:8080/"
        }
      },
      "source": [
        "jnp.sum(softmax(parmas[0][1]))"
      ],
      "execution_count": 149,
      "outputs": [
        {
          "output_type": "execute_result",
          "data": {
            "text/plain": [
              "DeviceArray(1., dtype=float32)"
            ]
          },
          "metadata": {
            "tags": []
          },
          "execution_count": 149
        }
      ]
    },
    {
      "cell_type": "code",
      "metadata": {
        "id": "Ne9ibb9xyI4p",
        "outputId": "7255cb8b-2b2d-4a83-8639-bb80a35d7463",
        "colab": {
          "base_uri": "https://localhost:8080/"
        }
      },
      "source": [
        "jax.scipy.special.logsumexp(parmas[0][1])"
      ],
      "execution_count": 148,
      "outputs": [
        {
          "output_type": "execute_result",
          "data": {
            "text/plain": [
              "DeviceArray(5.283266, dtype=float32)"
            ]
          },
          "metadata": {
            "tags": []
          },
          "execution_count": 148
        }
      ]
    },
    {
      "cell_type": "code",
      "metadata": {
        "id": "CYgvksI7yT-6"
      },
      "source": [
        ""
      ],
      "execution_count": null,
      "outputs": []
    }
  ]
}