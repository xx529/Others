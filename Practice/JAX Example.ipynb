{
  "nbformat": 4,
  "nbformat_minor": 0,
  "metadata": {
    "kernelspec": {
      "display_name": "Python 3",
      "language": "python",
      "name": "python3"
    },
    "language_info": {
      "codemirror_mode": {
        "name": "ipython",
        "version": 3
      },
      "file_extension": ".py",
      "mimetype": "text/x-python",
      "name": "python",
      "nbconvert_exporter": "python",
      "pygments_lexer": "ipython3",
      "version": "3.7.6"
    },
    "colab": {
      "name": "JAX Example.ipynb",
      "provenance": [],
      "toc_visible": true
    },
    "accelerator": "GPU"
  },
  "cells": [
    {
      "cell_type": "code",
      "metadata": {
        "id": "T0KWB8YHa-9_"
      },
      "source": [
        "from sklearn import datasets\n",
        "from sklearn.model_selection import train_test_split\n",
        "from sklearn.metrics import accuracy_score, precision_score, recall_score, roc_auc_score\n",
        "import matplotlib.pyplot as plt\n",
        "import time"
      ],
      "execution_count": 8,
      "outputs": []
    },
    {
      "cell_type": "code",
      "metadata": {
        "id": "spQFes7Ra--K"
      },
      "source": [
        "digits = datasets.load_digits()\n",
        "features = digits['data']\n",
        "target = digits['target'] "
      ],
      "execution_count": 9,
      "outputs": []
    },
    {
      "cell_type": "code",
      "metadata": {
        "colab": {
          "base_uri": "https://localhost:8080/"
        },
        "id": "Lv25fAara--L",
        "outputId": "19d544ae-3269-4519-c7f7-fa64f20c7171"
      },
      "source": [
        "train_x, test_x, train_y, test_y = train_test_split(features, target, test_size=0.33)\n",
        "\n",
        "print(train_x.shape)\n",
        "print(train_y.shape)\n",
        "print(test_x.shape)\n",
        "print(test_y.shape)"
      ],
      "execution_count": 10,
      "outputs": [
        {
          "output_type": "stream",
          "text": [
            "(1203, 64)\n",
            "(1203,)\n",
            "(594, 64)\n",
            "(594,)\n"
          ],
          "name": "stdout"
        }
      ]
    },
    {
      "cell_type": "markdown",
      "metadata": {
        "id": "aO3bvbewa--M"
      },
      "source": [
        "# Pytorch"
      ]
    },
    {
      "cell_type": "code",
      "metadata": {
        "id": "Ix1O3vs4a--N"
      },
      "source": [
        "import torch.nn as nn\n",
        "import torch.optim as optim\n",
        "import torch\n",
        "from torch.utils.data import DataLoader, TensorDataset"
      ],
      "execution_count": 2,
      "outputs": []
    },
    {
      "cell_type": "code",
      "metadata": {
        "id": "ycD5DQlqa--N"
      },
      "source": [
        "# 格式转化\n",
        "pytorch_train_x = torch.tensor(train_x, dtype=torch.float32)\n",
        "pytorch_train_y = torch.tensor(train_y, dtype=torch.long)\n",
        "\n",
        "pytorch_test_x = torch.tensor(test_x, dtype=torch.float32)\n",
        "pytorch_test_y = torch.tensor(test_y, dtype=torch.long)\n",
        "\n",
        "# 装进数据容器分批\n",
        "data = TensorDataset(pytorch_train_x, pytorch_train_y)\n",
        "dataset = DataLoader(data, 64)"
      ],
      "execution_count": 12,
      "outputs": []
    },
    {
      "cell_type": "code",
      "metadata": {
        "id": "bmlKIXMua--O"
      },
      "source": [
        "class Model(nn.Module):\n",
        "    def __init__(self):\n",
        "        super(Model, self).__init__()\n",
        "        \n",
        "        self.fc1 = nn.Linear(64, 128)\n",
        "        self.fc2 = nn.Linear(128, 256)\n",
        "        self.fc3 = nn.Linear(256, 512)\n",
        "        self.fc4 = nn.Linear(512, 256)\n",
        "        self.fc5 = nn.Linear(256, 128)\n",
        "        self.fc6 = nn.Linear(128, 64)\n",
        "        self.fc7 = nn.Linear(64, 10)\n",
        "        self.softmax = nn.Softmax(dim=1)\n",
        "        self.relu = nn.ReLU()\n",
        "        \n",
        "    def forward(self, x):\n",
        "        x = self.relu(self.fc1(x))\n",
        "        x = self.relu(self.fc2(x))\n",
        "        x = self.relu(self.fc3(x))\n",
        "        x = self.relu(self.fc4(x))\n",
        "        x = self.relu(self.fc5(x))\n",
        "        x = self.relu(self.fc6(x))\n",
        "        result = self.fc7(x)\n",
        "        return result\n",
        "    \n",
        "    def predict(self, x):\n",
        "        result = self.softmax(self(x)).sort()[1][:,-1]\n",
        "        return result"
      ],
      "execution_count": 13,
      "outputs": []
    },
    {
      "cell_type": "code",
      "metadata": {
        "colab": {
          "base_uri": "https://localhost:8080/"
        },
        "id": "_QAsCZbyVuei",
        "outputId": "c13069af-649b-4842-a5f6-7ab22a712262"
      },
      "source": [
        "model = Model()\n",
        "model.fc2((model.relu(model.fc1(pytorch_train_x[0]))))"
      ],
      "execution_count": 82,
      "outputs": [
        {
          "output_type": "execute_result",
          "data": {
            "text/plain": [
              "tensor([ 1.2238e+00, -4.5168e-01,  2.2505e-01, -8.9987e-01, -3.3439e-01,\n",
              "        -1.2527e+00,  2.2490e+00,  8.9131e-01, -3.2683e+00, -5.3231e-01,\n",
              "        -4.0276e+00,  7.7310e-01, -8.1476e-01, -4.3402e+00, -1.2724e+00,\n",
              "         4.2437e+00, -3.7290e+00, -2.0524e+00, -2.1846e-01,  3.4116e-01,\n",
              "        -3.0236e+00,  4.1288e-01, -1.2392e+00, -3.3066e+00, -1.8802e+00,\n",
              "        -1.3699e+00, -2.7548e+00, -2.0649e-01,  7.0265e-01,  3.6390e-01,\n",
              "         1.0461e+00, -1.9002e-01,  2.4421e-03, -2.9163e-01,  2.8602e-01,\n",
              "        -4.2469e+00, -8.5473e-01, -9.8331e-01, -1.6659e+00,  1.5747e-02,\n",
              "        -2.5940e+00,  9.4085e-01,  3.3631e-01, -3.1555e-02,  3.4583e-01,\n",
              "        -1.9310e-02, -3.1192e+00,  1.8290e+00,  3.6814e-01,  2.2955e+00,\n",
              "        -7.3573e-02,  3.0953e-01,  5.2701e-01, -1.4145e+00,  4.4904e-01,\n",
              "        -2.1649e+00, -3.9509e+00, -5.4132e-01, -1.4426e+00,  3.2334e+00,\n",
              "        -6.8390e-01, -1.2033e+00,  1.1372e+00,  2.4144e+00, -8.7205e-01,\n",
              "        -9.8211e-01, -2.9181e+00, -7.8811e-01, -1.0435e+00, -3.6936e-01,\n",
              "        -1.3056e+00,  3.5789e+00,  4.2612e+00, -2.3398e+00,  8.1927e-02,\n",
              "         2.9769e+00,  1.0546e+00,  1.0799e+00,  3.5221e-01,  2.0450e+00,\n",
              "         1.8937e+00, -9.9325e-01, -5.2965e+00,  1.5953e+00,  2.7007e+00,\n",
              "         3.0423e+00, -3.4006e+00, -5.2999e-01, -3.8016e+00, -5.8911e-01,\n",
              "        -2.2614e+00,  3.3798e+00, -1.3288e+00,  3.3978e+00,  2.6874e+00,\n",
              "         5.1643e-02, -3.4072e+00, -2.0434e+00,  4.9507e-01,  5.0414e-01,\n",
              "         9.6316e-01,  5.9156e-01,  9.0261e-01, -1.3372e+00,  5.0372e-02,\n",
              "        -1.8609e+00,  3.9538e+00,  1.5144e+00,  2.6160e+00, -8.6082e-01,\n",
              "        -1.2692e+00, -1.3483e+00,  2.8869e-01,  3.2103e+00,  2.5391e+00,\n",
              "        -4.7766e-01,  1.8526e+00,  7.2307e-01, -6.7823e-01, -1.3659e+00,\n",
              "        -2.4075e+00,  1.2311e+00, -4.7333e+00,  4.0500e+00,  5.2942e-01,\n",
              "        -1.8835e-01,  2.2625e+00,  1.9222e-01,  2.1525e+00,  3.8288e+00,\n",
              "         2.5065e+00, -2.5674e+00, -1.7327e+00, -2.0027e+00,  2.0462e-01,\n",
              "        -1.4417e+00,  5.9596e-01, -2.6039e+00,  2.4067e-01, -3.7673e+00,\n",
              "         8.5255e-01, -3.1037e+00,  2.5007e+00, -2.1657e+00, -2.8268e+00,\n",
              "         2.4339e-01,  7.6061e-01, -3.1051e+00,  1.8444e+00, -4.1449e+00,\n",
              "        -1.4182e+00, -5.0934e-01,  1.9315e-02,  6.0713e-01,  3.2002e+00,\n",
              "         2.9093e+00,  2.7086e+00,  3.7218e-01,  2.5628e+00, -1.2790e+00,\n",
              "        -1.7896e+00,  1.4485e+00, -9.0546e-01,  9.7828e-01,  9.1453e-01,\n",
              "        -1.7868e-01, -2.9440e+00, -6.6289e-01,  5.8770e-01, -6.2070e-01,\n",
              "         2.1859e+00, -8.8205e-01,  3.6076e+00,  1.4534e+00,  2.9878e+00,\n",
              "         3.0900e+00,  1.5875e+00,  1.9058e+00,  3.1357e+00,  2.4823e-01,\n",
              "        -1.6679e+00,  1.3143e+00, -4.9443e-01, -2.0116e+00,  1.4690e+00,\n",
              "         2.1734e+00, -4.1159e+00,  4.0283e+00, -6.6651e-01, -3.0217e+00,\n",
              "        -7.1333e-01, -1.4201e+00,  4.8738e-02, -4.8289e+00,  3.8187e+00,\n",
              "         2.8219e-01,  2.5852e+00, -1.2436e-01, -5.5075e-01, -1.7815e+00,\n",
              "         2.4161e-01, -3.1979e-01, -6.0603e-01, -2.3697e+00, -3.6563e-01,\n",
              "         3.9337e+00,  2.2224e+00,  1.2078e+00,  6.5843e-01,  2.5647e+00,\n",
              "         1.4922e+00, -2.9469e-01,  1.5649e-01, -3.3923e+00,  6.6501e-01,\n",
              "        -2.6379e-02, -1.9710e-01, -4.0830e-01,  1.1717e+00, -5.2482e-01,\n",
              "        -9.4373e-01,  3.8929e+00, -1.8562e+00,  1.4056e+00,  3.1491e+00,\n",
              "         9.2911e-01, -7.4193e-01, -1.5279e+00,  2.0642e+00,  1.0588e+00,\n",
              "         1.5474e+00, -3.5164e+00,  9.8470e-01,  4.3228e-02, -3.5599e+00,\n",
              "        -7.2044e-01,  1.2568e+00,  4.1888e+00, -4.6972e+00,  1.7012e+00,\n",
              "         3.4769e+00,  4.4872e-01,  3.0095e-01, -1.6211e+00,  1.6227e+00,\n",
              "        -2.9717e+00, -3.6431e+00,  4.9049e-01,  2.5881e+00,  7.5357e-01,\n",
              "        -1.1480e-01,  3.6899e-01, -5.5594e-01, -5.9566e-01,  1.0085e+00,\n",
              "        -2.0998e+00], grad_fn=<AddBackward0>)"
            ]
          },
          "metadata": {
            "tags": []
          },
          "execution_count": 82
        }
      ]
    },
    {
      "cell_type": "code",
      "metadata": {
        "colab": {
          "base_uri": "https://localhost:8080/"
        },
        "id": "Bv_GTtipWNkd",
        "outputId": "bffa7b26-fdb7-4853-8847-11c52d46b5df"
      },
      "source": [
        "pytorch_train_x[0]"
      ],
      "execution_count": 25,
      "outputs": [
        {
          "output_type": "execute_result",
          "data": {
            "text/plain": [
              "tensor([ 0.,  0.,  6., 11., 16., 13.,  5.,  0.,  0.,  2., 16., 16., 16., 16.,\n",
              "        12.,  0.,  0.,  0.,  0.,  0.,  5., 16.,  4.,  0.,  0.,  0.,  0., 10.,\n",
              "        15.,  5.,  0.,  0.,  0.,  0.,  9., 16.,  3.,  0.,  0.,  0.,  0.,  0.,\n",
              "        13., 16., 13.,  1.,  0.,  0.,  0.,  0.,  0.,  5., 16., 14.,  0.,  0.,\n",
              "         0.,  0.,  5., 14., 11.,  6.,  0.,  0.])"
            ]
          },
          "metadata": {
            "tags": []
          },
          "execution_count": 25
        }
      ]
    },
    {
      "cell_type": "markdown",
      "metadata": {
        "id": "ZKa-kW3FeIXr"
      },
      "source": [
        "### CPU Version"
      ]
    },
    {
      "cell_type": "code",
      "metadata": {
        "id": "QuOm2lZxeLSa"
      },
      "source": [
        "model = Model()\n",
        "optimizer = optim.Adam(model.parameters())\n",
        "loss_fun = nn.CrossEntropyLoss()"
      ],
      "execution_count": 14,
      "outputs": []
    },
    {
      "cell_type": "code",
      "metadata": {
        "colab": {
          "base_uri": "https://localhost:8080/"
        },
        "id": "V1VrOZ_meLhi",
        "outputId": "cc6ebc63-4bfc-4914-d11a-29c56530b9b9"
      },
      "source": [
        "%%time\n",
        "# 训练\n",
        "for i in range(100):\n",
        "    loss_record = 0\n",
        "    start_time = time.time()\n",
        "    \n",
        "    for batch, (x, y) in enumerate(dataset):\n",
        "        optimizer.zero_grad()\n",
        "        y_pre = model(x)\n",
        "        \n",
        "        loss = loss_fun(y_pre, y)\n",
        "        loss.backward()\n",
        "        optimizer.step()\n",
        "        \n",
        "        loss_record += loss.item()\n",
        "    \n",
        "    duration = time.time() - start_time\n",
        "    \n",
        "    predict = model.predict(pytorch_test_x).numpy()\n",
        "    acc_score = accuracy_score(predict, pytorch_test_y.numpy())\n",
        "    \n",
        "    print('Epoch: {}, time: {:.3f}s, Loss: {:.3f}, Acc: {:.2f}%'.format(i+1, duration, loss_record/batch, acc_score*100))"
      ],
      "execution_count": 15,
      "outputs": [
        {
          "output_type": "stream",
          "text": [
            "Epoch: 1, time: 0.375s, Loss: 2.012, Acc: 71.21%\n",
            "Epoch: 2, time: 0.121s, Loss: 0.720, Acc: 87.21%\n",
            "Epoch: 3, time: 0.133s, Loss: 0.414, Acc: 89.23%\n",
            "Epoch: 4, time: 0.114s, Loss: 0.279, Acc: 91.75%\n",
            "Epoch: 5, time: 0.124s, Loss: 0.176, Acc: 92.93%\n",
            "Epoch: 6, time: 0.117s, Loss: 0.138, Acc: 94.78%\n",
            "Epoch: 7, time: 0.116s, Loss: 0.100, Acc: 94.78%\n",
            "Epoch: 8, time: 0.125s, Loss: 0.109, Acc: 93.77%\n",
            "Epoch: 9, time: 0.119s, Loss: 0.098, Acc: 94.11%\n",
            "Epoch: 10, time: 0.116s, Loss: 0.075, Acc: 93.94%\n",
            "Epoch: 11, time: 0.121s, Loss: 0.065, Acc: 96.30%\n",
            "Epoch: 12, time: 0.119s, Loss: 0.079, Acc: 94.78%\n",
            "Epoch: 13, time: 0.122s, Loss: 0.075, Acc: 95.62%\n",
            "Epoch: 14, time: 0.121s, Loss: 0.034, Acc: 97.81%\n",
            "Epoch: 15, time: 0.121s, Loss: 0.030, Acc: 96.63%\n",
            "Epoch: 16, time: 0.114s, Loss: 0.033, Acc: 96.80%\n",
            "Epoch: 17, time: 0.118s, Loss: 0.033, Acc: 96.13%\n",
            "Epoch: 18, time: 0.114s, Loss: 0.069, Acc: 95.45%\n",
            "Epoch: 19, time: 0.116s, Loss: 0.047, Acc: 96.13%\n",
            "Epoch: 20, time: 0.112s, Loss: 0.015, Acc: 97.64%\n",
            "Epoch: 21, time: 0.124s, Loss: 0.006, Acc: 97.98%\n",
            "Epoch: 22, time: 0.116s, Loss: 0.005, Acc: 98.48%\n",
            "Epoch: 23, time: 0.122s, Loss: 0.003, Acc: 98.65%\n",
            "Epoch: 24, time: 0.119s, Loss: 0.001, Acc: 97.64%\n",
            "Epoch: 25, time: 0.113s, Loss: 0.001, Acc: 97.64%\n",
            "Epoch: 26, time: 0.112s, Loss: 0.000, Acc: 97.81%\n",
            "Epoch: 27, time: 0.115s, Loss: 0.000, Acc: 97.81%\n",
            "Epoch: 28, time: 0.109s, Loss: 0.000, Acc: 97.98%\n",
            "Epoch: 29, time: 0.116s, Loss: 0.000, Acc: 97.98%\n",
            "Epoch: 30, time: 0.117s, Loss: 0.000, Acc: 97.98%\n",
            "Epoch: 31, time: 0.114s, Loss: 0.000, Acc: 97.98%\n",
            "Epoch: 32, time: 0.116s, Loss: 0.000, Acc: 98.15%\n",
            "Epoch: 33, time: 0.123s, Loss: 0.000, Acc: 98.15%\n",
            "Epoch: 34, time: 0.136s, Loss: 0.000, Acc: 98.15%\n",
            "Epoch: 35, time: 0.155s, Loss: 0.000, Acc: 98.15%\n",
            "Epoch: 36, time: 0.183s, Loss: 0.000, Acc: 98.15%\n",
            "Epoch: 37, time: 0.188s, Loss: 0.000, Acc: 98.15%\n",
            "Epoch: 38, time: 0.193s, Loss: 0.000, Acc: 98.15%\n",
            "Epoch: 39, time: 0.210s, Loss: 0.000, Acc: 98.15%\n",
            "Epoch: 40, time: 0.192s, Loss: 0.000, Acc: 97.98%\n",
            "Epoch: 41, time: 0.191s, Loss: 0.000, Acc: 97.98%\n",
            "Epoch: 42, time: 0.190s, Loss: 0.000, Acc: 97.98%\n",
            "Epoch: 43, time: 0.189s, Loss: 0.000, Acc: 97.98%\n",
            "Epoch: 44, time: 0.173s, Loss: 0.000, Acc: 97.81%\n",
            "Epoch: 45, time: 0.181s, Loss: 0.000, Acc: 97.98%\n",
            "Epoch: 46, time: 0.181s, Loss: 0.000, Acc: 97.81%\n",
            "Epoch: 47, time: 0.183s, Loss: 0.000, Acc: 97.98%\n",
            "Epoch: 48, time: 0.180s, Loss: 0.000, Acc: 97.81%\n",
            "Epoch: 49, time: 0.186s, Loss: 0.000, Acc: 97.81%\n",
            "Epoch: 50, time: 0.177s, Loss: 0.000, Acc: 97.81%\n",
            "Epoch: 51, time: 0.185s, Loss: 0.000, Acc: 97.81%\n",
            "Epoch: 52, time: 0.214s, Loss: 0.000, Acc: 97.81%\n",
            "Epoch: 53, time: 0.179s, Loss: 0.000, Acc: 97.98%\n",
            "Epoch: 54, time: 0.180s, Loss: 0.000, Acc: 97.81%\n",
            "Epoch: 55, time: 0.183s, Loss: 0.000, Acc: 97.81%\n",
            "Epoch: 56, time: 0.178s, Loss: 0.000, Acc: 97.81%\n",
            "Epoch: 57, time: 0.181s, Loss: 0.000, Acc: 97.98%\n",
            "Epoch: 58, time: 0.179s, Loss: 0.000, Acc: 97.81%\n",
            "Epoch: 59, time: 0.177s, Loss: 0.000, Acc: 97.98%\n",
            "Epoch: 60, time: 0.176s, Loss: 0.000, Acc: 97.98%\n",
            "Epoch: 61, time: 0.176s, Loss: 0.000, Acc: 97.98%\n",
            "Epoch: 62, time: 0.171s, Loss: 0.000, Acc: 97.98%\n",
            "Epoch: 63, time: 0.172s, Loss: 0.000, Acc: 98.15%\n",
            "Epoch: 64, time: 0.179s, Loss: 0.000, Acc: 98.15%\n",
            "Epoch: 65, time: 0.171s, Loss: 0.000, Acc: 98.15%\n",
            "Epoch: 66, time: 0.180s, Loss: 0.000, Acc: 98.15%\n",
            "Epoch: 67, time: 0.173s, Loss: 0.000, Acc: 98.15%\n",
            "Epoch: 68, time: 0.178s, Loss: 0.000, Acc: 98.15%\n",
            "Epoch: 69, time: 0.173s, Loss: 0.000, Acc: 98.15%\n",
            "Epoch: 70, time: 0.175s, Loss: 0.000, Acc: 98.15%\n",
            "Epoch: 71, time: 0.177s, Loss: 0.000, Acc: 98.15%\n",
            "Epoch: 72, time: 0.173s, Loss: 0.000, Acc: 98.15%\n",
            "Epoch: 73, time: 0.171s, Loss: 0.000, Acc: 98.15%\n",
            "Epoch: 74, time: 0.176s, Loss: 0.000, Acc: 98.15%\n",
            "Epoch: 75, time: 0.174s, Loss: 0.000, Acc: 98.15%\n",
            "Epoch: 76, time: 0.187s, Loss: 0.000, Acc: 98.15%\n",
            "Epoch: 77, time: 0.182s, Loss: 0.000, Acc: 98.15%\n",
            "Epoch: 78, time: 0.184s, Loss: 0.000, Acc: 97.98%\n",
            "Epoch: 79, time: 0.181s, Loss: 0.000, Acc: 97.98%\n",
            "Epoch: 80, time: 0.174s, Loss: 0.000, Acc: 97.98%\n",
            "Epoch: 81, time: 0.177s, Loss: 0.000, Acc: 97.98%\n",
            "Epoch: 82, time: 0.175s, Loss: 0.000, Acc: 97.98%\n",
            "Epoch: 83, time: 0.177s, Loss: 0.000, Acc: 97.98%\n",
            "Epoch: 84, time: 0.180s, Loss: 0.000, Acc: 97.98%\n",
            "Epoch: 85, time: 0.176s, Loss: 0.000, Acc: 97.98%\n",
            "Epoch: 86, time: 0.180s, Loss: 0.000, Acc: 97.98%\n",
            "Epoch: 87, time: 0.183s, Loss: 0.000, Acc: 97.98%\n",
            "Epoch: 88, time: 0.177s, Loss: 0.000, Acc: 97.98%\n",
            "Epoch: 89, time: 0.176s, Loss: 0.000, Acc: 97.98%\n",
            "Epoch: 90, time: 0.180s, Loss: 0.000, Acc: 97.98%\n",
            "Epoch: 91, time: 0.174s, Loss: 0.000, Acc: 97.98%\n",
            "Epoch: 92, time: 0.174s, Loss: 0.000, Acc: 97.98%\n",
            "Epoch: 93, time: 0.175s, Loss: 0.000, Acc: 97.98%\n",
            "Epoch: 94, time: 0.171s, Loss: 0.000, Acc: 97.98%\n",
            "Epoch: 95, time: 0.172s, Loss: 0.000, Acc: 97.98%\n",
            "Epoch: 96, time: 0.172s, Loss: 0.000, Acc: 97.98%\n",
            "Epoch: 97, time: 0.166s, Loss: 0.000, Acc: 97.98%\n",
            "Epoch: 98, time: 0.175s, Loss: 0.000, Acc: 97.98%\n",
            "Epoch: 99, time: 0.169s, Loss: 0.000, Acc: 97.98%\n",
            "Epoch: 100, time: 0.178s, Loss: 0.000, Acc: 97.98%\n",
            "CPU times: user 16.5 s, sys: 219 ms, total: 16.7 s\n",
            "Wall time: 16.9 s\n"
          ],
          "name": "stdout"
        }
      ]
    },
    {
      "cell_type": "markdown",
      "metadata": {
        "id": "kUnwOjaJeCqq"
      },
      "source": [
        "### GPU Version"
      ]
    },
    {
      "cell_type": "code",
      "metadata": {
        "scrolled": false,
        "colab": {
          "base_uri": "https://localhost:8080/"
        },
        "id": "22Wx7Smea--O",
        "outputId": "bcb6bc02-a825-4723-ccf5-30599923d64c"
      },
      "source": [
        "device = torch.device(\"cuda:0\" if torch.cuda.is_available() else \"cpu\")\n",
        "pytorch_test_x, pytorch_test_y = pytorch_test_x.to(device), pytorch_test_y.to(device)\n",
        "model = Model().to(device)\n",
        "optimizer = optim.Adam(model.parameters())\n",
        "loss_fun = nn.CrossEntropyLoss()\n",
        "loss_fun.to(device)"
      ],
      "execution_count": 16,
      "outputs": [
        {
          "output_type": "execute_result",
          "data": {
            "text/plain": [
              "CrossEntropyLoss()"
            ]
          },
          "metadata": {
            "tags": []
          },
          "execution_count": 16
        }
      ]
    },
    {
      "cell_type": "code",
      "metadata": {
        "colab": {
          "base_uri": "https://localhost:8080/"
        },
        "id": "kaOMDBFNa--Q",
        "outputId": "eb7f5d68-d707-4a94-f85f-03594b85a3a8"
      },
      "source": [
        "%%time\n",
        "# 训练\n",
        "for i in range(100):\n",
        "    loss_record = 0\n",
        "    start_time = time.time()\n",
        "    \n",
        "    for batch, (x, y) in enumerate(dataset):\n",
        "        optimizer.zero_grad()\n",
        "\n",
        "        x, y = x.to(device), y.to(device)\n",
        "        y_pre = model(x)\n",
        "        \n",
        "        loss = loss_fun(y_pre, y)\n",
        "        loss.backward()\n",
        "        optimizer.step()\n",
        "        \n",
        "        loss_record += loss.cpu().item()\n",
        "    \n",
        "    duration = time.time() - start_time\n",
        "    \n",
        "    predict = model.predict(pytorch_test_x).cpu().numpy()\n",
        "    acc_score = accuracy_score(predict, pytorch_test_y.cpu().numpy())\n",
        "    \n",
        "    print('Epoch: {}, time: {:.3f}s, Loss: {:.3f}, Acc: {:.2f}%'.format(i+1, duration, loss_record/batch, acc_score*100))"
      ],
      "execution_count": 17,
      "outputs": [
        {
          "output_type": "stream",
          "text": [
            "Epoch: 1, time: 0.132s, Loss: 1.958, Acc: 72.39%\n",
            "Epoch: 2, time: 0.071s, Loss: 0.703, Acc: 87.04%\n",
            "Epoch: 3, time: 0.069s, Loss: 0.345, Acc: 89.73%\n",
            "Epoch: 4, time: 0.072s, Loss: 0.242, Acc: 92.26%\n",
            "Epoch: 5, time: 0.070s, Loss: 0.202, Acc: 90.40%\n",
            "Epoch: 6, time: 0.072s, Loss: 0.213, Acc: 93.43%\n",
            "Epoch: 7, time: 0.081s, Loss: 0.161, Acc: 94.11%\n",
            "Epoch: 8, time: 0.070s, Loss: 0.076, Acc: 94.78%\n",
            "Epoch: 9, time: 0.071s, Loss: 0.055, Acc: 95.62%\n",
            "Epoch: 10, time: 0.078s, Loss: 0.046, Acc: 96.13%\n",
            "Epoch: 11, time: 0.071s, Loss: 0.033, Acc: 97.31%\n",
            "Epoch: 12, time: 0.075s, Loss: 0.027, Acc: 97.14%\n",
            "Epoch: 13, time: 0.076s, Loss: 0.026, Acc: 97.31%\n",
            "Epoch: 14, time: 0.070s, Loss: 0.025, Acc: 97.64%\n",
            "Epoch: 15, time: 0.074s, Loss: 0.027, Acc: 96.30%\n",
            "Epoch: 16, time: 0.072s, Loss: 0.027, Acc: 97.14%\n",
            "Epoch: 17, time: 0.069s, Loss: 0.029, Acc: 96.46%\n",
            "Epoch: 18, time: 0.070s, Loss: 0.011, Acc: 96.30%\n",
            "Epoch: 19, time: 0.081s, Loss: 0.015, Acc: 96.97%\n",
            "Epoch: 20, time: 0.080s, Loss: 0.010, Acc: 97.64%\n",
            "Epoch: 21, time: 0.080s, Loss: 0.012, Acc: 97.64%\n",
            "Epoch: 22, time: 0.076s, Loss: 0.004, Acc: 97.81%\n",
            "Epoch: 23, time: 0.070s, Loss: 0.007, Acc: 97.64%\n",
            "Epoch: 24, time: 0.071s, Loss: 0.002, Acc: 97.98%\n",
            "Epoch: 25, time: 0.075s, Loss: 0.001, Acc: 97.98%\n",
            "Epoch: 26, time: 0.074s, Loss: 0.000, Acc: 97.81%\n",
            "Epoch: 27, time: 0.074s, Loss: 0.000, Acc: 97.98%\n",
            "Epoch: 28, time: 0.075s, Loss: 0.000, Acc: 97.98%\n",
            "Epoch: 29, time: 0.071s, Loss: 0.000, Acc: 97.98%\n",
            "Epoch: 30, time: 0.071s, Loss: 0.000, Acc: 97.98%\n",
            "Epoch: 31, time: 0.075s, Loss: 0.000, Acc: 97.98%\n",
            "Epoch: 32, time: 0.074s, Loss: 0.000, Acc: 97.98%\n",
            "Epoch: 33, time: 0.071s, Loss: 0.000, Acc: 98.15%\n",
            "Epoch: 34, time: 0.073s, Loss: 0.000, Acc: 97.98%\n",
            "Epoch: 35, time: 0.071s, Loss: 0.000, Acc: 97.98%\n",
            "Epoch: 36, time: 0.070s, Loss: 0.000, Acc: 97.98%\n",
            "Epoch: 37, time: 0.087s, Loss: 0.000, Acc: 97.98%\n",
            "Epoch: 38, time: 0.072s, Loss: 0.000, Acc: 97.81%\n",
            "Epoch: 39, time: 0.071s, Loss: 0.000, Acc: 97.81%\n",
            "Epoch: 40, time: 0.079s, Loss: 0.000, Acc: 97.98%\n",
            "Epoch: 41, time: 0.078s, Loss: 0.000, Acc: 97.98%\n",
            "Epoch: 42, time: 0.072s, Loss: 0.000, Acc: 97.98%\n",
            "Epoch: 43, time: 0.074s, Loss: 0.000, Acc: 97.81%\n",
            "Epoch: 44, time: 0.072s, Loss: 0.000, Acc: 97.81%\n",
            "Epoch: 45, time: 0.072s, Loss: 0.000, Acc: 97.81%\n",
            "Epoch: 46, time: 0.077s, Loss: 0.000, Acc: 97.81%\n",
            "Epoch: 47, time: 0.072s, Loss: 0.000, Acc: 97.81%\n",
            "Epoch: 48, time: 0.071s, Loss: 0.000, Acc: 97.98%\n",
            "Epoch: 49, time: 0.074s, Loss: 0.000, Acc: 97.98%\n",
            "Epoch: 50, time: 0.073s, Loss: 0.000, Acc: 97.98%\n",
            "Epoch: 51, time: 0.075s, Loss: 0.000, Acc: 97.98%\n",
            "Epoch: 52, time: 0.075s, Loss: 0.000, Acc: 97.98%\n",
            "Epoch: 53, time: 0.075s, Loss: 0.000, Acc: 97.98%\n",
            "Epoch: 54, time: 0.071s, Loss: 0.000, Acc: 98.15%\n",
            "Epoch: 55, time: 0.076s, Loss: 0.000, Acc: 98.32%\n",
            "Epoch: 56, time: 0.070s, Loss: 0.000, Acc: 98.32%\n",
            "Epoch: 57, time: 0.070s, Loss: 0.000, Acc: 98.32%\n",
            "Epoch: 58, time: 0.074s, Loss: 0.000, Acc: 98.32%\n",
            "Epoch: 59, time: 0.070s, Loss: 0.000, Acc: 98.65%\n",
            "Epoch: 60, time: 0.074s, Loss: 0.000, Acc: 98.48%\n",
            "Epoch: 61, time: 0.073s, Loss: 0.000, Acc: 98.65%\n",
            "Epoch: 62, time: 0.070s, Loss: 0.000, Acc: 98.32%\n",
            "Epoch: 63, time: 0.070s, Loss: 0.000, Acc: 98.48%\n",
            "Epoch: 64, time: 0.080s, Loss: 0.000, Acc: 98.48%\n",
            "Epoch: 65, time: 0.077s, Loss: 0.000, Acc: 98.48%\n",
            "Epoch: 66, time: 0.069s, Loss: 0.000, Acc: 98.48%\n",
            "Epoch: 67, time: 0.078s, Loss: 0.000, Acc: 98.48%\n",
            "Epoch: 68, time: 0.070s, Loss: 0.000, Acc: 98.48%\n",
            "Epoch: 69, time: 0.073s, Loss: 0.000, Acc: 98.48%\n",
            "Epoch: 70, time: 0.076s, Loss: 0.000, Acc: 98.48%\n",
            "Epoch: 71, time: 0.071s, Loss: 0.000, Acc: 98.48%\n",
            "Epoch: 72, time: 0.070s, Loss: 0.000, Acc: 98.48%\n",
            "Epoch: 73, time: 0.075s, Loss: 0.000, Acc: 98.48%\n",
            "Epoch: 74, time: 0.073s, Loss: 0.000, Acc: 98.48%\n",
            "Epoch: 75, time: 0.075s, Loss: 0.000, Acc: 98.48%\n",
            "Epoch: 76, time: 0.073s, Loss: 0.000, Acc: 98.48%\n",
            "Epoch: 77, time: 0.070s, Loss: 0.000, Acc: 98.32%\n",
            "Epoch: 78, time: 0.073s, Loss: 0.000, Acc: 98.48%\n",
            "Epoch: 79, time: 0.076s, Loss: 0.000, Acc: 98.32%\n",
            "Epoch: 80, time: 0.075s, Loss: 0.000, Acc: 98.32%\n",
            "Epoch: 81, time: 0.071s, Loss: 0.000, Acc: 98.32%\n",
            "Epoch: 82, time: 0.076s, Loss: 0.000, Acc: 98.32%\n",
            "Epoch: 83, time: 0.070s, Loss: 0.000, Acc: 98.32%\n",
            "Epoch: 84, time: 0.075s, Loss: 0.000, Acc: 98.32%\n",
            "Epoch: 85, time: 0.079s, Loss: 0.000, Acc: 98.32%\n",
            "Epoch: 86, time: 0.075s, Loss: 0.000, Acc: 98.32%\n",
            "Epoch: 87, time: 0.070s, Loss: 0.000, Acc: 98.32%\n",
            "Epoch: 88, time: 0.073s, Loss: 0.000, Acc: 98.32%\n",
            "Epoch: 89, time: 0.080s, Loss: 0.000, Acc: 98.32%\n",
            "Epoch: 90, time: 0.074s, Loss: 0.000, Acc: 98.32%\n",
            "Epoch: 91, time: 0.074s, Loss: 0.000, Acc: 98.32%\n",
            "Epoch: 92, time: 0.071s, Loss: 0.000, Acc: 98.32%\n",
            "Epoch: 93, time: 0.071s, Loss: 0.000, Acc: 98.32%\n",
            "Epoch: 94, time: 0.081s, Loss: 0.000, Acc: 98.32%\n",
            "Epoch: 95, time: 0.084s, Loss: 0.000, Acc: 98.32%\n",
            "Epoch: 96, time: 0.071s, Loss: 0.000, Acc: 98.32%\n",
            "Epoch: 97, time: 0.073s, Loss: 0.000, Acc: 98.32%\n",
            "Epoch: 98, time: 0.071s, Loss: 0.000, Acc: 98.32%\n",
            "Epoch: 99, time: 0.070s, Loss: 0.000, Acc: 98.32%\n",
            "Epoch: 100, time: 0.077s, Loss: 0.000, Acc: 98.32%\n",
            "CPU times: user 7.21 s, sys: 137 ms, total: 7.35 s\n",
            "Wall time: 7.56 s\n"
          ],
          "name": "stdout"
        }
      ]
    },
    {
      "cell_type": "markdown",
      "metadata": {
        "id": "pOUugjsmbyGG"
      },
      "source": [
        "# JAX"
      ]
    },
    {
      "cell_type": "code",
      "metadata": {
        "id": "cT_qssRzQb7l"
      },
      "source": [
        "import jax.numpy as jnp\n",
        "from jax import jit, vmap, grad\n",
        "import jax.nn as jnn\n",
        "import jax"
      ],
      "execution_count": 73,
      "outputs": []
    },
    {
      "cell_type": "code",
      "metadata": {
        "id": "Fab1xkOoQdZt"
      },
      "source": [
        "jax_train_x = jnp.array(train_x)\n",
        "jax_train_y = jnn.one_hot(jnp.array(train_y), 10)\n",
        "jax_test_x = jnp.array(test_x)\n",
        "jax_test_y = jnn.one_hot(jnp.array(test_y), 10)"
      ],
      "execution_count": 74,
      "outputs": []
    },
    {
      "cell_type": "code",
      "metadata": {
        "id": "AhepKtdlbtdn"
      },
      "source": [
        "key = jax.random.PRNGKey(0)\n",
        "layer_dim = [(64, 128), (128, 256), (256,512), (512, 256), (256,128), (128,64), (64,10)]\n",
        "parmas = [(jax.random.normal(key, (m, n)), jax.random.normal(key, (n,))) for m, n in layer_dim]"
      ],
      "execution_count": 77,
      "outputs": []
    },
    {
      "cell_type": "code",
      "metadata": {
        "id": "SyO6gFTERaHV"
      },
      "source": [
        "def fc(inputs, w, b):\n",
        "    return jnp.dot(inputs, w) + b\n",
        "\n",
        "def relu(inputs):\n",
        "    # return  jnn.relu(inputs)\n",
        "    return jnp.maximum(0, inputs)\n",
        "\n",
        "def sigmoid(inputs):\n",
        "    return 1 / (1 + jnp.exp(inputs))\n",
        "\n",
        "def softmax(inputs):\n",
        "    return jnn.softmax(inputs)"
      ],
      "execution_count": 148,
      "outputs": []
    },
    {
      "cell_type": "code",
      "metadata": {
        "id": "IO-M3pVRVHxr"
      },
      "source": [
        "def forward_1(inputs, params):\n",
        "    for w, b in parmas[:-1]:\n",
        "        outputs = fc(inputs, w, b)\n",
        "        inputs = sigmoid(outputs)\n",
        "\n",
        "    outputs = fc(inputs, *parmas[-1])\n",
        "    print(outputs)\n",
        "    outputs = outputs - jax.scipy.special.logsumexp(outputs)\n",
        "    print(outputs)\n",
        "    return outputs\n",
        "        \n",
        "def loss_fun_1(inputs, parmas, y_true):\n",
        "    predict = forward_1(inputs, parmas)\n",
        "    # loss = \n",
        "    # print(loss)\n",
        "    return l-jnp.sum(predict * y_true)\n",
        "\n",
        "def train_1(inputs, y_true, parmas, lr=0.01):\n",
        "    grad_data = grad(loss_fun_1, (1,))(inputs, parmas, y_true)\n",
        "    print(grad_data[0])\n",
        "    new_parmas = [(w - lr * dw, b - lr * db) for (dw, db), (w, b) in zip(grad_data[0], parmas)]\n",
        "    return new_parmas\n"
      ],
      "execution_count": 151,
      "outputs": []
    },
    {
      "cell_type": "code",
      "metadata": {
        "colab": {
          "base_uri": "https://localhost:8080/"
        },
        "id": "6Nezc50NR4l0",
        "outputId": "eb8fcd9e-89d6-4576-8ed3-fb89eb8f3695"
      },
      "source": [
        "for i in range(1):\n",
        "    parmas = train_1(jax_train_x[3], jax_train_y[3], parmas)"
      ],
      "execution_count": 153,
      "outputs": [
        {
          "output_type": "stream",
          "text": [
            "[ 0.900438  -1.2475622 -4.912817  -4.8752565 -1.5413809  1.5393157\n",
            " -1.680436  -6.711699  -4.3902516  1.2724842]\n",
            "[-1.5338743  -3.6818745  -7.3471293  -7.309569   -3.9756932  -0.89499664\n",
            " -4.1147485  -9.146011   -6.824564   -1.1618282 ]\n",
            "1.5338743\n",
            "[(array([[0., 0., 0., ..., 0., 0., 0.],\n",
            "       [0., 0., 0., ..., 0., 0., 0.],\n",
            "       [0., 0., 0., ..., 0., 0., 0.],\n",
            "       ...,\n",
            "       [0., 0., 0., ..., 0., 0., 0.],\n",
            "       [0., 0., 0., ..., 0., 0., 0.],\n",
            "       [0., 0., 0., ..., 0., 0., 0.]], dtype=float32), array([0., 0., 0., 0., 0., 0., 0., 0., 0., 0., 0., 0., 0., 0., 0., 0., 0.,\n",
            "       0., 0., 0., 0., 0., 0., 0., 0., 0., 0., 0., 0., 0., 0., 0., 0., 0.,\n",
            "       0., 0., 0., 0., 0., 0., 0., 0., 0., 0., 0., 0., 0., 0., 0., 0., 0.,\n",
            "       0., 0., 0., 0., 0., 0., 0., 0., 0., 0., 0., 0., 0., 0., 0., 0., 0.,\n",
            "       0., 0., 0., 0., 0., 0., 0., 0., 0., 0., 0., 0., 0., 0., 0., 0., 0.,\n",
            "       0., 0., 0., 0., 0., 0., 0., 0., 0., 0., 0., 0., 0., 0., 0., 0., 0.,\n",
            "       0., 0., 0., 0., 0., 0., 0., 0., 0., 0., 0., 0., 0., 0., 0., 0., 0.,\n",
            "       0., 0., 0., 0., 0., 0., 0., 0., 0.], dtype=float32)), (array([[0., 0., 0., ..., 0., 0., 0.],\n",
            "       [0., 0., 0., ..., 0., 0., 0.],\n",
            "       [0., 0., 0., ..., 0., 0., 0.],\n",
            "       ...,\n",
            "       [0., 0., 0., ..., 0., 0., 0.],\n",
            "       [0., 0., 0., ..., 0., 0., 0.],\n",
            "       [0., 0., 0., ..., 0., 0., 0.]], dtype=float32), array([0., 0., 0., 0., 0., 0., 0., 0., 0., 0., 0., 0., 0., 0., 0., 0., 0.,\n",
            "       0., 0., 0., 0., 0., 0., 0., 0., 0., 0., 0., 0., 0., 0., 0., 0., 0.,\n",
            "       0., 0., 0., 0., 0., 0., 0., 0., 0., 0., 0., 0., 0., 0., 0., 0., 0.,\n",
            "       0., 0., 0., 0., 0., 0., 0., 0., 0., 0., 0., 0., 0., 0., 0., 0., 0.,\n",
            "       0., 0., 0., 0., 0., 0., 0., 0., 0., 0., 0., 0., 0., 0., 0., 0., 0.,\n",
            "       0., 0., 0., 0., 0., 0., 0., 0., 0., 0., 0., 0., 0., 0., 0., 0., 0.,\n",
            "       0., 0., 0., 0., 0., 0., 0., 0., 0., 0., 0., 0., 0., 0., 0., 0., 0.,\n",
            "       0., 0., 0., 0., 0., 0., 0., 0., 0., 0., 0., 0., 0., 0., 0., 0., 0.,\n",
            "       0., 0., 0., 0., 0., 0., 0., 0., 0., 0., 0., 0., 0., 0., 0., 0., 0.,\n",
            "       0., 0., 0., 0., 0., 0., 0., 0., 0., 0., 0., 0., 0., 0., 0., 0., 0.,\n",
            "       0., 0., 0., 0., 0., 0., 0., 0., 0., 0., 0., 0., 0., 0., 0., 0., 0.,\n",
            "       0., 0., 0., 0., 0., 0., 0., 0., 0., 0., 0., 0., 0., 0., 0., 0., 0.,\n",
            "       0., 0., 0., 0., 0., 0., 0., 0., 0., 0., 0., 0., 0., 0., 0., 0., 0.,\n",
            "       0., 0., 0., 0., 0., 0., 0., 0., 0., 0., 0., 0., 0., 0., 0., 0., 0.,\n",
            "       0., 0., 0., 0., 0., 0., 0., 0., 0., 0., 0., 0., 0., 0., 0., 0., 0.,\n",
            "       0.], dtype=float32)), (array([[0., 0., 0., ..., 0., 0., 0.],\n",
            "       [0., 0., 0., ..., 0., 0., 0.],\n",
            "       [0., 0., 0., ..., 0., 0., 0.],\n",
            "       ...,\n",
            "       [0., 0., 0., ..., 0., 0., 0.],\n",
            "       [0., 0., 0., ..., 0., 0., 0.],\n",
            "       [0., 0., 0., ..., 0., 0., 0.]], dtype=float32), array([0., 0., 0., 0., 0., 0., 0., 0., 0., 0., 0., 0., 0., 0., 0., 0., 0.,\n",
            "       0., 0., 0., 0., 0., 0., 0., 0., 0., 0., 0., 0., 0., 0., 0., 0., 0.,\n",
            "       0., 0., 0., 0., 0., 0., 0., 0., 0., 0., 0., 0., 0., 0., 0., 0., 0.,\n",
            "       0., 0., 0., 0., 0., 0., 0., 0., 0., 0., 0., 0., 0., 0., 0., 0., 0.,\n",
            "       0., 0., 0., 0., 0., 0., 0., 0., 0., 0., 0., 0., 0., 0., 0., 0., 0.,\n",
            "       0., 0., 0., 0., 0., 0., 0., 0., 0., 0., 0., 0., 0., 0., 0., 0., 0.,\n",
            "       0., 0., 0., 0., 0., 0., 0., 0., 0., 0., 0., 0., 0., 0., 0., 0., 0.,\n",
            "       0., 0., 0., 0., 0., 0., 0., 0., 0., 0., 0., 0., 0., 0., 0., 0., 0.,\n",
            "       0., 0., 0., 0., 0., 0., 0., 0., 0., 0., 0., 0., 0., 0., 0., 0., 0.,\n",
            "       0., 0., 0., 0., 0., 0., 0., 0., 0., 0., 0., 0., 0., 0., 0., 0., 0.,\n",
            "       0., 0., 0., 0., 0., 0., 0., 0., 0., 0., 0., 0., 0., 0., 0., 0., 0.,\n",
            "       0., 0., 0., 0., 0., 0., 0., 0., 0., 0., 0., 0., 0., 0., 0., 0., 0.,\n",
            "       0., 0., 0., 0., 0., 0., 0., 0., 0., 0., 0., 0., 0., 0., 0., 0., 0.,\n",
            "       0., 0., 0., 0., 0., 0., 0., 0., 0., 0., 0., 0., 0., 0., 0., 0., 0.,\n",
            "       0., 0., 0., 0., 0., 0., 0., 0., 0., 0., 0., 0., 0., 0., 0., 0., 0.,\n",
            "       0., 0., 0., 0., 0., 0., 0., 0., 0., 0., 0., 0., 0., 0., 0., 0., 0.,\n",
            "       0., 0., 0., 0., 0., 0., 0., 0., 0., 0., 0., 0., 0., 0., 0., 0., 0.,\n",
            "       0., 0., 0., 0., 0., 0., 0., 0., 0., 0., 0., 0., 0., 0., 0., 0., 0.,\n",
            "       0., 0., 0., 0., 0., 0., 0., 0., 0., 0., 0., 0., 0., 0., 0., 0., 0.,\n",
            "       0., 0., 0., 0., 0., 0., 0., 0., 0., 0., 0., 0., 0., 0., 0., 0., 0.,\n",
            "       0., 0., 0., 0., 0., 0., 0., 0., 0., 0., 0., 0., 0., 0., 0., 0., 0.,\n",
            "       0., 0., 0., 0., 0., 0., 0., 0., 0., 0., 0., 0., 0., 0., 0., 0., 0.,\n",
            "       0., 0., 0., 0., 0., 0., 0., 0., 0., 0., 0., 0., 0., 0., 0., 0., 0.,\n",
            "       0., 0., 0., 0., 0., 0., 0., 0., 0., 0., 0., 0., 0., 0., 0., 0., 0.,\n",
            "       0., 0., 0., 0., 0., 0., 0., 0., 0., 0., 0., 0., 0., 0., 0., 0., 0.,\n",
            "       0., 0., 0., 0., 0., 0., 0., 0., 0., 0., 0., 0., 0., 0., 0., 0., 0.,\n",
            "       0., 0., 0., 0., 0., 0., 0., 0., 0., 0., 0., 0., 0., 0., 0., 0., 0.,\n",
            "       0., 0., 0., 0., 0., 0., 0., 0., 0., 0., 0., 0., 0., 0., 0., 0., 0.,\n",
            "       0., 0., 0., 0., 0., 0., 0., 0., 0., 0., 0., 0., 0., 0., 0., 0., 0.,\n",
            "       0., 0., 0., 0., 0., 0., 0., 0., 0., 0., 0., 0., 0., 0., 0., 0., 0.,\n",
            "       0., 0.], dtype=float32)), (array([[0., 0., 0., ..., 0., 0., 0.],\n",
            "       [0., 0., 0., ..., 0., 0., 0.],\n",
            "       [0., 0., 0., ..., 0., 0., 0.],\n",
            "       ...,\n",
            "       [0., 0., 0., ..., 0., 0., 0.],\n",
            "       [0., 0., 0., ..., 0., 0., 0.],\n",
            "       [0., 0., 0., ..., 0., 0., 0.]], dtype=float32), array([0., 0., 0., 0., 0., 0., 0., 0., 0., 0., 0., 0., 0., 0., 0., 0., 0.,\n",
            "       0., 0., 0., 0., 0., 0., 0., 0., 0., 0., 0., 0., 0., 0., 0., 0., 0.,\n",
            "       0., 0., 0., 0., 0., 0., 0., 0., 0., 0., 0., 0., 0., 0., 0., 0., 0.,\n",
            "       0., 0., 0., 0., 0., 0., 0., 0., 0., 0., 0., 0., 0., 0., 0., 0., 0.,\n",
            "       0., 0., 0., 0., 0., 0., 0., 0., 0., 0., 0., 0., 0., 0., 0., 0., 0.,\n",
            "       0., 0., 0., 0., 0., 0., 0., 0., 0., 0., 0., 0., 0., 0., 0., 0., 0.,\n",
            "       0., 0., 0., 0., 0., 0., 0., 0., 0., 0., 0., 0., 0., 0., 0., 0., 0.,\n",
            "       0., 0., 0., 0., 0., 0., 0., 0., 0., 0., 0., 0., 0., 0., 0., 0., 0.,\n",
            "       0., 0., 0., 0., 0., 0., 0., 0., 0., 0., 0., 0., 0., 0., 0., 0., 0.,\n",
            "       0., 0., 0., 0., 0., 0., 0., 0., 0., 0., 0., 0., 0., 0., 0., 0., 0.,\n",
            "       0., 0., 0., 0., 0., 0., 0., 0., 0., 0., 0., 0., 0., 0., 0., 0., 0.,\n",
            "       0., 0., 0., 0., 0., 0., 0., 0., 0., 0., 0., 0., 0., 0., 0., 0., 0.,\n",
            "       0., 0., 0., 0., 0., 0., 0., 0., 0., 0., 0., 0., 0., 0., 0., 0., 0.,\n",
            "       0., 0., 0., 0., 0., 0., 0., 0., 0., 0., 0., 0., 0., 0., 0., 0., 0.,\n",
            "       0., 0., 0., 0., 0., 0., 0., 0., 0., 0., 0., 0., 0., 0., 0., 0., 0.,\n",
            "       0.], dtype=float32)), (array([[0., 0., 0., ..., 0., 0., 0.],\n",
            "       [0., 0., 0., ..., 0., 0., 0.],\n",
            "       [0., 0., 0., ..., 0., 0., 0.],\n",
            "       ...,\n",
            "       [0., 0., 0., ..., 0., 0., 0.],\n",
            "       [0., 0., 0., ..., 0., 0., 0.],\n",
            "       [0., 0., 0., ..., 0., 0., 0.]], dtype=float32), array([0., 0., 0., 0., 0., 0., 0., 0., 0., 0., 0., 0., 0., 0., 0., 0., 0.,\n",
            "       0., 0., 0., 0., 0., 0., 0., 0., 0., 0., 0., 0., 0., 0., 0., 0., 0.,\n",
            "       0., 0., 0., 0., 0., 0., 0., 0., 0., 0., 0., 0., 0., 0., 0., 0., 0.,\n",
            "       0., 0., 0., 0., 0., 0., 0., 0., 0., 0., 0., 0., 0., 0., 0., 0., 0.,\n",
            "       0., 0., 0., 0., 0., 0., 0., 0., 0., 0., 0., 0., 0., 0., 0., 0., 0.,\n",
            "       0., 0., 0., 0., 0., 0., 0., 0., 0., 0., 0., 0., 0., 0., 0., 0., 0.,\n",
            "       0., 0., 0., 0., 0., 0., 0., 0., 0., 0., 0., 0., 0., 0., 0., 0., 0.,\n",
            "       0., 0., 0., 0., 0., 0., 0., 0., 0.], dtype=float32)), (array([[0., 0., 0., ..., 0., 0., 0.],\n",
            "       [0., 0., 0., ..., 0., 0., 0.],\n",
            "       [0., 0., 0., ..., 0., 0., 0.],\n",
            "       ...,\n",
            "       [0., 0., 0., ..., 0., 0., 0.],\n",
            "       [0., 0., 0., ..., 0., 0., 0.],\n",
            "       [0., 0., 0., ..., 0., 0., 0.]], dtype=float32), array([0., 0., 0., 0., 0., 0., 0., 0., 0., 0., 0., 0., 0., 0., 0., 0., 0.,\n",
            "       0., 0., 0., 0., 0., 0., 0., 0., 0., 0., 0., 0., 0., 0., 0., 0., 0.,\n",
            "       0., 0., 0., 0., 0., 0., 0., 0., 0., 0., 0., 0., 0., 0., 0., 0., 0.,\n",
            "       0., 0., 0., 0., 0., 0., 0., 0., 0., 0., 0., 0., 0.], dtype=float32)), (array([[0., 0., 0., 0., 0., 0., 0., 0., 0., 0.],\n",
            "       [0., 0., 0., 0., 0., 0., 0., 0., 0., 0.],\n",
            "       [0., 0., 0., 0., 0., 0., 0., 0., 0., 0.],\n",
            "       [0., 0., 0., 0., 0., 0., 0., 0., 0., 0.],\n",
            "       [0., 0., 0., 0., 0., 0., 0., 0., 0., 0.],\n",
            "       [0., 0., 0., 0., 0., 0., 0., 0., 0., 0.],\n",
            "       [0., 0., 0., 0., 0., 0., 0., 0., 0., 0.],\n",
            "       [0., 0., 0., 0., 0., 0., 0., 0., 0., 0.],\n",
            "       [0., 0., 0., 0., 0., 0., 0., 0., 0., 0.],\n",
            "       [0., 0., 0., 0., 0., 0., 0., 0., 0., 0.],\n",
            "       [0., 0., 0., 0., 0., 0., 0., 0., 0., 0.],\n",
            "       [0., 0., 0., 0., 0., 0., 0., 0., 0., 0.],\n",
            "       [0., 0., 0., 0., 0., 0., 0., 0., 0., 0.],\n",
            "       [0., 0., 0., 0., 0., 0., 0., 0., 0., 0.],\n",
            "       [0., 0., 0., 0., 0., 0., 0., 0., 0., 0.],\n",
            "       [0., 0., 0., 0., 0., 0., 0., 0., 0., 0.],\n",
            "       [0., 0., 0., 0., 0., 0., 0., 0., 0., 0.],\n",
            "       [0., 0., 0., 0., 0., 0., 0., 0., 0., 0.],\n",
            "       [0., 0., 0., 0., 0., 0., 0., 0., 0., 0.],\n",
            "       [0., 0., 0., 0., 0., 0., 0., 0., 0., 0.],\n",
            "       [0., 0., 0., 0., 0., 0., 0., 0., 0., 0.],\n",
            "       [0., 0., 0., 0., 0., 0., 0., 0., 0., 0.],\n",
            "       [0., 0., 0., 0., 0., 0., 0., 0., 0., 0.],\n",
            "       [0., 0., 0., 0., 0., 0., 0., 0., 0., 0.],\n",
            "       [0., 0., 0., 0., 0., 0., 0., 0., 0., 0.],\n",
            "       [0., 0., 0., 0., 0., 0., 0., 0., 0., 0.],\n",
            "       [0., 0., 0., 0., 0., 0., 0., 0., 0., 0.],\n",
            "       [0., 0., 0., 0., 0., 0., 0., 0., 0., 0.],\n",
            "       [0., 0., 0., 0., 0., 0., 0., 0., 0., 0.],\n",
            "       [0., 0., 0., 0., 0., 0., 0., 0., 0., 0.],\n",
            "       [0., 0., 0., 0., 0., 0., 0., 0., 0., 0.],\n",
            "       [0., 0., 0., 0., 0., 0., 0., 0., 0., 0.],\n",
            "       [0., 0., 0., 0., 0., 0., 0., 0., 0., 0.],\n",
            "       [0., 0., 0., 0., 0., 0., 0., 0., 0., 0.],\n",
            "       [0., 0., 0., 0., 0., 0., 0., 0., 0., 0.],\n",
            "       [0., 0., 0., 0., 0., 0., 0., 0., 0., 0.],\n",
            "       [0., 0., 0., 0., 0., 0., 0., 0., 0., 0.],\n",
            "       [0., 0., 0., 0., 0., 0., 0., 0., 0., 0.],\n",
            "       [0., 0., 0., 0., 0., 0., 0., 0., 0., 0.],\n",
            "       [0., 0., 0., 0., 0., 0., 0., 0., 0., 0.],\n",
            "       [0., 0., 0., 0., 0., 0., 0., 0., 0., 0.],\n",
            "       [0., 0., 0., 0., 0., 0., 0., 0., 0., 0.],\n",
            "       [0., 0., 0., 0., 0., 0., 0., 0., 0., 0.],\n",
            "       [0., 0., 0., 0., 0., 0., 0., 0., 0., 0.],\n",
            "       [0., 0., 0., 0., 0., 0., 0., 0., 0., 0.],\n",
            "       [0., 0., 0., 0., 0., 0., 0., 0., 0., 0.],\n",
            "       [0., 0., 0., 0., 0., 0., 0., 0., 0., 0.],\n",
            "       [0., 0., 0., 0., 0., 0., 0., 0., 0., 0.],\n",
            "       [0., 0., 0., 0., 0., 0., 0., 0., 0., 0.],\n",
            "       [0., 0., 0., 0., 0., 0., 0., 0., 0., 0.],\n",
            "       [0., 0., 0., 0., 0., 0., 0., 0., 0., 0.],\n",
            "       [0., 0., 0., 0., 0., 0., 0., 0., 0., 0.],\n",
            "       [0., 0., 0., 0., 0., 0., 0., 0., 0., 0.],\n",
            "       [0., 0., 0., 0., 0., 0., 0., 0., 0., 0.],\n",
            "       [0., 0., 0., 0., 0., 0., 0., 0., 0., 0.],\n",
            "       [0., 0., 0., 0., 0., 0., 0., 0., 0., 0.],\n",
            "       [0., 0., 0., 0., 0., 0., 0., 0., 0., 0.],\n",
            "       [0., 0., 0., 0., 0., 0., 0., 0., 0., 0.],\n",
            "       [0., 0., 0., 0., 0., 0., 0., 0., 0., 0.],\n",
            "       [0., 0., 0., 0., 0., 0., 0., 0., 0., 0.],\n",
            "       [0., 0., 0., 0., 0., 0., 0., 0., 0., 0.],\n",
            "       [0., 0., 0., 0., 0., 0., 0., 0., 0., 0.],\n",
            "       [0., 0., 0., 0., 0., 0., 0., 0., 0., 0.],\n",
            "       [0., 0., 0., 0., 0., 0., 0., 0., 0., 0.]], dtype=float32), array([0., 0., 0., 0., 0., 0., 0., 0., 0., 0.], dtype=float32))]\n"
          ],
          "name": "stdout"
        }
      ]
    },
    {
      "cell_type": "code",
      "metadata": {
        "id": "1Mh5D8JHSDC1"
      },
      "source": [
        "forward(jax_train_x[6], parmas)"
      ],
      "execution_count": null,
      "outputs": []
    },
    {
      "cell_type": "code",
      "metadata": {
        "id": "I731KSzeULe_"
      },
      "source": [
        "jax_train_y[6]"
      ],
      "execution_count": null,
      "outputs": []
    },
    {
      "cell_type": "code",
      "metadata": {
        "id": "Dv8RR7dzpyHi"
      },
      "source": [
        "y_pre.shape"
      ],
      "execution_count": null,
      "outputs": []
    },
    {
      "cell_type": "code",
      "metadata": {
        "id": "8o9RekeIrLFW"
      },
      "source": [
        "jax_train_y.shape"
      ],
      "execution_count": null,
      "outputs": []
    },
    {
      "cell_type": "code",
      "metadata": {
        "id": "SMhk6tASrMHN"
      },
      "source": [
        ""
      ],
      "execution_count": null,
      "outputs": []
    },
    {
      "cell_type": "code",
      "metadata": {
        "id": "rd8kU-eZrTAJ"
      },
      "source": [
        "parmas[0][0]"
      ],
      "execution_count": null,
      "outputs": []
    },
    {
      "cell_type": "code",
      "metadata": {
        "id": "2ZG8OleLuVwF"
      },
      "source": [
        "jnp.maximum(0, parmas[0][1])"
      ],
      "execution_count": null,
      "outputs": []
    },
    {
      "cell_type": "code",
      "metadata": {
        "id": "QGUGsYsPxZCk"
      },
      "source": [
        "relu(parmas[0][1])"
      ],
      "execution_count": null,
      "outputs": []
    },
    {
      "cell_type": "code",
      "metadata": {
        "id": "ftlVzisixdJc"
      },
      "source": [
        "jnp.sum(softmax(parmas[0][1]))"
      ],
      "execution_count": null,
      "outputs": []
    },
    {
      "cell_type": "code",
      "metadata": {
        "id": "Ne9ibb9xyI4p"
      },
      "source": [
        "jax.scipy.special.logsumexp(parmas[0][1])"
      ],
      "execution_count": null,
      "outputs": []
    },
    {
      "cell_type": "code",
      "metadata": {
        "id": "TUfBd62HPsSP"
      },
      "source": [
        "import jax.numpy as jnp\n",
        "from jax import grad, jit, vmap\n",
        "import jax.nn as jnn\n",
        "import jax\n",
        "from jax.scipy.special import logsumexp"
      ],
      "execution_count": 235,
      "outputs": []
    },
    {
      "cell_type": "code",
      "metadata": {
        "id": "54ltoJpEd0qD"
      },
      "source": [
        "def fc(x, w, b):\n",
        "    return jnp.dot(x, w) + b\n",
        "\n",
        "def relu(x):\n",
        "    return jnn.relu(x)\n",
        "\n",
        "def softmax(x):\n",
        "    return jnn.softmax(x)\n",
        "\n",
        "def logsoftmax(x):\n",
        "    return logsumexp(x)"
      ],
      "execution_count": 236,
      "outputs": []
    },
    {
      "cell_type": "code",
      "metadata": {
        "id": "JOg-Yi5EQlsM"
      },
      "source": [
        "@jax.partial(jax.vmap, in_axes=(0, None))\n",
        "def predict(x, parmas):\n",
        "    for w, b in parmas[:-1]:\n",
        "        x = relu(fc(x, w, b))\n",
        "        \n",
        "    x = fc(x, *parmas[-1])\n",
        "    return x - logsoftmax(x)\n",
        "\n",
        "@grad\n",
        "def loss_fun(parmas, x, y):\n",
        "    pre = predict(x, parmas)\n",
        "    loss = -jnp.mean(pre*y)\n",
        "    return loss\n",
        "\n",
        "# @jax.partial(jax.jit, static_argnums=(3,))\n",
        "@jit\n",
        "def train(parmas, x, y, lr=0.001):\n",
        "    parmas_grad = loss_fun(parmas, inputs, y)\n",
        "    new_grad = [(w - dw * lr, b - db * lr) for (dw, db), (w, b) in zip(parmas_grad, parmas)]\n",
        "    return new_grad"
      ],
      "execution_count": 237,
      "outputs": []
    },
    {
      "cell_type": "code",
      "metadata": {
        "colab": {
          "base_uri": "https://localhost:8080/"
        },
        "id": "R5v8sPGwVC2J",
        "outputId": "cc2a4266-24e8-4f1e-9c9f-420e36cd5932"
      },
      "source": [
        "%%time\n",
        "key = jax.random.PRNGKey(4)\n",
        "layer_dim = [(4,8), (8,16), (16,32), (32,64), (64,32), (32,4)]\n",
        "parmas = [(jax.random.normal(key, (m, n)), jax.random.normal(key, (n,))) for m, n in layer_dim]\n",
        "\n",
        "inputs = jnp.array([[1,5,3,-1]], dtype=jnp.float32)\n",
        "y = jnp.array([[1,0,0,0]], dtype=jnp.float32)"
      ],
      "execution_count": 238,
      "outputs": [
        {
          "output_type": "stream",
          "text": [
            "CPU times: user 8.83 ms, sys: 3.14 ms, total: 12 ms\n",
            "Wall time: 13.3 ms\n"
          ],
          "name": "stdout"
        }
      ]
    },
    {
      "cell_type": "code",
      "metadata": {
        "id": "eh1bpuB6a83m",
        "outputId": "c24f9cab-89c4-4f51-997d-31001833d981",
        "colab": {
          "base_uri": "https://localhost:8080/"
        }
      },
      "source": [
        "%%time\n",
        "for i in range(1):\n",
        "    parmas = train(parmas, inputs, y, lr=0.001)"
      ],
      "execution_count": 240,
      "outputs": [
        {
          "output_type": "stream",
          "text": [
            "CPU times: user 406 ms, sys: 14.4 ms, total: 421 ms\n",
            "Wall time: 544 ms\n"
          ],
          "name": "stdout"
        }
      ]
    },
    {
      "cell_type": "code",
      "metadata": {
        "id": "yOSuF7pblz-A",
        "outputId": "5614cc1b-b920-4d26-a466-7d70f91b3108",
        "colab": {
          "base_uri": "https://localhost:8080/"
        }
      },
      "source": [
        "predict(inputs, parmas)"
      ],
      "execution_count": 241,
      "outputs": [
        {
          "output_type": "execute_result",
          "data": {
            "text/plain": [
              "DeviceArray([[    0.    , -2411.7173, -5136.0386, -4565.2817]], dtype=float32)"
            ]
          },
          "metadata": {
            "tags": []
          },
          "execution_count": 241
        }
      ]
    },
    {
      "cell_type": "code",
      "metadata": {
        "colab": {
          "base_uri": "https://localhost:8080/"
        },
        "id": "X-BiwVtdWXvb",
        "outputId": "46c16df1-774d-4798-920d-eab1a35cade0"
      },
      "source": [
        "predict(inputs, parmas)"
      ],
      "execution_count": 231,
      "outputs": [
        {
          "output_type": "execute_result",
          "data": {
            "text/plain": [
              "DeviceArray([[    0.    , -2411.7173, -5136.0386, -4565.2817]], dtype=float32)"
            ]
          },
          "metadata": {
            "tags": []
          },
          "execution_count": 231
        }
      ]
    },
    {
      "cell_type": "code",
      "metadata": {
        "id": "r9owwi7kl7Da",
        "outputId": "314b79fd-1463-4b70-fd77-4ae381229b77",
        "colab": {
          "base_uri": "https://localhost:8080/"
        }
      },
      "source": [
        "jnp.argmax(predict(inputs, parmas), axis=1)"
      ],
      "execution_count": 224,
      "outputs": [
        {
          "output_type": "execute_result",
          "data": {
            "text/plain": [
              "DeviceArray([3], dtype=int32)"
            ]
          },
          "metadata": {
            "tags": []
          },
          "execution_count": 224
        }
      ]
    },
    {
      "cell_type": "code",
      "metadata": {
        "colab": {
          "base_uri": "https://localhost:8080/"
        },
        "id": "qJlK2tZPZvsN",
        "outputId": "5eb96e5f-a322-499d-eb04-7dcd5acd483b"
      },
      "source": [
        "fc(relu(fc(relu(fc(relu(fc(inputs, *parmas[0])), *parmas[1])), *parmas[2])), *parmas[3])"
      ],
      "execution_count": 170,
      "outputs": [
        {
          "output_type": "execute_result",
          "data": {
            "text/plain": [
              "DeviceArray([[-11.767935 , -37.907917 ,  -3.1590328, -10.243803 ]], dtype=float32)"
            ]
          },
          "metadata": {
            "tags": []
          },
          "execution_count": 170
        }
      ]
    },
    {
      "cell_type": "code",
      "metadata": {
        "id": "ul5BvzgJgf3H",
        "outputId": "7c12c8f2-e1c3-4ad2-bf82-8654ba6a1b79",
        "colab": {
          "base_uri": "https://localhost:8080/"
        }
      },
      "source": [
        "softmax(fc(relu(fc(relu(fc(relu(fc(inputs, *parmas[0])), *parmas[1])), *parmas[2])), *parmas[3]))"
      ],
      "execution_count": 171,
      "outputs": [
        {
          "output_type": "execute_result",
          "data": {
            "text/plain": [
              "DeviceArray([[1.8228816e-04, 8.0966921e-16, 9.9898070e-01, 8.3691336e-04]],            dtype=float32)"
            ]
          },
          "metadata": {
            "tags": []
          },
          "execution_count": 171
        }
      ]
    },
    {
      "cell_type": "code",
      "metadata": {
        "id": "l5RW9EcykyEd",
        "outputId": "3f3a1556-4873-482f-f6d6-f16abe998c03",
        "colab": {
          "base_uri": "https://localhost:8080/"
        }
      },
      "source": [
        "logsoftmax(fc(relu(fc(relu(fc(relu(fc(inputs, *parmas[0])), *parmas[1])), *parmas[2])), *parmas[3]))"
      ],
      "execution_count": 172,
      "outputs": [
        {
          "output_type": "execute_result",
          "data": {
            "text/plain": [
              "DeviceArray(-3.158013, dtype=float32)"
            ]
          },
          "metadata": {
            "tags": []
          },
          "execution_count": 172
        }
      ]
    },
    {
      "cell_type": "code",
      "metadata": {
        "id": "Etr_sHKnk5oO",
        "outputId": "ec3d0172-b054-44ff-89d4-9271ae8a57ef",
        "colab": {
          "base_uri": "https://localhost:8080/"
        }
      },
      "source": [
        "fc(relu(fc(relu(fc(relu(fc(inputs, *parmas[0])), *parmas[1])), *parmas[2])), *parmas[3]) - logsumexp(fc(relu(fc(relu(fc(relu(fc(inputs, *parmas[0])), *parmas[1])), *parmas[2])), *parmas[3]))"
      ],
      "execution_count": 173,
      "outputs": [
        {
          "output_type": "execute_result",
          "data": {
            "text/plain": [
              "DeviceArray([[-8.6099215e+00, -3.4749905e+01, -1.0197163e-03,\n",
              "              -7.0857897e+00]], dtype=float32)"
            ]
          },
          "metadata": {
            "tags": []
          },
          "execution_count": 173
        }
      ]
    },
    {
      "cell_type": "code",
      "metadata": {
        "id": "kkmvCOoCjuqO",
        "outputId": "cd968b29-0f65-4be4-8a90-46d3f95090e5",
        "colab": {
          "base_uri": "https://localhost:8080/"
        }
      },
      "source": [
        "(fc(relu(fc(relu(fc(relu(fc(inputs, *parmas[0])), *parmas[1])), *parmas[2])), *parmas[3]) - logsumexp(fc(relu(fc(relu(fc(relu(fc(inputs, *parmas[0])), *parmas[1])), *parmas[2])), *parmas[3]))) * y"
      ],
      "execution_count": 174,
      "outputs": [
        {
          "output_type": "execute_result",
          "data": {
            "text/plain": [
              "DeviceArray([[-0.        , -0.        , -0.00101972, -0.        ]], dtype=float32)"
            ]
          },
          "metadata": {
            "tags": []
          },
          "execution_count": 174
        }
      ]
    },
    {
      "cell_type": "code",
      "metadata": {
        "id": "nHmV2SFlleCG",
        "outputId": "07ec64a3-89e9-4d30-fed6-bfb160b09e92",
        "colab": {
          "base_uri": "https://localhost:8080/"
        }
      },
      "source": [
        "-jnp.mean((fc(relu(fc(relu(fc(relu(fc(inputs, *parmas[0])), *parmas[1])), *parmas[2])), *parmas[3]) - logsumexp(fc(relu(fc(relu(fc(relu(fc(inputs, *parmas[0])), *parmas[1])), *parmas[2])), *parmas[3]))) * y)"
      ],
      "execution_count": 175,
      "outputs": [
        {
          "output_type": "execute_result",
          "data": {
            "text/plain": [
              "DeviceArray(0.00025493, dtype=float32)"
            ]
          },
          "metadata": {
            "tags": []
          },
          "execution_count": 175
        }
      ]
    },
    {
      "cell_type": "code",
      "metadata": {
        "colab": {
          "base_uri": "https://localhost:8080/"
        },
        "id": "yhDgpinlQCP_",
        "outputId": "80fad8cc-9b43-41f6-de5e-fa1b5f7681b5"
      },
      "source": [
        "jnp.log(softmax(fc(relu(fc(relu(fc(relu(fc(inputs, *parmas[0])), *parmas[1])), *parmas[2])), *parmas[3])))"
      ],
      "execution_count": 140,
      "outputs": [
        {
          "output_type": "execute_result",
          "data": {
            "text/plain": [
              "DeviceArray([[   0.     ,       -inf, -100.44572,  -77.83852]], dtype=float32)"
            ]
          },
          "metadata": {
            "tags": []
          },
          "execution_count": 140
        }
      ]
    },
    {
      "cell_type": "code",
      "metadata": {
        "id": "OpeneOq2g8g-",
        "outputId": "133d14ad-3eef-4478-b9c5-e6975ffb848a",
        "colab": {
          "base_uri": "https://localhost:8080/"
        }
      },
      "source": [
        "jnp.log(softmax(fc(relu(fc(relu(fc(relu(fc(inputs, *parmas[0])), *parmas[1])), *parmas[2])), *parmas[3]))) * y"
      ],
      "execution_count": 141,
      "outputs": [
        {
          "output_type": "execute_result",
          "data": {
            "text/plain": [
              "DeviceArray([[   0.     ,        nan, -100.44572,   -0.     ]], dtype=float32)"
            ]
          },
          "metadata": {
            "tags": []
          },
          "execution_count": 141
        }
      ]
    },
    {
      "cell_type": "code",
      "metadata": {
        "id": "tHfGUkamhB3r",
        "outputId": "1e4deeec-a302-46c2-bacb-36082331a5f6",
        "colab": {
          "base_uri": "https://localhost:8080/"
        }
      },
      "source": [
        "(jnp.log(softmax(fc(relu(fc(relu(fc(relu(fc(inputs, *parmas[0])), *parmas[1])), *parmas[2])), *parmas[3]))) * y).sum()"
      ],
      "execution_count": 142,
      "outputs": [
        {
          "output_type": "execute_result",
          "data": {
            "text/plain": [
              "DeviceArray(nan, dtype=float32)"
            ]
          },
          "metadata": {
            "tags": []
          },
          "execution_count": 142
        }
      ]
    },
    {
      "cell_type": "code",
      "metadata": {
        "id": "9sCyCf25gaPR",
        "outputId": "3f151dfb-169c-49d1-e494-144d61a08327",
        "colab": {
          "base_uri": "https://localhost:8080/"
        }
      },
      "source": [
        "jnp.log1p(softmax(fc(relu(fc(relu(fc(relu(fc(inputs, *parmas[0])), *parmas[1])), *parmas[2])), *parmas[3]))) * y"
      ],
      "execution_count": 121,
      "outputs": [
        {
          "output_type": "execute_result",
          "data": {
            "text/plain": [
              "DeviceArray([[0.0e+00, 0.0e+00, 2.4e-44, 0.0e+00]], dtype=float32)"
            ]
          },
          "metadata": {
            "tags": []
          },
          "execution_count": 121
        }
      ]
    },
    {
      "cell_type": "code",
      "metadata": {
        "id": "y_yzxZ1WQpvF"
      },
      "source": [
        "a = jax.random.normal(key, (5000, 2000))\n",
        "b = jax.random.normal(key, (2000, 200))"
      ],
      "execution_count": 9,
      "outputs": []
    },
    {
      "cell_type": "code",
      "metadata": {
        "id": "jEistyXcWE8g"
      },
      "source": [
        "def fun(x):\n",
        "    return jnp.dot(x, b)"
      ],
      "execution_count": 10,
      "outputs": []
    },
    {
      "cell_type": "code",
      "metadata": {
        "colab": {
          "base_uri": "https://localhost:8080/"
        },
        "id": "jsSxLBfhWKE_",
        "outputId": "6a0d5535-46c3-4f8b-d34f-a2c8a65e64c1"
      },
      "source": [
        "%%timeit\n",
        "fun(a)"
      ],
      "execution_count": 16,
      "outputs": [
        {
          "output_type": "stream",
          "text": [
            "100 loops, best of 3: 2.74 ms per loop\n"
          ],
          "name": "stdout"
        }
      ]
    },
    {
      "cell_type": "code",
      "metadata": {
        "id": "9WfSGteZWLqo"
      },
      "source": [
        "v_fun = vmap(fun)"
      ],
      "execution_count": 17,
      "outputs": []
    },
    {
      "cell_type": "code",
      "metadata": {
        "colab": {
          "base_uri": "https://localhost:8080/"
        },
        "id": "qsiQSp5fWOoE",
        "outputId": "9f06e321-5517-4faf-ffd2-37cc0fc6a6a0"
      },
      "source": [
        "%%timeit\n",
        "v_fun(a)"
      ],
      "execution_count": 18,
      "outputs": [
        {
          "output_type": "stream",
          "text": [
            "100 loops, best of 3: 2.69 ms per loop\n"
          ],
          "name": "stdout"
        }
      ]
    },
    {
      "cell_type": "code",
      "metadata": {
        "id": "hJe53ineWP2W"
      },
      "source": [
        "a = jnp.array([1,2,3])"
      ],
      "execution_count": 127,
      "outputs": []
    },
    {
      "cell_type": "code",
      "metadata": {
        "id": "RBzgUOkPiNyH",
        "outputId": "78446107-89be-44f1-bb20-c6a1d3fb6cdc",
        "colab": {
          "base_uri": "https://localhost:8080/"
        }
      },
      "source": [
        "a[jnp.where(a<=2)]"
      ],
      "execution_count": 145,
      "outputs": [
        {
          "output_type": "execute_result",
          "data": {
            "text/plain": [
              "DeviceArray([1, 2], dtype=int32)"
            ]
          },
          "metadata": {
            "tags": []
          },
          "execution_count": 145
        }
      ]
    },
    {
      "cell_type": "code",
      "metadata": {
        "id": "0DyNsCB7iPV8"
      },
      "source": [
        ""
      ],
      "execution_count": null,
      "outputs": []
    }
  ]
}