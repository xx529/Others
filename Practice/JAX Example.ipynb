{
  "nbformat": 4,
  "nbformat_minor": 0,
  "metadata": {
    "kernelspec": {
      "display_name": "Python 3",
      "language": "python",
      "name": "python3"
    },
    "language_info": {
      "codemirror_mode": {
        "name": "ipython",
        "version": 3
      },
      "file_extension": ".py",
      "mimetype": "text/x-python",
      "name": "python",
      "nbconvert_exporter": "python",
      "pygments_lexer": "ipython3",
      "version": "3.7.6"
    },
    "colab": {
      "name": "JAX Example.ipynb",
      "provenance": [],
      "toc_visible": true
    },
    "accelerator": "GPU"
  },
  "cells": [
    {
      "cell_type": "code",
      "metadata": {
        "id": "T0KWB8YHa-9_"
      },
      "source": [
        "from sklearn import datasets\n",
        "from sklearn.model_selection import train_test_split\n",
        "from sklearn.metrics import accuracy_score, precision_score, recall_score, roc_auc_score\n",
        "import matplotlib.pyplot as plt\n",
        "import time"
      ],
      "execution_count": 52,
      "outputs": []
    },
    {
      "cell_type": "code",
      "metadata": {
        "id": "spQFes7Ra--K"
      },
      "source": [
        "digits = datasets.load_digits()\n",
        "features = digits['data']\n",
        "target = digits['target'] "
      ],
      "execution_count": 53,
      "outputs": []
    },
    {
      "cell_type": "code",
      "metadata": {
        "colab": {
          "base_uri": "https://localhost:8080/"
        },
        "id": "Lv25fAara--L",
        "outputId": "3f248b7c-0006-43fa-a11e-ba3bb6b77386"
      },
      "source": [
        "train_x, test_x, train_y, test_y = train_test_split(features, target, test_size=0.33)\n",
        "\n",
        "print(train_x.shape)\n",
        "print(train_y.shape)\n",
        "print(test_x.shape)\n",
        "print(test_y.shape)"
      ],
      "execution_count": 54,
      "outputs": [
        {
          "output_type": "stream",
          "text": [
            "(1203, 64)\n",
            "(1203,)\n",
            "(594, 64)\n",
            "(594,)\n"
          ],
          "name": "stdout"
        }
      ]
    },
    {
      "cell_type": "markdown",
      "metadata": {
        "id": "aO3bvbewa--M"
      },
      "source": [
        "# Pytorch"
      ]
    },
    {
      "cell_type": "code",
      "metadata": {
        "id": "Ix1O3vs4a--N"
      },
      "source": [
        "import torch.nn as nn\n",
        "import torch.optim as optim\n",
        "import torch\n",
        "from torch.utils.data import DataLoader, TensorDataset"
      ],
      "execution_count": 4,
      "outputs": []
    },
    {
      "cell_type": "code",
      "metadata": {
        "id": "ycD5DQlqa--N"
      },
      "source": [
        "# 格式转化\n",
        "pytorch_train_x = torch.tensor(train_x, dtype=torch.float32)\n",
        "pytorch_train_y = torch.tensor(train_y, dtype=torch.long)\n",
        "\n",
        "pytorch_test_x = torch.tensor(test_x, dtype=torch.float32)\n",
        "pytorch_test_y = torch.tensor(test_y, dtype=torch.long)\n",
        "\n",
        "# 装进数据容器分批\n",
        "data = TensorDataset(pytorch_train_x, pytorch_train_y)\n",
        "dataset = DataLoader(data, 64)"
      ],
      "execution_count": 5,
      "outputs": []
    },
    {
      "cell_type": "code",
      "metadata": {
        "id": "bmlKIXMua--O"
      },
      "source": [
        "class Model(nn.Module):\n",
        "    def __init__(self):\n",
        "        super(Model, self).__init__()\n",
        "        \n",
        "        self.fc1 = nn.Linear(64, 128)\n",
        "        self.fc2 = nn.Linear(128, 256)\n",
        "        self.fc3 = nn.Linear(256, 512)\n",
        "        self.fc4 = nn.Linear(512, 256)\n",
        "        self.fc5 = nn.Linear(256, 128)\n",
        "        self.fc6 = nn.Linear(128, 64)\n",
        "        self.fc7 = nn.Linear(64, 10)\n",
        "        self.softmax = nn.Softmax(dim=1)\n",
        "        self.relu = nn.ReLU()\n",
        "        \n",
        "    def forward(self, x):\n",
        "        x = self.relu(self.fc1(x))\n",
        "        x = self.relu(self.fc2(x))\n",
        "        x = self.relu(self.fc3(x))\n",
        "        x = self.relu(self.fc4(x))\n",
        "        x = self.relu(self.fc5(x))\n",
        "        x = self.relu(self.fc6(x))\n",
        "        result = self.fc7(x)\n",
        "        return result\n",
        "    \n",
        "    def predict(self, x):\n",
        "        result = self.softmax(self(x)).sort()[1][:,-1]\n",
        "        return result"
      ],
      "execution_count": 6,
      "outputs": []
    },
    {
      "cell_type": "markdown",
      "metadata": {
        "id": "ZKa-kW3FeIXr"
      },
      "source": [
        "### CPU Version"
      ]
    },
    {
      "cell_type": "code",
      "metadata": {
        "id": "QuOm2lZxeLSa"
      },
      "source": [
        "model = Model()\n",
        "optimizer = optim.Adam(model.parameters())\n",
        "loss_fun = nn.CrossEntropyLoss()"
      ],
      "execution_count": 7,
      "outputs": []
    },
    {
      "cell_type": "code",
      "metadata": {
        "colab": {
          "base_uri": "https://localhost:8080/"
        },
        "id": "V1VrOZ_meLhi",
        "outputId": "04372281-409c-4980-f729-2f1255c1defe"
      },
      "source": [
        "%%time\n",
        "# 训练\n",
        "for i in range(100):\n",
        "    loss_record = 0\n",
        "    start_time = time.time()\n",
        "    \n",
        "    for batch, (x, y) in enumerate(dataset):\n",
        "        optimizer.zero_grad()\n",
        "        y_pre = model(x)\n",
        "        \n",
        "        loss = loss_fun(y_pre, y)\n",
        "        loss.backward()\n",
        "        optimizer.step()\n",
        "        \n",
        "        loss_record += loss.item()\n",
        "    \n",
        "    duration = time.time() - start_time\n",
        "    \n",
        "    predict = model.predict(pytorch_test_x).numpy()\n",
        "    acc_score = accuracy_score(predict, pytorch_test_y.numpy())\n",
        "    \n",
        "    print('Epoch: {}, time: {:.3f}s, Loss: {:.3f}, Acc: {:.2f}%'.format(i+1, duration, loss_record/batch, acc_score*100))"
      ],
      "execution_count": 8,
      "outputs": [
        {
          "output_type": "stream",
          "text": [
            "Epoch: 1, time: 0.343s, Loss: 1.835, Acc: 73.40%\n",
            "Epoch: 2, time: 0.114s, Loss: 0.613, Acc: 88.55%\n",
            "Epoch: 3, time: 0.117s, Loss: 0.283, Acc: 91.58%\n",
            "Epoch: 4, time: 0.112s, Loss: 0.172, Acc: 92.26%\n",
            "Epoch: 5, time: 0.113s, Loss: 0.135, Acc: 95.62%\n",
            "Epoch: 6, time: 0.114s, Loss: 0.127, Acc: 97.31%\n",
            "Epoch: 7, time: 0.119s, Loss: 0.084, Acc: 96.80%\n",
            "Epoch: 8, time: 0.109s, Loss: 0.051, Acc: 97.64%\n",
            "Epoch: 9, time: 0.115s, Loss: 0.038, Acc: 96.46%\n",
            "Epoch: 10, time: 0.108s, Loss: 0.032, Acc: 98.15%\n",
            "Epoch: 11, time: 0.117s, Loss: 0.014, Acc: 98.15%\n",
            "Epoch: 12, time: 0.111s, Loss: 0.010, Acc: 97.14%\n",
            "Epoch: 13, time: 0.110s, Loss: 0.021, Acc: 96.97%\n",
            "Epoch: 14, time: 0.111s, Loss: 0.025, Acc: 96.80%\n",
            "Epoch: 15, time: 0.118s, Loss: 0.019, Acc: 97.47%\n",
            "Epoch: 16, time: 0.134s, Loss: 0.017, Acc: 97.98%\n",
            "Epoch: 17, time: 0.111s, Loss: 0.008, Acc: 97.14%\n",
            "Epoch: 18, time: 0.109s, Loss: 0.008, Acc: 96.97%\n",
            "Epoch: 19, time: 0.113s, Loss: 0.006, Acc: 97.81%\n",
            "Epoch: 20, time: 0.107s, Loss: 0.005, Acc: 97.47%\n",
            "Epoch: 21, time: 0.110s, Loss: 0.009, Acc: 98.15%\n",
            "Epoch: 22, time: 0.106s, Loss: 0.016, Acc: 95.79%\n",
            "Epoch: 23, time: 0.116s, Loss: 0.013, Acc: 95.79%\n",
            "Epoch: 24, time: 0.115s, Loss: 0.018, Acc: 95.45%\n",
            "Epoch: 25, time: 0.118s, Loss: 0.018, Acc: 97.14%\n",
            "Epoch: 26, time: 0.108s, Loss: 0.007, Acc: 97.98%\n",
            "Epoch: 27, time: 0.112s, Loss: 0.025, Acc: 94.61%\n",
            "Epoch: 28, time: 0.109s, Loss: 0.041, Acc: 97.31%\n",
            "Epoch: 29, time: 0.109s, Loss: 0.026, Acc: 96.97%\n",
            "Epoch: 30, time: 0.111s, Loss: 0.028, Acc: 97.31%\n",
            "Epoch: 31, time: 0.110s, Loss: 0.013, Acc: 98.15%\n",
            "Epoch: 32, time: 0.137s, Loss: 0.016, Acc: 97.81%\n",
            "Epoch: 33, time: 0.138s, Loss: 0.024, Acc: 96.80%\n",
            "Epoch: 34, time: 0.140s, Loss: 0.010, Acc: 96.97%\n",
            "Epoch: 35, time: 0.158s, Loss: 0.004, Acc: 97.31%\n",
            "Epoch: 36, time: 0.172s, Loss: 0.001, Acc: 97.98%\n",
            "Epoch: 37, time: 0.171s, Loss: 0.009, Acc: 96.80%\n",
            "Epoch: 38, time: 0.165s, Loss: 0.017, Acc: 97.64%\n",
            "Epoch: 39, time: 0.158s, Loss: 0.002, Acc: 97.81%\n",
            "Epoch: 40, time: 0.171s, Loss: 0.001, Acc: 98.65%\n",
            "Epoch: 41, time: 0.176s, Loss: 0.000, Acc: 98.48%\n",
            "Epoch: 42, time: 0.172s, Loss: 0.000, Acc: 98.82%\n",
            "Epoch: 43, time: 0.175s, Loss: 0.000, Acc: 98.82%\n",
            "Epoch: 44, time: 0.171s, Loss: 0.000, Acc: 98.82%\n",
            "Epoch: 45, time: 0.168s, Loss: 0.000, Acc: 98.82%\n",
            "Epoch: 46, time: 0.144s, Loss: 0.000, Acc: 98.82%\n",
            "Epoch: 47, time: 0.144s, Loss: 0.000, Acc: 98.82%\n",
            "Epoch: 48, time: 0.141s, Loss: 0.000, Acc: 98.82%\n",
            "Epoch: 49, time: 0.150s, Loss: 0.000, Acc: 98.82%\n",
            "Epoch: 50, time: 0.140s, Loss: 0.000, Acc: 98.82%\n",
            "Epoch: 51, time: 0.151s, Loss: 0.000, Acc: 98.82%\n",
            "Epoch: 52, time: 0.143s, Loss: 0.000, Acc: 98.82%\n",
            "Epoch: 53, time: 0.152s, Loss: 0.000, Acc: 98.82%\n",
            "Epoch: 54, time: 0.141s, Loss: 0.000, Acc: 98.82%\n",
            "Epoch: 55, time: 0.145s, Loss: 0.000, Acc: 98.82%\n",
            "Epoch: 56, time: 0.144s, Loss: 0.000, Acc: 98.82%\n",
            "Epoch: 57, time: 0.161s, Loss: 0.000, Acc: 98.82%\n",
            "Epoch: 58, time: 0.146s, Loss: 0.000, Acc: 98.82%\n",
            "Epoch: 59, time: 0.151s, Loss: 0.000, Acc: 98.82%\n",
            "Epoch: 60, time: 0.149s, Loss: 0.000, Acc: 98.82%\n",
            "Epoch: 61, time: 0.159s, Loss: 0.000, Acc: 98.82%\n",
            "Epoch: 62, time: 0.165s, Loss: 0.000, Acc: 98.82%\n",
            "Epoch: 63, time: 0.167s, Loss: 0.000, Acc: 98.82%\n",
            "Epoch: 64, time: 0.180s, Loss: 0.000, Acc: 98.82%\n",
            "Epoch: 65, time: 0.185s, Loss: 0.000, Acc: 98.82%\n",
            "Epoch: 66, time: 0.160s, Loss: 0.000, Acc: 98.82%\n",
            "Epoch: 67, time: 0.163s, Loss: 0.000, Acc: 98.82%\n",
            "Epoch: 68, time: 0.162s, Loss: 0.000, Acc: 98.82%\n",
            "Epoch: 69, time: 0.184s, Loss: 0.000, Acc: 98.82%\n",
            "Epoch: 70, time: 0.181s, Loss: 0.000, Acc: 98.82%\n",
            "Epoch: 71, time: 0.181s, Loss: 0.000, Acc: 98.82%\n",
            "Epoch: 72, time: 0.177s, Loss: 0.000, Acc: 98.82%\n",
            "Epoch: 73, time: 0.181s, Loss: 0.000, Acc: 98.82%\n",
            "Epoch: 74, time: 0.171s, Loss: 0.000, Acc: 98.82%\n",
            "Epoch: 75, time: 0.160s, Loss: 0.000, Acc: 98.82%\n",
            "Epoch: 76, time: 0.155s, Loss: 0.000, Acc: 98.82%\n",
            "Epoch: 77, time: 0.159s, Loss: 0.000, Acc: 98.82%\n",
            "Epoch: 78, time: 0.153s, Loss: 0.000, Acc: 98.82%\n",
            "Epoch: 79, time: 0.158s, Loss: 0.000, Acc: 98.82%\n",
            "Epoch: 80, time: 0.181s, Loss: 0.000, Acc: 98.82%\n",
            "Epoch: 81, time: 0.165s, Loss: 0.000, Acc: 98.82%\n",
            "Epoch: 82, time: 0.153s, Loss: 0.000, Acc: 98.82%\n",
            "Epoch: 83, time: 0.156s, Loss: 0.000, Acc: 98.82%\n",
            "Epoch: 84, time: 0.153s, Loss: 0.000, Acc: 98.82%\n",
            "Epoch: 85, time: 0.158s, Loss: 0.000, Acc: 98.82%\n",
            "Epoch: 86, time: 0.164s, Loss: 0.000, Acc: 98.82%\n",
            "Epoch: 87, time: 0.178s, Loss: 0.000, Acc: 98.82%\n",
            "Epoch: 88, time: 0.181s, Loss: 0.000, Acc: 98.82%\n",
            "Epoch: 89, time: 0.176s, Loss: 0.000, Acc: 98.82%\n",
            "Epoch: 90, time: 0.175s, Loss: 0.000, Acc: 98.82%\n",
            "Epoch: 91, time: 0.186s, Loss: 0.000, Acc: 98.82%\n",
            "Epoch: 92, time: 0.166s, Loss: 0.000, Acc: 98.82%\n",
            "Epoch: 93, time: 0.179s, Loss: 0.000, Acc: 98.82%\n",
            "Epoch: 94, time: 0.174s, Loss: 0.000, Acc: 98.82%\n",
            "Epoch: 95, time: 0.178s, Loss: 0.000, Acc: 98.82%\n",
            "Epoch: 96, time: 0.170s, Loss: 0.000, Acc: 98.82%\n",
            "Epoch: 97, time: 0.157s, Loss: 0.000, Acc: 98.82%\n",
            "Epoch: 98, time: 0.173s, Loss: 0.000, Acc: 98.82%\n",
            "Epoch: 99, time: 0.179s, Loss: 0.000, Acc: 98.82%\n",
            "Epoch: 100, time: 0.175s, Loss: 0.000, Acc: 98.82%\n",
            "CPU times: user 15.4 s, sys: 219 ms, total: 15.6 s\n",
            "Wall time: 15.8 s\n"
          ],
          "name": "stdout"
        }
      ]
    },
    {
      "cell_type": "markdown",
      "metadata": {
        "id": "kUnwOjaJeCqq"
      },
      "source": [
        "### GPU Version"
      ]
    },
    {
      "cell_type": "code",
      "metadata": {
        "scrolled": false,
        "colab": {
          "base_uri": "https://localhost:8080/"
        },
        "id": "22Wx7Smea--O",
        "outputId": "57efcf12-d7ae-4f67-f974-1b474ada5c70"
      },
      "source": [
        "device = torch.device(\"cuda:0\" if torch.cuda.is_available() else \"cpu\")\n",
        "pytorch_test_x, pytorch_test_y = pytorch_test_x.to(device), pytorch_test_y.to(device)\n",
        "model = Model().to(device)\n",
        "optimizer = optim.Adam(model.parameters())\n",
        "loss_fun = nn.CrossEntropyLoss()\n",
        "loss_fun.to(device)"
      ],
      "execution_count": 9,
      "outputs": [
        {
          "output_type": "execute_result",
          "data": {
            "text/plain": [
              "CrossEntropyLoss()"
            ]
          },
          "metadata": {
            "tags": []
          },
          "execution_count": 9
        }
      ]
    },
    {
      "cell_type": "code",
      "metadata": {
        "colab": {
          "base_uri": "https://localhost:8080/"
        },
        "id": "kaOMDBFNa--Q",
        "outputId": "d7b51663-d809-43e6-97b6-d0915fb8405c"
      },
      "source": [
        "%%time\n",
        "# 训练\n",
        "for i in range(100):\n",
        "    loss_record = 0\n",
        "    start_time = time.time()\n",
        "    \n",
        "    for batch, (x, y) in enumerate(dataset):\n",
        "        optimizer.zero_grad()\n",
        "\n",
        "        x, y = x.to(device), y.to(device)\n",
        "        y_pre = model(x)\n",
        "        \n",
        "        loss = loss_fun(y_pre, y)\n",
        "        loss.backward()\n",
        "        optimizer.step()\n",
        "        \n",
        "        loss_record += loss.cpu().item()\n",
        "    \n",
        "    duration = time.time() - start_time\n",
        "    \n",
        "    predict = model.predict(pytorch_test_x).cpu().numpy()\n",
        "    acc_score = accuracy_score(predict, pytorch_test_y.cpu().numpy())\n",
        "    \n",
        "    print('Epoch: {}, time: {:.3f}s, Loss: {:.3f}, Acc: {:.2f}%'.format(i+1, duration, loss_record/batch, acc_score*100))"
      ],
      "execution_count": 10,
      "outputs": [
        {
          "output_type": "stream",
          "text": [
            "Epoch: 1, time: 0.134s, Loss: 1.762, Acc: 79.63%\n",
            "Epoch: 2, time: 0.069s, Loss: 0.531, Acc: 89.90%\n",
            "Epoch: 3, time: 0.067s, Loss: 0.287, Acc: 92.59%\n",
            "Epoch: 4, time: 0.070s, Loss: 0.132, Acc: 95.79%\n",
            "Epoch: 5, time: 0.072s, Loss: 0.076, Acc: 95.12%\n",
            "Epoch: 6, time: 0.068s, Loss: 0.066, Acc: 96.80%\n",
            "Epoch: 7, time: 0.070s, Loss: 0.078, Acc: 94.61%\n",
            "Epoch: 8, time: 0.068s, Loss: 0.073, Acc: 94.78%\n",
            "Epoch: 9, time: 0.068s, Loss: 0.083, Acc: 93.43%\n",
            "Epoch: 10, time: 0.070s, Loss: 0.051, Acc: 96.30%\n",
            "Epoch: 11, time: 0.081s, Loss: 0.015, Acc: 96.97%\n",
            "Epoch: 12, time: 0.071s, Loss: 0.019, Acc: 96.63%\n",
            "Epoch: 13, time: 0.070s, Loss: 0.021, Acc: 93.94%\n",
            "Epoch: 14, time: 0.079s, Loss: 0.029, Acc: 96.97%\n",
            "Epoch: 15, time: 0.090s, Loss: 0.016, Acc: 97.14%\n",
            "Epoch: 16, time: 0.073s, Loss: 0.017, Acc: 96.46%\n",
            "Epoch: 17, time: 0.077s, Loss: 0.011, Acc: 96.13%\n",
            "Epoch: 18, time: 0.096s, Loss: 0.012, Acc: 96.80%\n",
            "Epoch: 19, time: 0.096s, Loss: 0.023, Acc: 95.79%\n",
            "Epoch: 20, time: 0.091s, Loss: 0.012, Acc: 96.63%\n",
            "Epoch: 21, time: 0.090s, Loss: 0.015, Acc: 96.63%\n",
            "Epoch: 22, time: 0.096s, Loss: 0.036, Acc: 96.97%\n",
            "Epoch: 23, time: 0.091s, Loss: 0.057, Acc: 95.12%\n",
            "Epoch: 24, time: 0.091s, Loss: 0.024, Acc: 97.14%\n",
            "Epoch: 25, time: 0.094s, Loss: 0.012, Acc: 97.47%\n",
            "Epoch: 26, time: 0.093s, Loss: 0.002, Acc: 97.31%\n",
            "Epoch: 27, time: 0.069s, Loss: 0.001, Acc: 97.98%\n",
            "Epoch: 28, time: 0.090s, Loss: 0.000, Acc: 97.81%\n",
            "Epoch: 29, time: 0.096s, Loss: 0.000, Acc: 97.98%\n",
            "Epoch: 30, time: 0.100s, Loss: 0.000, Acc: 97.98%\n",
            "Epoch: 31, time: 0.098s, Loss: 0.000, Acc: 97.98%\n",
            "Epoch: 32, time: 0.090s, Loss: 0.000, Acc: 97.98%\n",
            "Epoch: 33, time: 0.091s, Loss: 0.000, Acc: 97.98%\n",
            "Epoch: 34, time: 0.096s, Loss: 0.000, Acc: 97.81%\n",
            "Epoch: 35, time: 0.069s, Loss: 0.000, Acc: 97.64%\n",
            "Epoch: 36, time: 0.067s, Loss: 0.000, Acc: 97.81%\n",
            "Epoch: 37, time: 0.070s, Loss: 0.000, Acc: 97.81%\n",
            "Epoch: 38, time: 0.067s, Loss: 0.000, Acc: 97.81%\n",
            "Epoch: 39, time: 0.071s, Loss: 0.000, Acc: 97.81%\n",
            "Epoch: 40, time: 0.070s, Loss: 0.000, Acc: 97.81%\n",
            "Epoch: 41, time: 0.072s, Loss: 0.000, Acc: 97.81%\n",
            "Epoch: 42, time: 0.067s, Loss: 0.000, Acc: 97.81%\n",
            "Epoch: 43, time: 0.073s, Loss: 0.000, Acc: 97.81%\n",
            "Epoch: 44, time: 0.071s, Loss: 0.000, Acc: 97.98%\n",
            "Epoch: 45, time: 0.073s, Loss: 0.000, Acc: 97.98%\n",
            "Epoch: 46, time: 0.070s, Loss: 0.000, Acc: 97.98%\n",
            "Epoch: 47, time: 0.067s, Loss: 0.000, Acc: 97.98%\n",
            "Epoch: 48, time: 0.071s, Loss: 0.000, Acc: 97.98%\n",
            "Epoch: 49, time: 0.076s, Loss: 0.000, Acc: 97.98%\n",
            "Epoch: 50, time: 0.071s, Loss: 0.000, Acc: 97.98%\n",
            "Epoch: 51, time: 0.068s, Loss: 0.000, Acc: 97.98%\n",
            "Epoch: 52, time: 0.070s, Loss: 0.000, Acc: 97.98%\n",
            "Epoch: 53, time: 0.078s, Loss: 0.000, Acc: 97.98%\n",
            "Epoch: 54, time: 0.069s, Loss: 0.000, Acc: 97.98%\n",
            "Epoch: 55, time: 0.074s, Loss: 0.000, Acc: 97.98%\n",
            "Epoch: 56, time: 0.068s, Loss: 0.000, Acc: 97.98%\n",
            "Epoch: 57, time: 0.067s, Loss: 0.000, Acc: 97.98%\n",
            "Epoch: 58, time: 0.072s, Loss: 0.000, Acc: 97.98%\n",
            "Epoch: 59, time: 0.072s, Loss: 0.000, Acc: 97.98%\n",
            "Epoch: 60, time: 0.068s, Loss: 0.000, Acc: 97.98%\n",
            "Epoch: 61, time: 0.070s, Loss: 0.000, Acc: 97.98%\n",
            "Epoch: 62, time: 0.068s, Loss: 0.000, Acc: 97.98%\n",
            "Epoch: 63, time: 0.073s, Loss: 0.000, Acc: 97.98%\n",
            "Epoch: 64, time: 0.071s, Loss: 0.000, Acc: 97.98%\n",
            "Epoch: 65, time: 0.068s, Loss: 0.000, Acc: 97.98%\n",
            "Epoch: 66, time: 0.071s, Loss: 0.000, Acc: 97.98%\n",
            "Epoch: 67, time: 0.093s, Loss: 0.000, Acc: 97.98%\n",
            "Epoch: 68, time: 0.094s, Loss: 0.000, Acc: 97.98%\n",
            "Epoch: 69, time: 0.096s, Loss: 0.000, Acc: 97.98%\n",
            "Epoch: 70, time: 0.093s, Loss: 0.000, Acc: 97.98%\n",
            "Epoch: 71, time: 0.094s, Loss: 0.000, Acc: 97.98%\n",
            "Epoch: 72, time: 0.091s, Loss: 0.000, Acc: 97.98%\n",
            "Epoch: 73, time: 0.093s, Loss: 0.000, Acc: 97.98%\n",
            "Epoch: 74, time: 0.094s, Loss: 0.000, Acc: 97.98%\n",
            "Epoch: 75, time: 0.086s, Loss: 0.000, Acc: 97.98%\n",
            "Epoch: 76, time: 0.071s, Loss: 0.000, Acc: 97.98%\n",
            "Epoch: 77, time: 0.080s, Loss: 0.000, Acc: 97.98%\n",
            "Epoch: 78, time: 0.091s, Loss: 0.000, Acc: 97.98%\n",
            "Epoch: 79, time: 0.094s, Loss: 0.000, Acc: 97.98%\n",
            "Epoch: 80, time: 0.095s, Loss: 0.000, Acc: 97.98%\n",
            "Epoch: 81, time: 0.069s, Loss: 0.000, Acc: 97.98%\n",
            "Epoch: 82, time: 0.071s, Loss: 0.000, Acc: 97.98%\n",
            "Epoch: 83, time: 0.068s, Loss: 0.000, Acc: 97.98%\n",
            "Epoch: 84, time: 0.068s, Loss: 0.000, Acc: 97.98%\n",
            "Epoch: 85, time: 0.070s, Loss: 0.000, Acc: 97.98%\n",
            "Epoch: 86, time: 0.067s, Loss: 0.000, Acc: 97.98%\n",
            "Epoch: 87, time: 0.071s, Loss: 0.000, Acc: 97.98%\n",
            "Epoch: 88, time: 0.071s, Loss: 0.000, Acc: 97.98%\n",
            "Epoch: 89, time: 0.067s, Loss: 0.000, Acc: 97.98%\n",
            "Epoch: 90, time: 0.068s, Loss: 0.000, Acc: 97.98%\n",
            "Epoch: 91, time: 0.074s, Loss: 0.000, Acc: 97.98%\n",
            "Epoch: 92, time: 0.069s, Loss: 0.000, Acc: 97.98%\n",
            "Epoch: 93, time: 0.068s, Loss: 0.000, Acc: 97.98%\n",
            "Epoch: 94, time: 0.075s, Loss: 0.000, Acc: 97.98%\n",
            "Epoch: 95, time: 0.068s, Loss: 0.000, Acc: 97.98%\n",
            "Epoch: 96, time: 0.071s, Loss: 0.000, Acc: 97.98%\n",
            "Epoch: 97, time: 0.071s, Loss: 0.000, Acc: 97.98%\n",
            "Epoch: 98, time: 0.067s, Loss: 0.000, Acc: 97.98%\n",
            "Epoch: 99, time: 0.068s, Loss: 0.000, Acc: 97.98%\n",
            "Epoch: 100, time: 0.073s, Loss: 0.000, Acc: 97.98%\n",
            "CPU times: user 7.67 s, sys: 102 ms, total: 7.77 s\n",
            "Wall time: 7.91 s\n"
          ],
          "name": "stdout"
        }
      ]
    },
    {
      "cell_type": "markdown",
      "metadata": {
        "id": "pOUugjsmbyGG"
      },
      "source": [
        "# JAX"
      ]
    },
    {
      "cell_type": "code",
      "metadata": {
        "id": "cT_qssRzQb7l"
      },
      "source": [
        "import jax.numpy as jnp\n",
        "from jax import jit, vmap, grad\n",
        "import jax.nn as jnn\n",
        "import jax"
      ],
      "execution_count": 55,
      "outputs": []
    },
    {
      "cell_type": "code",
      "metadata": {
        "id": "Fab1xkOoQdZt"
      },
      "source": [
        "jax_train_x = jnp.array(train_x)\n",
        "jax_train_y = jnp.array(train_y)\n",
        "jax_test_x = jnp.array(test_x)\n",
        "jax_test_y = jnp.array(test_y)"
      ],
      "execution_count": 56,
      "outputs": []
    },
    {
      "cell_type": "code",
      "metadata": {
        "id": "AhepKtdlbtdn"
      },
      "source": [
        "parmas = []\n",
        "layer_dim = [(64, 128), (128, 256), (256,512), (512, 256), (256,128), (128,64), (64,10)]\n",
        "\n",
        "key = jax.random.PRNGKey(0)\n",
        "for n_dim in layer_dim:\n",
        "    w = jax.random.normal(key, n_dim)\n",
        "    b = jax.random.normal(key, (n_dim[1],))\n",
        "    parmas.append((w, b))"
      ],
      "execution_count": 57,
      "outputs": []
    },
    {
      "cell_type": "code",
      "metadata": {
        "id": "SyO6gFTERaHV"
      },
      "source": [
        "def fc(inputs, w, b):\n",
        "    return jnp.dot(inputs, w) + b\n",
        "\n",
        "def relu(inputs):\n",
        "    return  jnn.relu(inputs)\n",
        "\n",
        "def softmax(inputs):\n",
        "    return jnn.softmax(inputs)"
      ],
      "execution_count": 58,
      "outputs": []
    },
    {
      "cell_type": "code",
      "metadata": {
        "id": "IO-M3pVRVHxr"
      },
      "source": [
        "def forward(inputs, parmas):\n",
        "    for w, b in parmas[:-1]:\n",
        "        outputs = fc(inputs, w, b)\n",
        "        inputs = relu(outputs)\n",
        "\n",
        "    outputs = fc(inputs, *parmas[-1])\n",
        "    print(outputs)\n",
        "    return softmax(outputs)\n",
        "\n",
        "def loss_fun(inputs, parmas, y_true):\n",
        "    predict = forward(inputs, parmas)\n",
        "    loss = 0\n",
        "    "
      ],
      "execution_count": 59,
      "outputs": []
    },
    {
      "cell_type": "code",
      "metadata": {
        "id": "6Nezc50NR4l0",
        "outputId": "0dc0d89e-e264-4f7d-9289-bb3bf47ca7ca",
        "colab": {
          "base_uri": "https://localhost:8080/"
        }
      },
      "source": [
        "forward(jax_train_x, parmas)\n"
      ],
      "execution_count": 60,
      "outputs": [
        {
          "output_type": "stream",
          "text": [
            "[[ 18299402.   11612244.   64158572.  ...  63114424.   68643300.\n",
            "   69464150. ]\n",
            " [  4791324.5  -3933510.2  37864896.  ...  90993280.    7219997.\n",
            "   97485864. ]\n",
            " [  5585072.5 -24875628.   30063766.  ...  97542840.   28007184.\n",
            "   68372136. ]\n",
            " ...\n",
            " [ -6783452.   -2441635.5  31333124.  ...  72401720.   12425652.\n",
            "   51606348. ]\n",
            " [ -2725298.8  -2413720.   30491758.  ...  69018750.    9904747.\n",
            "   45476790. ]\n",
            " [  3785421.8 -11131049.   47464400.  ...  84051120.    5277652.5\n",
            "   74055544. ]]\n"
          ],
          "name": "stdout"
        },
        {
          "output_type": "execute_result",
          "data": {
            "text/plain": [
              "DeviceArray([[0., 0., 0., ..., 0., 0., 0.],\n",
              "             [0., 0., 0., ..., 0., 0., 1.],\n",
              "             [0., 0., 0., ..., 1., 0., 0.],\n",
              "             ...,\n",
              "             [0., 0., 0., ..., 1., 0., 0.],\n",
              "             [0., 0., 0., ..., 1., 0., 0.],\n",
              "             [0., 0., 0., ..., 1., 0., 0.]], dtype=float32)"
            ]
          },
          "metadata": {
            "tags": []
          },
          "execution_count": 60
        }
      ]
    },
    {
      "cell_type": "code",
      "metadata": {
        "id": "1Mh5D8JHSDC1",
        "outputId": "e5b1f957-98b9-4848-9e3d-f0faabc1dbbe",
        "colab": {
          "base_uri": "https://localhost:8080/",
          "height": 312
        }
      },
      "source": [
        "grad(relu)"
      ],
      "execution_count": 40,
      "outputs": [
        {
          "output_type": "error",
          "ename": "TypeError",
          "evalue": "ignored",
          "traceback": [
            "\u001b[0;31m---------------------------------------------------------------------------\u001b[0m",
            "\u001b[0;31mTypeError\u001b[0m                                 Traceback (most recent call last)",
            "\u001b[0;32m<ipython-input-40-f213dc5fc69e>\u001b[0m in \u001b[0;36m<module>\u001b[0;34m()\u001b[0m\n\u001b[0;32m----> 1\u001b[0;31m \u001b[0mgrad\u001b[0m\u001b[0;34m(\u001b[0m\u001b[0mrelu\u001b[0m\u001b[0;34m)\u001b[0m\u001b[0;34m(\u001b[0m\u001b[0mtemp\u001b[0m\u001b[0;34m)\u001b[0m\u001b[0;34m\u001b[0m\u001b[0;34m\u001b[0m\u001b[0m\n\u001b[0m",
            "\u001b[0;32m/usr/local/lib/python3.6/dist-packages/jax/api.py\u001b[0m in \u001b[0;36mgrad_f\u001b[0;34m(*args, **kwargs)\u001b[0m\n\u001b[1;32m    704\u001b[0m   \u001b[0;34m@\u001b[0m\u001b[0mapi_boundary\u001b[0m\u001b[0;34m\u001b[0m\u001b[0;34m\u001b[0m\u001b[0m\n\u001b[1;32m    705\u001b[0m   \u001b[0;32mdef\u001b[0m \u001b[0mgrad_f\u001b[0m\u001b[0;34m(\u001b[0m\u001b[0;34m*\u001b[0m\u001b[0margs\u001b[0m\u001b[0;34m,\u001b[0m \u001b[0;34m**\u001b[0m\u001b[0mkwargs\u001b[0m\u001b[0;34m)\u001b[0m\u001b[0;34m:\u001b[0m\u001b[0;34m\u001b[0m\u001b[0;34m\u001b[0m\u001b[0m\n\u001b[0;32m--> 706\u001b[0;31m     \u001b[0m_\u001b[0m\u001b[0;34m,\u001b[0m \u001b[0mg\u001b[0m \u001b[0;34m=\u001b[0m \u001b[0mvalue_and_grad_f\u001b[0m\u001b[0;34m(\u001b[0m\u001b[0;34m*\u001b[0m\u001b[0margs\u001b[0m\u001b[0;34m,\u001b[0m \u001b[0;34m**\u001b[0m\u001b[0mkwargs\u001b[0m\u001b[0;34m)\u001b[0m\u001b[0;34m\u001b[0m\u001b[0;34m\u001b[0m\u001b[0m\n\u001b[0m\u001b[1;32m    707\u001b[0m     \u001b[0;32mreturn\u001b[0m \u001b[0mg\u001b[0m\u001b[0;34m\u001b[0m\u001b[0;34m\u001b[0m\u001b[0m\n\u001b[1;32m    708\u001b[0m \u001b[0;34m\u001b[0m\u001b[0m\n",
            "\u001b[0;32m/usr/local/lib/python3.6/dist-packages/jax/api.py\u001b[0m in \u001b[0;36mvalue_and_grad_f\u001b[0;34m(*args, **kwargs)\u001b[0m\n\u001b[1;32m    770\u001b[0m     \u001b[0;32melse\u001b[0m\u001b[0;34m:\u001b[0m\u001b[0;34m\u001b[0m\u001b[0;34m\u001b[0m\u001b[0m\n\u001b[1;32m    771\u001b[0m       \u001b[0mans\u001b[0m\u001b[0;34m,\u001b[0m \u001b[0mvjp_py\u001b[0m\u001b[0;34m,\u001b[0m \u001b[0maux\u001b[0m \u001b[0;34m=\u001b[0m \u001b[0m_vjp\u001b[0m\u001b[0;34m(\u001b[0m\u001b[0mf_partial\u001b[0m\u001b[0;34m,\u001b[0m \u001b[0;34m*\u001b[0m\u001b[0mdyn_args\u001b[0m\u001b[0;34m,\u001b[0m \u001b[0mhas_aux\u001b[0m\u001b[0;34m=\u001b[0m\u001b[0;32mTrue\u001b[0m\u001b[0;34m)\u001b[0m\u001b[0;34m\u001b[0m\u001b[0;34m\u001b[0m\u001b[0m\n\u001b[0;32m--> 772\u001b[0;31m     \u001b[0m_check_scalar\u001b[0m\u001b[0;34m(\u001b[0m\u001b[0mans\u001b[0m\u001b[0;34m)\u001b[0m\u001b[0;34m\u001b[0m\u001b[0;34m\u001b[0m\u001b[0m\n\u001b[0m\u001b[1;32m    773\u001b[0m     \u001b[0mdtype\u001b[0m \u001b[0;34m=\u001b[0m \u001b[0mdtypes\u001b[0m\u001b[0;34m.\u001b[0m\u001b[0mresult_type\u001b[0m\u001b[0;34m(\u001b[0m\u001b[0mans\u001b[0m\u001b[0;34m)\u001b[0m\u001b[0;34m\u001b[0m\u001b[0;34m\u001b[0m\u001b[0m\n\u001b[1;32m    774\u001b[0m     \u001b[0mtree_map\u001b[0m\u001b[0;34m(\u001b[0m\u001b[0mpartial\u001b[0m\u001b[0;34m(\u001b[0m\u001b[0m_check_output_dtype_grad\u001b[0m\u001b[0;34m,\u001b[0m \u001b[0mholomorphic\u001b[0m\u001b[0;34m)\u001b[0m\u001b[0;34m,\u001b[0m \u001b[0mans\u001b[0m\u001b[0;34m)\u001b[0m\u001b[0;34m\u001b[0m\u001b[0;34m\u001b[0m\u001b[0m\n",
            "\u001b[0;32m/usr/local/lib/python3.6/dist-packages/jax/api.py\u001b[0m in \u001b[0;36m_check_scalar\u001b[0;34m(x)\u001b[0m\n\u001b[1;32m    791\u001b[0m     \u001b[0;32mif\u001b[0m \u001b[0misinstance\u001b[0m\u001b[0;34m(\u001b[0m\u001b[0maval\u001b[0m\u001b[0;34m,\u001b[0m \u001b[0mShapedArray\u001b[0m\u001b[0;34m)\u001b[0m\u001b[0;34m:\u001b[0m\u001b[0;34m\u001b[0m\u001b[0;34m\u001b[0m\u001b[0m\n\u001b[1;32m    792\u001b[0m       \u001b[0;32mif\u001b[0m \u001b[0maval\u001b[0m\u001b[0;34m.\u001b[0m\u001b[0mshape\u001b[0m \u001b[0;34m!=\u001b[0m \u001b[0;34m(\u001b[0m\u001b[0;34m)\u001b[0m\u001b[0;34m:\u001b[0m\u001b[0;34m\u001b[0m\u001b[0;34m\u001b[0m\u001b[0m\n\u001b[0;32m--> 793\u001b[0;31m         \u001b[0;32mraise\u001b[0m \u001b[0mTypeError\u001b[0m\u001b[0;34m(\u001b[0m\u001b[0mmsg\u001b[0m\u001b[0;34m(\u001b[0m\u001b[0;34m\"had shape: {}\"\u001b[0m\u001b[0;34m.\u001b[0m\u001b[0mformat\u001b[0m\u001b[0;34m(\u001b[0m\u001b[0maval\u001b[0m\u001b[0;34m.\u001b[0m\u001b[0mshape\u001b[0m\u001b[0;34m)\u001b[0m\u001b[0;34m)\u001b[0m\u001b[0;34m)\u001b[0m\u001b[0;34m\u001b[0m\u001b[0;34m\u001b[0m\u001b[0m\n\u001b[0m\u001b[1;32m    794\u001b[0m     \u001b[0;32melse\u001b[0m\u001b[0;34m:\u001b[0m\u001b[0;34m\u001b[0m\u001b[0;34m\u001b[0m\u001b[0m\n\u001b[1;32m    795\u001b[0m       \u001b[0;32mraise\u001b[0m \u001b[0mTypeError\u001b[0m\u001b[0;34m(\u001b[0m\u001b[0mmsg\u001b[0m\u001b[0;34m(\u001b[0m\u001b[0;34m\"had abstract value {}\"\u001b[0m\u001b[0;34m.\u001b[0m\u001b[0mformat\u001b[0m\u001b[0;34m(\u001b[0m\u001b[0maval\u001b[0m\u001b[0;34m)\u001b[0m\u001b[0;34m)\u001b[0m\u001b[0;34m)\u001b[0m\u001b[0;34m\u001b[0m\u001b[0;34m\u001b[0m\u001b[0m\n",
            "\u001b[0;31mTypeError\u001b[0m: Gradient only defined for scalar-output functions. Output had shape: (6,)."
          ]
        }
      ]
    },
    {
      "cell_type": "code",
      "metadata": {
        "id": "bv4Y-WkcSudJ",
        "outputId": "9a48de08-f553-4efb-ce85-f9addae3f3e6",
        "colab": {
          "base_uri": "https://localhost:8080/",
          "height": 312
        }
      },
      "source": [
        "grad(jnn.relu)(temp)"
      ],
      "execution_count": 43,
      "outputs": [
        {
          "output_type": "error",
          "ename": "TypeError",
          "evalue": "ignored",
          "traceback": [
            "\u001b[0;31m---------------------------------------------------------------------------\u001b[0m",
            "\u001b[0;31mTypeError\u001b[0m                                 Traceback (most recent call last)",
            "\u001b[0;32m<ipython-input-43-1e6a62e365fe>\u001b[0m in \u001b[0;36m<module>\u001b[0;34m()\u001b[0m\n\u001b[0;32m----> 1\u001b[0;31m \u001b[0mgrad\u001b[0m\u001b[0;34m(\u001b[0m\u001b[0mjnn\u001b[0m\u001b[0;34m.\u001b[0m\u001b[0mrelu\u001b[0m\u001b[0;34m)\u001b[0m\u001b[0;34m(\u001b[0m\u001b[0mtemp\u001b[0m\u001b[0;34m)\u001b[0m\u001b[0;34m\u001b[0m\u001b[0;34m\u001b[0m\u001b[0m\n\u001b[0m",
            "\u001b[0;32m/usr/local/lib/python3.6/dist-packages/jax/api.py\u001b[0m in \u001b[0;36mgrad_f\u001b[0;34m(*args, **kwargs)\u001b[0m\n\u001b[1;32m    704\u001b[0m   \u001b[0;34m@\u001b[0m\u001b[0mapi_boundary\u001b[0m\u001b[0;34m\u001b[0m\u001b[0;34m\u001b[0m\u001b[0m\n\u001b[1;32m    705\u001b[0m   \u001b[0;32mdef\u001b[0m \u001b[0mgrad_f\u001b[0m\u001b[0;34m(\u001b[0m\u001b[0;34m*\u001b[0m\u001b[0margs\u001b[0m\u001b[0;34m,\u001b[0m \u001b[0;34m**\u001b[0m\u001b[0mkwargs\u001b[0m\u001b[0;34m)\u001b[0m\u001b[0;34m:\u001b[0m\u001b[0;34m\u001b[0m\u001b[0;34m\u001b[0m\u001b[0m\n\u001b[0;32m--> 706\u001b[0;31m     \u001b[0m_\u001b[0m\u001b[0;34m,\u001b[0m \u001b[0mg\u001b[0m \u001b[0;34m=\u001b[0m \u001b[0mvalue_and_grad_f\u001b[0m\u001b[0;34m(\u001b[0m\u001b[0;34m*\u001b[0m\u001b[0margs\u001b[0m\u001b[0;34m,\u001b[0m \u001b[0;34m**\u001b[0m\u001b[0mkwargs\u001b[0m\u001b[0;34m)\u001b[0m\u001b[0;34m\u001b[0m\u001b[0;34m\u001b[0m\u001b[0m\n\u001b[0m\u001b[1;32m    707\u001b[0m     \u001b[0;32mreturn\u001b[0m \u001b[0mg\u001b[0m\u001b[0;34m\u001b[0m\u001b[0;34m\u001b[0m\u001b[0m\n\u001b[1;32m    708\u001b[0m \u001b[0;34m\u001b[0m\u001b[0m\n",
            "\u001b[0;32m/usr/local/lib/python3.6/dist-packages/jax/api.py\u001b[0m in \u001b[0;36mvalue_and_grad_f\u001b[0;34m(*args, **kwargs)\u001b[0m\n\u001b[1;32m    770\u001b[0m     \u001b[0;32melse\u001b[0m\u001b[0;34m:\u001b[0m\u001b[0;34m\u001b[0m\u001b[0;34m\u001b[0m\u001b[0m\n\u001b[1;32m    771\u001b[0m       \u001b[0mans\u001b[0m\u001b[0;34m,\u001b[0m \u001b[0mvjp_py\u001b[0m\u001b[0;34m,\u001b[0m \u001b[0maux\u001b[0m \u001b[0;34m=\u001b[0m \u001b[0m_vjp\u001b[0m\u001b[0;34m(\u001b[0m\u001b[0mf_partial\u001b[0m\u001b[0;34m,\u001b[0m \u001b[0;34m*\u001b[0m\u001b[0mdyn_args\u001b[0m\u001b[0;34m,\u001b[0m \u001b[0mhas_aux\u001b[0m\u001b[0;34m=\u001b[0m\u001b[0;32mTrue\u001b[0m\u001b[0;34m)\u001b[0m\u001b[0;34m\u001b[0m\u001b[0;34m\u001b[0m\u001b[0m\n\u001b[0;32m--> 772\u001b[0;31m     \u001b[0m_check_scalar\u001b[0m\u001b[0;34m(\u001b[0m\u001b[0mans\u001b[0m\u001b[0;34m)\u001b[0m\u001b[0;34m\u001b[0m\u001b[0;34m\u001b[0m\u001b[0m\n\u001b[0m\u001b[1;32m    773\u001b[0m     \u001b[0mdtype\u001b[0m \u001b[0;34m=\u001b[0m \u001b[0mdtypes\u001b[0m\u001b[0;34m.\u001b[0m\u001b[0mresult_type\u001b[0m\u001b[0;34m(\u001b[0m\u001b[0mans\u001b[0m\u001b[0;34m)\u001b[0m\u001b[0;34m\u001b[0m\u001b[0;34m\u001b[0m\u001b[0m\n\u001b[1;32m    774\u001b[0m     \u001b[0mtree_map\u001b[0m\u001b[0;34m(\u001b[0m\u001b[0mpartial\u001b[0m\u001b[0;34m(\u001b[0m\u001b[0m_check_output_dtype_grad\u001b[0m\u001b[0;34m,\u001b[0m \u001b[0mholomorphic\u001b[0m\u001b[0;34m)\u001b[0m\u001b[0;34m,\u001b[0m \u001b[0mans\u001b[0m\u001b[0;34m)\u001b[0m\u001b[0;34m\u001b[0m\u001b[0;34m\u001b[0m\u001b[0m\n",
            "\u001b[0;32m/usr/local/lib/python3.6/dist-packages/jax/api.py\u001b[0m in \u001b[0;36m_check_scalar\u001b[0;34m(x)\u001b[0m\n\u001b[1;32m    791\u001b[0m     \u001b[0;32mif\u001b[0m \u001b[0misinstance\u001b[0m\u001b[0;34m(\u001b[0m\u001b[0maval\u001b[0m\u001b[0;34m,\u001b[0m \u001b[0mShapedArray\u001b[0m\u001b[0;34m)\u001b[0m\u001b[0;34m:\u001b[0m\u001b[0;34m\u001b[0m\u001b[0;34m\u001b[0m\u001b[0m\n\u001b[1;32m    792\u001b[0m       \u001b[0;32mif\u001b[0m \u001b[0maval\u001b[0m\u001b[0;34m.\u001b[0m\u001b[0mshape\u001b[0m \u001b[0;34m!=\u001b[0m \u001b[0;34m(\u001b[0m\u001b[0;34m)\u001b[0m\u001b[0;34m:\u001b[0m\u001b[0;34m\u001b[0m\u001b[0;34m\u001b[0m\u001b[0m\n\u001b[0;32m--> 793\u001b[0;31m         \u001b[0;32mraise\u001b[0m \u001b[0mTypeError\u001b[0m\u001b[0;34m(\u001b[0m\u001b[0mmsg\u001b[0m\u001b[0;34m(\u001b[0m\u001b[0;34m\"had shape: {}\"\u001b[0m\u001b[0;34m.\u001b[0m\u001b[0mformat\u001b[0m\u001b[0;34m(\u001b[0m\u001b[0maval\u001b[0m\u001b[0;34m.\u001b[0m\u001b[0mshape\u001b[0m\u001b[0;34m)\u001b[0m\u001b[0;34m)\u001b[0m\u001b[0;34m)\u001b[0m\u001b[0;34m\u001b[0m\u001b[0;34m\u001b[0m\u001b[0m\n\u001b[0m\u001b[1;32m    794\u001b[0m     \u001b[0;32melse\u001b[0m\u001b[0;34m:\u001b[0m\u001b[0;34m\u001b[0m\u001b[0;34m\u001b[0m\u001b[0m\n\u001b[1;32m    795\u001b[0m       \u001b[0;32mraise\u001b[0m \u001b[0mTypeError\u001b[0m\u001b[0;34m(\u001b[0m\u001b[0mmsg\u001b[0m\u001b[0;34m(\u001b[0m\u001b[0;34m\"had abstract value {}\"\u001b[0m\u001b[0;34m.\u001b[0m\u001b[0mformat\u001b[0m\u001b[0;34m(\u001b[0m\u001b[0maval\u001b[0m\u001b[0;34m)\u001b[0m\u001b[0;34m)\u001b[0m\u001b[0;34m)\u001b[0m\u001b[0;34m\u001b[0m\u001b[0;34m\u001b[0m\u001b[0m\n",
            "\u001b[0;31mTypeError\u001b[0m: Gradient only defined for scalar-output functions. Output had shape: (6,)."
          ]
        }
      ]
    },
    {
      "cell_type": "code",
      "metadata": {
        "id": "I731KSzeULe_"
      },
      "source": [
        ""
      ],
      "execution_count": null,
      "outputs": []
    }
  ]
}