{
  "nbformat": 4,
  "nbformat_minor": 0,
  "metadata": {
    "kernelspec": {
      "display_name": "Python 3",
      "language": "python",
      "name": "python3"
    },
    "language_info": {
      "codemirror_mode": {
        "name": "ipython",
        "version": 3
      },
      "file_extension": ".py",
      "mimetype": "text/x-python",
      "name": "python",
      "nbconvert_exporter": "python",
      "pygments_lexer": "ipython3",
      "version": "3.7.6"
    },
    "colab": {
      "name": "JAX Example.ipynb",
      "provenance": [],
      "toc_visible": true
    },
    "accelerator": "GPU"
  },
  "cells": [
    {
      "cell_type": "code",
      "metadata": {
        "id": "T0KWB8YHa-9_"
      },
      "source": [
        "from sklearn import datasets\n",
        "from sklearn.model_selection import train_test_split\n",
        "from sklearn.metrics import accuracy_score, precision_score, recall_score, roc_auc_score\n",
        "import matplotlib.pyplot as plt\n",
        "import time"
      ],
      "execution_count": 36,
      "outputs": []
    },
    {
      "cell_type": "code",
      "metadata": {
        "id": "spQFes7Ra--K"
      },
      "source": [
        "digits = datasets.load_digits()\n",
        "features = digits['data']\n",
        "target = digits['target'] "
      ],
      "execution_count": 37,
      "outputs": []
    },
    {
      "cell_type": "code",
      "metadata": {
        "colab": {
          "base_uri": "https://localhost:8080/"
        },
        "id": "Lv25fAara--L",
        "outputId": "213996eb-b79f-4d7f-840b-a6cea2cedeb5"
      },
      "source": [
        "train_x, test_x, train_y, test_y = train_test_split(features, target, test_size=0.33)\n",
        "\n",
        "print(train_x.shape)\n",
        "print(train_y.shape)\n",
        "print(test_x.shape)\n",
        "print(test_y.shape)"
      ],
      "execution_count": 38,
      "outputs": [
        {
          "output_type": "stream",
          "text": [
            "(1203, 64)\n",
            "(1203,)\n",
            "(594, 64)\n",
            "(594,)\n"
          ],
          "name": "stdout"
        }
      ]
    },
    {
      "cell_type": "markdown",
      "metadata": {
        "id": "aO3bvbewa--M"
      },
      "source": [
        "# Pytorch"
      ]
    },
    {
      "cell_type": "code",
      "metadata": {
        "id": "Ix1O3vs4a--N"
      },
      "source": [
        "import torch.nn as nn\n",
        "import torch.optim as optim\n",
        "import torch\n",
        "from torch.utils.data import DataLoader, TensorDataset"
      ],
      "execution_count": 39,
      "outputs": []
    },
    {
      "cell_type": "code",
      "metadata": {
        "id": "ycD5DQlqa--N"
      },
      "source": [
        "# 格式转化\n",
        "pytorch_train_x = torch.tensor(train_x, dtype=torch.float32)\n",
        "pytorch_train_y = torch.tensor(train_y, dtype=torch.long)\n",
        "\n",
        "pytorch_test_x = torch.tensor(test_x, dtype=torch.float32)\n",
        "pytorch_test_y = torch.tensor(test_y, dtype=torch.long)\n",
        "\n",
        "# 装进数据容器分批\n",
        "data = TensorDataset(pytorch_train_x, pytorch_train_y)\n",
        "dataset = DataLoader(data, 64)"
      ],
      "execution_count": 40,
      "outputs": []
    },
    {
      "cell_type": "code",
      "metadata": {
        "id": "bmlKIXMua--O"
      },
      "source": [
        "class Model(nn.Module):\n",
        "    def __init__(self):\n",
        "        super(Model, self).__init__()\n",
        "        \n",
        "        self.fc1 = nn.Linear(64, 128)\n",
        "        self.fc2 = nn.Linear(128, 256)\n",
        "        self.fc3 = nn.Linear(256, 512)\n",
        "        self.fc4 = nn.Linear(512, 256)\n",
        "        self.fc5 = nn.Linear(256, 128)\n",
        "        self.fc6 = nn.Linear(128, 64)\n",
        "        self.fc7 = nn.Linear(64, 10)\n",
        "        self.softmax = nn.Softmax(dim=1)\n",
        "        self.relu = nn.ReLU()\n",
        "        \n",
        "    def forward(self, x):\n",
        "        x = self.relu(self.fc1(x))\n",
        "        x = self.relu(self.fc2(x))\n",
        "        x = self.relu(self.fc3(x))\n",
        "        x = self.relu(self.fc4(x))\n",
        "        x = self.relu(self.fc5(x))\n",
        "        x = self.relu(self.fc6(x))\n",
        "        result = self.fc7(x)\n",
        "        return result\n",
        "    \n",
        "    def predict(self, x):\n",
        "        result = self.softmax(self(x)).sort()[1][:,-1]\n",
        "        return result"
      ],
      "execution_count": 41,
      "outputs": []
    },
    {
      "cell_type": "markdown",
      "metadata": {
        "id": "ZKa-kW3FeIXr"
      },
      "source": [
        "### CPU Version"
      ]
    },
    {
      "cell_type": "code",
      "metadata": {
        "id": "QuOm2lZxeLSa"
      },
      "source": [
        "model = Model()\n",
        "optimizer = optim.Adam(model.parameters())\n",
        "loss_fun = nn.CrossEntropyLoss()"
      ],
      "execution_count": 42,
      "outputs": []
    },
    {
      "cell_type": "code",
      "metadata": {
        "id": "V1VrOZ_meLhi",
        "outputId": "9f01db1f-aa91-4dc6-981d-73c90a86f60f",
        "colab": {
          "base_uri": "https://localhost:8080/"
        }
      },
      "source": [
        "%%time\n",
        "# 训练\n",
        "for i in range(100):\n",
        "    loss_record = 0\n",
        "    start_time = time.time()\n",
        "    \n",
        "    for batch, (x, y) in enumerate(dataset):\n",
        "        optimizer.zero_grad()\n",
        "        y_pre = model(x)\n",
        "        \n",
        "        loss = loss_fun(y_pre, y)\n",
        "        loss.backward()\n",
        "        optimizer.step()\n",
        "        \n",
        "        loss_record += loss.item()\n",
        "    \n",
        "    duration = time.time() - start_time\n",
        "    \n",
        "    predict = model.predict(pytorch_test_x).numpy()\n",
        "    acc_score = accuracy_score(predict, pytorch_test_y.numpy())\n",
        "    \n",
        "    print('Epoch: {}, time: {:.3f}s, Loss: {:.3f}, Acc: {:.2f}%'.format(i+1, duration, loss_record/batch, acc_score*100))"
      ],
      "execution_count": 43,
      "outputs": [
        {
          "output_type": "stream",
          "text": [
            "Epoch: 1, time: 0.282s, Loss: 1.881, Acc: 69.70%\n",
            "Epoch: 2, time: 0.132s, Loss: 0.646, Acc: 89.90%\n",
            "Epoch: 3, time: 0.137s, Loss: 0.283, Acc: 93.60%\n",
            "Epoch: 4, time: 0.152s, Loss: 0.150, Acc: 93.27%\n",
            "Epoch: 5, time: 0.126s, Loss: 0.145, Acc: 92.59%\n",
            "Epoch: 6, time: 0.132s, Loss: 0.110, Acc: 95.12%\n",
            "Epoch: 7, time: 0.139s, Loss: 0.054, Acc: 95.45%\n",
            "Epoch: 8, time: 0.134s, Loss: 0.034, Acc: 94.61%\n",
            "Epoch: 9, time: 0.122s, Loss: 0.033, Acc: 96.80%\n",
            "Epoch: 10, time: 0.124s, Loss: 0.025, Acc: 96.13%\n",
            "Epoch: 11, time: 0.133s, Loss: 0.018, Acc: 96.13%\n",
            "Epoch: 12, time: 0.120s, Loss: 0.034, Acc: 94.11%\n",
            "Epoch: 13, time: 0.120s, Loss: 0.032, Acc: 95.79%\n",
            "Epoch: 14, time: 0.116s, Loss: 0.015, Acc: 96.30%\n",
            "Epoch: 15, time: 0.117s, Loss: 0.006, Acc: 97.31%\n",
            "Epoch: 16, time: 0.118s, Loss: 0.004, Acc: 96.13%\n",
            "Epoch: 17, time: 0.121s, Loss: 0.008, Acc: 97.31%\n",
            "Epoch: 18, time: 0.117s, Loss: 0.008, Acc: 96.30%\n",
            "Epoch: 19, time: 0.126s, Loss: 0.018, Acc: 95.45%\n",
            "Epoch: 20, time: 0.124s, Loss: 0.031, Acc: 94.44%\n",
            "Epoch: 21, time: 0.116s, Loss: 0.049, Acc: 95.12%\n",
            "Epoch: 22, time: 0.119s, Loss: 0.014, Acc: 95.29%\n",
            "Epoch: 23, time: 0.123s, Loss: 0.064, Acc: 93.94%\n",
            "Epoch: 24, time: 0.114s, Loss: 0.033, Acc: 95.96%\n",
            "Epoch: 25, time: 0.119s, Loss: 0.010, Acc: 96.30%\n",
            "Epoch: 26, time: 0.115s, Loss: 0.006, Acc: 95.62%\n",
            "Epoch: 27, time: 0.118s, Loss: 0.007, Acc: 95.96%\n",
            "Epoch: 28, time: 0.118s, Loss: 0.003, Acc: 97.14%\n",
            "Epoch: 29, time: 0.114s, Loss: 0.001, Acc: 97.14%\n",
            "Epoch: 30, time: 0.125s, Loss: 0.000, Acc: 96.97%\n",
            "Epoch: 31, time: 0.126s, Loss: 0.000, Acc: 96.97%\n",
            "Epoch: 32, time: 0.115s, Loss: 0.000, Acc: 96.97%\n",
            "Epoch: 33, time: 0.121s, Loss: 0.000, Acc: 96.97%\n",
            "Epoch: 34, time: 0.145s, Loss: 0.000, Acc: 96.97%\n",
            "Epoch: 35, time: 0.152s, Loss: 0.000, Acc: 96.97%\n",
            "Epoch: 36, time: 0.151s, Loss: 0.000, Acc: 96.97%\n",
            "Epoch: 37, time: 0.169s, Loss: 0.000, Acc: 96.97%\n",
            "Epoch: 38, time: 0.165s, Loss: 0.000, Acc: 96.97%\n",
            "Epoch: 39, time: 0.184s, Loss: 0.000, Acc: 96.97%\n",
            "Epoch: 40, time: 0.184s, Loss: 0.000, Acc: 96.97%\n",
            "Epoch: 41, time: 0.182s, Loss: 0.000, Acc: 96.97%\n",
            "Epoch: 42, time: 0.170s, Loss: 0.000, Acc: 96.97%\n",
            "Epoch: 43, time: 0.171s, Loss: 0.000, Acc: 96.97%\n",
            "Epoch: 44, time: 0.160s, Loss: 0.000, Acc: 96.97%\n",
            "Epoch: 45, time: 0.161s, Loss: 0.000, Acc: 96.97%\n",
            "Epoch: 46, time: 0.158s, Loss: 0.000, Acc: 96.97%\n",
            "Epoch: 47, time: 0.163s, Loss: 0.000, Acc: 96.97%\n",
            "Epoch: 48, time: 0.157s, Loss: 0.000, Acc: 96.97%\n",
            "Epoch: 49, time: 0.161s, Loss: 0.000, Acc: 96.97%\n",
            "Epoch: 50, time: 0.162s, Loss: 0.000, Acc: 96.97%\n",
            "Epoch: 51, time: 0.166s, Loss: 0.000, Acc: 96.97%\n",
            "Epoch: 52, time: 0.162s, Loss: 0.000, Acc: 96.97%\n",
            "Epoch: 53, time: 0.169s, Loss: 0.000, Acc: 96.97%\n",
            "Epoch: 54, time: 0.162s, Loss: 0.000, Acc: 96.97%\n",
            "Epoch: 55, time: 0.170s, Loss: 0.000, Acc: 96.97%\n",
            "Epoch: 56, time: 0.181s, Loss: 0.000, Acc: 96.97%\n",
            "Epoch: 57, time: 0.177s, Loss: 0.000, Acc: 96.97%\n",
            "Epoch: 58, time: 0.179s, Loss: 0.000, Acc: 96.97%\n",
            "Epoch: 59, time: 0.177s, Loss: 0.000, Acc: 96.97%\n",
            "Epoch: 60, time: 0.175s, Loss: 0.000, Acc: 96.97%\n",
            "Epoch: 61, time: 0.180s, Loss: 0.000, Acc: 96.97%\n",
            "Epoch: 62, time: 0.192s, Loss: 0.000, Acc: 96.97%\n",
            "Epoch: 63, time: 0.187s, Loss: 0.000, Acc: 96.97%\n",
            "Epoch: 64, time: 0.177s, Loss: 0.000, Acc: 96.97%\n",
            "Epoch: 65, time: 0.178s, Loss: 0.000, Acc: 96.97%\n",
            "Epoch: 66, time: 0.177s, Loss: 0.000, Acc: 96.97%\n",
            "Epoch: 67, time: 0.177s, Loss: 0.000, Acc: 96.97%\n",
            "Epoch: 68, time: 0.177s, Loss: 0.000, Acc: 96.97%\n",
            "Epoch: 69, time: 0.177s, Loss: 0.000, Acc: 96.97%\n",
            "Epoch: 70, time: 0.174s, Loss: 0.000, Acc: 96.97%\n",
            "Epoch: 71, time: 0.171s, Loss: 0.000, Acc: 96.97%\n",
            "Epoch: 72, time: 0.177s, Loss: 0.000, Acc: 96.97%\n",
            "Epoch: 73, time: 0.184s, Loss: 0.000, Acc: 96.97%\n",
            "Epoch: 74, time: 0.185s, Loss: 0.000, Acc: 96.97%\n",
            "Epoch: 75, time: 0.179s, Loss: 0.000, Acc: 96.97%\n",
            "Epoch: 76, time: 0.170s, Loss: 0.000, Acc: 96.97%\n",
            "Epoch: 77, time: 0.181s, Loss: 0.000, Acc: 96.97%\n",
            "Epoch: 78, time: 0.177s, Loss: 0.000, Acc: 96.97%\n",
            "Epoch: 79, time: 0.184s, Loss: 0.000, Acc: 96.97%\n",
            "Epoch: 80, time: 0.188s, Loss: 0.000, Acc: 96.97%\n",
            "Epoch: 81, time: 0.175s, Loss: 0.000, Acc: 96.97%\n",
            "Epoch: 82, time: 0.175s, Loss: 0.000, Acc: 96.97%\n",
            "Epoch: 83, time: 0.183s, Loss: 0.000, Acc: 96.97%\n",
            "Epoch: 84, time: 0.178s, Loss: 0.000, Acc: 96.97%\n",
            "Epoch: 85, time: 0.177s, Loss: 0.000, Acc: 96.97%\n",
            "Epoch: 86, time: 0.172s, Loss: 0.000, Acc: 96.97%\n",
            "Epoch: 87, time: 0.173s, Loss: 0.000, Acc: 96.97%\n",
            "Epoch: 88, time: 0.185s, Loss: 0.000, Acc: 96.97%\n",
            "Epoch: 89, time: 0.177s, Loss: 0.000, Acc: 96.97%\n",
            "Epoch: 90, time: 0.175s, Loss: 0.000, Acc: 96.97%\n",
            "Epoch: 91, time: 0.176s, Loss: 0.000, Acc: 96.97%\n",
            "Epoch: 92, time: 0.173s, Loss: 0.000, Acc: 96.97%\n",
            "Epoch: 93, time: 0.175s, Loss: 0.000, Acc: 96.97%\n",
            "Epoch: 94, time: 0.183s, Loss: 0.000, Acc: 96.97%\n",
            "Epoch: 95, time: 0.175s, Loss: 0.000, Acc: 96.97%\n",
            "Epoch: 96, time: 0.171s, Loss: 0.000, Acc: 96.97%\n",
            "Epoch: 97, time: 0.171s, Loss: 0.000, Acc: 96.97%\n",
            "Epoch: 98, time: 0.171s, Loss: 0.000, Acc: 96.97%\n",
            "Epoch: 99, time: 0.177s, Loss: 0.000, Acc: 96.97%\n",
            "Epoch: 100, time: 0.182s, Loss: 0.000, Acc: 96.97%\n",
            "CPU times: user 16.5 s, sys: 125 ms, total: 16.6 s\n",
            "Wall time: 16.7 s\n"
          ],
          "name": "stdout"
        }
      ]
    },
    {
      "cell_type": "markdown",
      "metadata": {
        "id": "kUnwOjaJeCqq"
      },
      "source": [
        "### GPU Version"
      ]
    },
    {
      "cell_type": "code",
      "metadata": {
        "scrolled": false,
        "id": "22Wx7Smea--O"
      },
      "source": [
        "device = torch.device(\"cuda:0\" if torch.cuda.is_available() else \"cpu\")\n",
        "pytorch_test_x, pytorch_test_y = pytorch_test_x.to(device), pytorch_test_y.to(device)\n",
        "model = Model().to(device)\n",
        "optimizer = optim.Adam(model.parameters())\n",
        "loss_fun = nn.CrossEntropyLoss()"
      ],
      "execution_count": 44,
      "outputs": []
    },
    {
      "cell_type": "code",
      "metadata": {
        "colab": {
          "base_uri": "https://localhost:8080/"
        },
        "id": "kaOMDBFNa--Q",
        "outputId": "ad5423ea-69d6-4b49-d56d-b4deb1484ca3"
      },
      "source": [
        "%%time\n",
        "# 训练\n",
        "for i in range(100):\n",
        "    loss_record = 0\n",
        "    start_time = time.time()\n",
        "    \n",
        "    for batch, (x, y) in enumerate(dataset):\n",
        "        optimizer.zero_grad()\n",
        "\n",
        "        x, y = x.to(device), y.to(device)\n",
        "        y_pre = model(x)\n",
        "        \n",
        "        loss = loss_fun(y_pre, y)\n",
        "        loss.backward()\n",
        "        optimizer.step()\n",
        "        \n",
        "        loss_record += loss.cpu().item()\n",
        "    \n",
        "    duration = time.time() - start_time\n",
        "    \n",
        "    predict = model.predict(pytorch_test_x).cpu().numpy()\n",
        "    acc_score = accuracy_score(predict, pytorch_test_y.cpu().numpy())\n",
        "    \n",
        "    print('Epoch: {}, time: {:.3f}s, Loss: {:.3f}, Acc: {:.2f}%'.format(i+1, duration, loss_record/batch, acc_score*100))"
      ],
      "execution_count": 45,
      "outputs": [
        {
          "output_type": "stream",
          "text": [
            "Epoch: 1, time: 0.073s, Loss: 1.852, Acc: 77.44%\n",
            "Epoch: 2, time: 0.069s, Loss: 0.503, Acc: 85.86%\n",
            "Epoch: 3, time: 0.070s, Loss: 0.354, Acc: 92.76%\n",
            "Epoch: 4, time: 0.071s, Loss: 0.178, Acc: 94.95%\n",
            "Epoch: 5, time: 0.070s, Loss: 0.102, Acc: 94.95%\n",
            "Epoch: 6, time: 0.068s, Loss: 0.071, Acc: 94.44%\n",
            "Epoch: 7, time: 0.071s, Loss: 0.053, Acc: 95.96%\n",
            "Epoch: 8, time: 0.074s, Loss: 0.041, Acc: 95.12%\n",
            "Epoch: 9, time: 0.076s, Loss: 0.047, Acc: 94.95%\n",
            "Epoch: 10, time: 0.073s, Loss: 0.027, Acc: 96.30%\n",
            "Epoch: 11, time: 0.073s, Loss: 0.019, Acc: 96.63%\n",
            "Epoch: 12, time: 0.070s, Loss: 0.022, Acc: 95.29%\n",
            "Epoch: 13, time: 0.075s, Loss: 0.011, Acc: 95.45%\n",
            "Epoch: 14, time: 0.071s, Loss: 0.009, Acc: 95.45%\n",
            "Epoch: 15, time: 0.069s, Loss: 0.005, Acc: 95.79%\n",
            "Epoch: 16, time: 0.076s, Loss: 0.011, Acc: 96.30%\n",
            "Epoch: 17, time: 0.069s, Loss: 0.004, Acc: 96.46%\n",
            "Epoch: 18, time: 0.070s, Loss: 0.012, Acc: 96.13%\n",
            "Epoch: 19, time: 0.078s, Loss: 0.007, Acc: 96.63%\n",
            "Epoch: 20, time: 0.071s, Loss: 0.006, Acc: 97.14%\n",
            "Epoch: 21, time: 0.068s, Loss: 0.018, Acc: 96.80%\n",
            "Epoch: 22, time: 0.070s, Loss: 0.016, Acc: 95.96%\n",
            "Epoch: 23, time: 0.072s, Loss: 0.030, Acc: 96.80%\n",
            "Epoch: 24, time: 0.068s, Loss: 0.009, Acc: 97.14%\n",
            "Epoch: 25, time: 0.084s, Loss: 0.041, Acc: 96.30%\n",
            "Epoch: 26, time: 0.073s, Loss: 0.074, Acc: 94.78%\n",
            "Epoch: 27, time: 0.069s, Loss: 0.030, Acc: 96.80%\n",
            "Epoch: 28, time: 0.074s, Loss: 0.015, Acc: 97.31%\n",
            "Epoch: 29, time: 0.069s, Loss: 0.006, Acc: 95.29%\n",
            "Epoch: 30, time: 0.070s, Loss: 0.009, Acc: 95.79%\n",
            "Epoch: 31, time: 0.072s, Loss: 0.049, Acc: 95.79%\n",
            "Epoch: 32, time: 0.068s, Loss: 0.033, Acc: 97.64%\n",
            "Epoch: 33, time: 0.068s, Loss: 0.006, Acc: 97.64%\n",
            "Epoch: 34, time: 0.070s, Loss: 0.004, Acc: 97.98%\n",
            "Epoch: 35, time: 0.072s, Loss: 0.001, Acc: 97.64%\n",
            "Epoch: 36, time: 0.069s, Loss: 0.000, Acc: 98.32%\n",
            "Epoch: 37, time: 0.075s, Loss: 0.000, Acc: 98.15%\n",
            "Epoch: 38, time: 0.069s, Loss: 0.000, Acc: 98.15%\n",
            "Epoch: 39, time: 0.070s, Loss: 0.000, Acc: 98.15%\n",
            "Epoch: 40, time: 0.076s, Loss: 0.000, Acc: 98.32%\n",
            "Epoch: 41, time: 0.069s, Loss: 0.000, Acc: 98.32%\n",
            "Epoch: 42, time: 0.068s, Loss: 0.000, Acc: 98.15%\n",
            "Epoch: 43, time: 0.071s, Loss: 0.000, Acc: 98.15%\n",
            "Epoch: 44, time: 0.070s, Loss: 0.000, Acc: 98.15%\n",
            "Epoch: 45, time: 0.067s, Loss: 0.000, Acc: 98.15%\n",
            "Epoch: 46, time: 0.070s, Loss: 0.000, Acc: 98.15%\n",
            "Epoch: 47, time: 0.067s, Loss: 0.000, Acc: 98.15%\n",
            "Epoch: 48, time: 0.068s, Loss: 0.000, Acc: 98.15%\n",
            "Epoch: 49, time: 0.074s, Loss: 0.000, Acc: 98.15%\n",
            "Epoch: 50, time: 0.068s, Loss: 0.000, Acc: 98.15%\n",
            "Epoch: 51, time: 0.067s, Loss: 0.000, Acc: 98.15%\n",
            "Epoch: 52, time: 0.075s, Loss: 0.000, Acc: 98.15%\n",
            "Epoch: 53, time: 0.068s, Loss: 0.000, Acc: 97.98%\n",
            "Epoch: 54, time: 0.079s, Loss: 0.000, Acc: 97.98%\n",
            "Epoch: 55, time: 0.099s, Loss: 0.000, Acc: 97.98%\n",
            "Epoch: 56, time: 0.067s, Loss: 0.000, Acc: 97.98%\n",
            "Epoch: 57, time: 0.068s, Loss: 0.000, Acc: 97.98%\n",
            "Epoch: 58, time: 0.076s, Loss: 0.000, Acc: 97.98%\n",
            "Epoch: 59, time: 0.070s, Loss: 0.000, Acc: 97.98%\n",
            "Epoch: 60, time: 0.075s, Loss: 0.000, Acc: 97.98%\n",
            "Epoch: 61, time: 0.070s, Loss: 0.000, Acc: 97.98%\n",
            "Epoch: 62, time: 0.067s, Loss: 0.000, Acc: 97.98%\n",
            "Epoch: 63, time: 0.071s, Loss: 0.000, Acc: 97.98%\n",
            "Epoch: 64, time: 0.070s, Loss: 0.000, Acc: 97.98%\n",
            "Epoch: 65, time: 0.072s, Loss: 0.000, Acc: 97.98%\n",
            "Epoch: 66, time: 0.069s, Loss: 0.000, Acc: 97.98%\n",
            "Epoch: 67, time: 0.071s, Loss: 0.000, Acc: 97.98%\n",
            "Epoch: 68, time: 0.070s, Loss: 0.000, Acc: 97.98%\n",
            "Epoch: 69, time: 0.067s, Loss: 0.000, Acc: 97.98%\n",
            "Epoch: 70, time: 0.072s, Loss: 0.000, Acc: 97.98%\n",
            "Epoch: 71, time: 0.071s, Loss: 0.000, Acc: 97.98%\n",
            "Epoch: 72, time: 0.068s, Loss: 0.000, Acc: 97.98%\n",
            "Epoch: 73, time: 0.070s, Loss: 0.000, Acc: 97.98%\n",
            "Epoch: 74, time: 0.066s, Loss: 0.000, Acc: 97.98%\n",
            "Epoch: 75, time: 0.067s, Loss: 0.000, Acc: 97.98%\n",
            "Epoch: 76, time: 0.072s, Loss: 0.000, Acc: 97.98%\n",
            "Epoch: 77, time: 0.067s, Loss: 0.000, Acc: 97.98%\n",
            "Epoch: 78, time: 0.069s, Loss: 0.000, Acc: 97.98%\n",
            "Epoch: 79, time: 0.074s, Loss: 0.000, Acc: 97.98%\n",
            "Epoch: 80, time: 0.071s, Loss: 0.000, Acc: 97.81%\n",
            "Epoch: 81, time: 0.068s, Loss: 0.000, Acc: 97.81%\n",
            "Epoch: 82, time: 0.075s, Loss: 0.000, Acc: 97.81%\n",
            "Epoch: 83, time: 0.078s, Loss: 0.000, Acc: 97.81%\n",
            "Epoch: 84, time: 0.072s, Loss: 0.000, Acc: 97.81%\n",
            "Epoch: 85, time: 0.070s, Loss: 0.000, Acc: 97.81%\n",
            "Epoch: 86, time: 0.068s, Loss: 0.000, Acc: 97.81%\n",
            "Epoch: 87, time: 0.069s, Loss: 0.000, Acc: 97.81%\n",
            "Epoch: 88, time: 0.071s, Loss: 0.000, Acc: 97.98%\n",
            "Epoch: 89, time: 0.067s, Loss: 0.000, Acc: 97.98%\n",
            "Epoch: 90, time: 0.068s, Loss: 0.000, Acc: 97.98%\n",
            "Epoch: 91, time: 0.069s, Loss: 0.000, Acc: 97.81%\n",
            "Epoch: 92, time: 0.069s, Loss: 0.000, Acc: 97.81%\n",
            "Epoch: 93, time: 0.068s, Loss: 0.000, Acc: 97.81%\n",
            "Epoch: 94, time: 0.077s, Loss: 0.000, Acc: 97.81%\n",
            "Epoch: 95, time: 0.066s, Loss: 0.000, Acc: 97.81%\n",
            "Epoch: 96, time: 0.069s, Loss: 0.000, Acc: 97.81%\n",
            "Epoch: 97, time: 0.073s, Loss: 0.000, Acc: 97.81%\n",
            "Epoch: 98, time: 0.068s, Loss: 0.000, Acc: 97.81%\n",
            "Epoch: 99, time: 0.069s, Loss: 0.000, Acc: 97.81%\n",
            "Epoch: 100, time: 0.071s, Loss: 0.000, Acc: 97.81%\n",
            "CPU times: user 7.01 s, sys: 117 ms, total: 7.13 s\n",
            "Wall time: 7.21 s\n"
          ],
          "name": "stdout"
        }
      ]
    },
    {
      "cell_type": "code",
      "metadata": {
        "id": "pOUugjsmbyGG"
      },
      "source": [
        ""
      ],
      "execution_count": 45,
      "outputs": []
    }
  ]
}